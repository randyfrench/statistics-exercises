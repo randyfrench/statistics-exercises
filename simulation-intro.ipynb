{
 "cells": [
  {
   "cell_type": "code",
   "execution_count": 1,
   "id": "otherwise-living",
   "metadata": {},
   "outputs": [],
   "source": [
    "import numpy as np\n",
    "import pandas as pd"
   ]
  },
  {
   "cell_type": "markdown",
   "id": "twelve-settle",
   "metadata": {},
   "source": [
    "# Simulations == Monte Carlo Method\n",
    "- Simulation is running an experiment\n",
    "- Trial is the number of items in each experiment\n",
    "\n",
    "## How to run a simulation with Python/Numpy/Pandas\n",
    "1. Figure out a way to represent our data\n",
    "2. Create a matrix of random data, rows = simulations, columns = trial\n",
    "    - For example, rolling 2 dice 10,000 times means rows=10,000 and columns = 2 because we roll 2 dice each time.\n",
    "3. Apply an aggregate function, row-wise to get the results of the simulation\n",
    "4. Apply a final aggregate to get our probability"
   ]
  },
  {
   "cell_type": "code",
   "execution_count": 2,
   "id": "corresponding-lobby",
   "metadata": {},
   "outputs": [
    {
     "data": {
      "text/plain": [
       "array(['Tails', 'Tails', 'Tails', 'Tails', 'Heads'], dtype='<U5')"
      ]
     },
     "execution_count": 2,
     "metadata": {},
     "output_type": "execute_result"
    }
   ],
   "source": [
    "# Let's answer questions experimentally rather than theoretically\n",
    "# What's the probability of flipping \"Heads\" on a coin?\n",
    "\n",
    "# Let's flip a coin 100,000 times and figure out the probability of flipping \"Heads\"\n",
    "\n",
    "# Let's find a way to represent out data\n",
    "outcomes = [\"Heads\", \"Tails\"] # list of strings\n",
    "n_simulations = 1_000_000\n",
    "\n",
    "flips = np.random.choice(outcomes,  size=n_simulations)# from an array like pandas series, numpy; size is the how\n",
    "                                                        # many times to run the simulations\n",
    "flips[0:5] # python has no .head() so this is how we show first five"
   ]
  },
  {
   "cell_type": "code",
   "execution_count": 3,
   "id": "advance-wellington",
   "metadata": {},
   "outputs": [
    {
     "data": {
      "text/plain": [
       "0.499972"
      ]
     },
     "execution_count": 3,
     "metadata": {},
     "output_type": "execute_result"
    }
   ],
   "source": [
    "# After flipping one million coins, our experiemental probability of flipping heads is:\n",
    "(flips == \"Heads\").mean() # comparison operator gives you a list of boolean values, mean gives you the avg of \n",
    "                            # what you put in to compare"
   ]
  },
  {
   "cell_type": "code",
   "execution_count": 4,
   "id": "patent-companion",
   "metadata": {
    "scrolled": true
   },
   "outputs": [
    {
     "data": {
      "text/plain": [
       "0.167"
      ]
     },
     "execution_count": 4,
     "metadata": {},
     "output_type": "execute_result"
    }
   ],
   "source": [
    "# Another example: What is the probability of rolling a 5 on a 6 sided die?\n",
    "\n",
    "# Step 1, represent our data's outcomes\n",
    "outcomes = [1, 2, 3, 4, 5, 6]\n",
    "\n",
    "# Step 2, create the data\n",
    "n_simulations = 10_000\n",
    "\n",
    "rolls = np.random.choice(outcomes, size=n_simulations)\n",
    "\n",
    "# What are the chances we roll a 5?\n",
    "(rolls == 5).mean()"
   ]
  },
  {
   "cell_type": "code",
   "execution_count": 5,
   "id": "trying-migration",
   "metadata": {},
   "outputs": [
    {
     "data": {
      "text/plain": [
       "array([6, 2, 5, 3, 2, 6, 3, 3, 3, 2])"
      ]
     },
     "execution_count": 5,
     "metadata": {},
     "output_type": "execute_result"
    }
   ],
   "source": [
    "(rolls)[0:10]"
   ]
  },
  {
   "cell_type": "code",
   "execution_count": 6,
   "id": "massive-training",
   "metadata": {},
   "outputs": [
    {
     "data": {
      "text/plain": [
       "array([False, False,  True, False, False, False, False, False, False,\n",
       "       False])"
      ]
     },
     "execution_count": 6,
     "metadata": {},
     "output_type": "execute_result"
    }
   ],
   "source": [
    "(rolls == 5)[0:10]"
   ]
  },
  {
   "cell_type": "code",
   "execution_count": 7,
   "id": "recent-owner",
   "metadata": {},
   "outputs": [
    {
     "data": {
      "text/plain": [
       "0.167"
      ]
     },
     "execution_count": 7,
     "metadata": {},
     "output_type": "execute_result"
    }
   ],
   "source": [
    "# what's the probability of rolling a 5?\n",
    "# sum up the count of times the roll was 5\n",
    "# divide by the total number of rolls\n",
    "number_of_fives_rolled = (rolls == 5).sum()\n",
    "total_number_of_rolls = len(rolls)\n",
    "number_of_fives_rolled / total_number_of_rolls"
   ]
  },
  {
   "cell_type": "code",
   "execution_count": 8,
   "id": "bored-telescope",
   "metadata": {},
   "outputs": [
    {
     "data": {
      "text/plain": [
       "0.167"
      ]
     },
     "execution_count": 8,
     "metadata": {},
     "output_type": "execute_result"
    }
   ],
   "source": [
    "(rolls == 5).mean()"
   ]
  },
  {
   "cell_type": "code",
   "execution_count": 9,
   "id": "extended-burke",
   "metadata": {},
   "outputs": [
    {
     "data": {
      "text/plain": [
       "0.3312"
      ]
     },
     "execution_count": 9,
     "metadata": {},
     "output_type": "execute_result"
    }
   ],
   "source": [
    "# What is the probability we'll roll a 5 or a 6 on a 6 sided die?\n",
    "(rolls >= 5).mean()"
   ]
  },
  {
   "cell_type": "code",
   "execution_count": 10,
   "id": "generous-david",
   "metadata": {},
   "outputs": [
    {
     "data": {
      "text/plain": [
       "0.3373"
      ]
     },
     "execution_count": 10,
     "metadata": {},
     "output_type": "execute_result"
    }
   ],
   "source": [
    "# What is the probabiliyt of rolling less than a 3 (but not including 3)\n",
    "(rolls < 3).mean()"
   ]
  },
  {
   "cell_type": "code",
   "execution_count": 11,
   "id": "backed-budapest",
   "metadata": {},
   "outputs": [
    {
     "data": {
      "text/plain": [
       "0.835"
      ]
     },
     "execution_count": 11,
     "metadata": {},
     "output_type": "execute_result"
    }
   ],
   "source": [
    "# What are the chances we roll something other than 3\n",
    "(rolls != 3).mean()"
   ]
  },
  {
   "cell_type": "markdown",
   "id": "treated-hometown",
   "metadata": {},
   "source": [
    "## Let's Roll 2 Dice at Once!\n",
    "\n",
    "1. Figure out a way to represent the data\n",
    "2. Create a matrix of random data, rows=simulations, columns=trials\n",
    "3. Apply an aggregagte row-wise to get the result of each simulation\n",
    "4. Apply a final aggregate (probably the .mean) to get our probability"
   ]
  },
  {
   "cell_type": "code",
   "execution_count": 12,
   "id": "parental-montana",
   "metadata": {},
   "outputs": [
    {
     "data": {
      "text/plain": [
       "(1000000, 2)"
      ]
     },
     "execution_count": 12,
     "metadata": {},
     "output_type": "execute_result"
    }
   ],
   "source": [
    "# What are the odds of rolling Snake Eyes on two dice?\n",
    "\n",
    "# Step 1 Represent our outcomes\n",
    "outcomes = [1, 2, 3, 4, 5, 6]\n",
    "\n",
    "# Step 2: Create a matrix of random data where rows=simulations, columns=trial\n",
    "\n",
    "# Simulation = the number of times we run the experiment\n",
    "# Trials = the number of things in each experiment\n",
    "n_simulations = 1_000_000\n",
    "n_trials = 2 # b/c we're rolling 2 dice with each experiment\n",
    "\n",
    "# size argument can set our simulation and trial size\n",
    "rolls = np.random.choice(outcomes, size=(n_simulations, n_trials))\n",
    "rolls.shape"
   ]
  },
  {
   "cell_type": "code",
   "execution_count": 13,
   "id": "remarkable-shock",
   "metadata": {},
   "outputs": [
    {
     "data": {
      "text/plain": [
       "array([[3, 5],\n",
       "       [3, 3],\n",
       "       [1, 5],\n",
       "       [6, 2],\n",
       "       [5, 6]])"
      ]
     },
     "execution_count": 13,
     "metadata": {},
     "output_type": "execute_result"
    }
   ],
   "source": [
    "rolls[0:5]"
   ]
  },
  {
   "cell_type": "code",
   "execution_count": 14,
   "id": "genuine-evolution",
   "metadata": {},
   "outputs": [
    {
     "data": {
      "text/plain": [
       "array([ 8,  6,  6,  8, 11])"
      ]
     },
     "execution_count": 14,
     "metadata": {},
     "output_type": "execute_result"
    }
   ],
   "source": [
    "# Step 3: Apply an aggregate row-wise\n",
    "# axis=1 means sum across the rows\n",
    "sum_of_rolls = rolls.sum(axis=1)\n",
    "sum_of_rolls[0:5]"
   ]
  },
  {
   "cell_type": "code",
   "execution_count": 15,
   "id": "western-probe",
   "metadata": {},
   "outputs": [],
   "source": [
    "# Axis=0 means sum up the entire column. \n",
    "# If you don't put an axis, the default is 0\n",
    "# rolls.sum(axis=0)"
   ]
  },
  {
   "cell_type": "code",
   "execution_count": 16,
   "id": "rising-trunk",
   "metadata": {},
   "outputs": [
    {
     "data": {
      "text/plain": [
       "0.027799"
      ]
     },
     "execution_count": 16,
     "metadata": {},
     "output_type": "execute_result"
    }
   ],
   "source": [
    "# Step 4.\n",
    "# Add up all the times that an experiment produces the sum of 2\n",
    "(sum_of_rolls == 2).mean()"
   ]
  },
  {
   "cell_type": "code",
   "execution_count": 17,
   "id": "aquatic-coupon",
   "metadata": {},
   "outputs": [
    {
     "name": "stdout",
     "output_type": "stream",
     "text": [
      "Our theoretical probability of rolling snake eyes is 1/6 * 1/6, which is 0.027777777777777776\n"
     ]
    }
   ],
   "source": [
    "theoretical = 1/6 * 1/6\n",
    "print(f\"Our theoretical probability of rolling snake eyes is 1/6 * 1/6, which is {theoretical}\")"
   ]
  },
  {
   "cell_type": "code",
   "execution_count": 18,
   "id": "chronic-evanescence",
   "metadata": {},
   "outputs": [
    {
     "data": {
      "text/plain": [
       "array([[3, 1],\n",
       "       [1, 4],\n",
       "       [6, 2],\n",
       "       [5, 4]])"
      ]
     },
     "execution_count": 18,
     "metadata": {},
     "output_type": "execute_result"
    }
   ],
   "source": [
    "# What is the probability of rolling a 7 on two dice\n",
    "# 1+6, 2+5, 3+4, 4+3, 5+2, 6+1\n",
    "\n",
    "# step 1: represent our outcomes\n",
    "outcomes = [1, 2, 3, 4, 5, 6]\n",
    "\n",
    "# Step 2: generate a matrix of random outcomes, simulations = rows, trials = columns\n",
    "# size=(simulations, trials)\n",
    "# size=(experiements, number_of_dice per experiment)\n",
    "rolls = np.random.choice(outcomes, size=(10_000, 2))\n",
    "rolls[0:4]"
   ]
  },
  {
   "cell_type": "code",
   "execution_count": 19,
   "id": "chemical-korea",
   "metadata": {},
   "outputs": [
    {
     "data": {
      "text/plain": [
       "array([4, 5, 8, 9])"
      ]
     },
     "execution_count": 19,
     "metadata": {},
     "output_type": "execute_result"
    }
   ],
   "source": [
    "# Step 3, apply a row-wise aggregate\n",
    "# axis=1 to apply sum to rows\n",
    "sum_of_rolls = rolls.sum(axis=1)\n",
    "sum_of_rolls[0:4]"
   ]
  },
  {
   "cell_type": "code",
   "execution_count": 20,
   "id": "christian-farming",
   "metadata": {},
   "outputs": [
    {
     "name": "stdout",
     "output_type": "stream",
     "text": [
      "The experimental probability of rolling a sum of 7 on two dice at once is 0.1697\n"
     ]
    }
   ],
   "source": [
    "p = (sum_of_rolls == 7).mean()\n",
    "print(f\"The experimental probability of rolling a sum of 7 on two dice at once is {p}\")"
   ]
  },
  {
   "cell_type": "code",
   "execution_count": 21,
   "id": "conditional-lawyer",
   "metadata": {},
   "outputs": [
    {
     "data": {
      "text/plain": [
       "(array([2, 5, 2]), array([1, 6, 4]))"
      ]
     },
     "execution_count": 21,
     "metadata": {},
     "output_type": "execute_result"
    }
   ],
   "source": [
    "# What's the probability of rolling 2 pips on 2 dice\n",
    "outcomes = [1, 2, 3, 4, 5, 6]\n",
    "n_simulations = 10_000\n",
    "\n",
    "die1 = np.random.choice(outcomes, size=n_simulations)\n",
    "die2 = np.random.choice(outcomes, size=n_simulations)\n",
    "\n",
    "# Each array here shares an index where index = simulation_number\n",
    "die1[0:3], die2[0:3]"
   ]
  },
  {
   "cell_type": "code",
   "execution_count": 22,
   "id": "juvenile-details",
   "metadata": {},
   "outputs": [
    {
     "data": {
      "text/plain": [
       "array([ True, False,  True, False, False,  True,  True, False, False,\n",
       "       False])"
      ]
     },
     "execution_count": 22,
     "metadata": {},
     "output_type": "execute_result"
    }
   ],
   "source": [
    "(die1 == 2)[0:10]"
   ]
  },
  {
   "cell_type": "code",
   "execution_count": 23,
   "id": "amateur-principal",
   "metadata": {},
   "outputs": [
    {
     "data": {
      "text/plain": [
       "array([False, False, False, False, False, False, False,  True, False,\n",
       "       False])"
      ]
     },
     "execution_count": 23,
     "metadata": {},
     "output_type": "execute_result"
    }
   ],
   "source": [
    "(die2 == 2)[0:10]"
   ]
  },
  {
   "cell_type": "code",
   "execution_count": 24,
   "id": "spread-cyprus",
   "metadata": {},
   "outputs": [
    {
     "data": {
      "text/plain": [
       "array([False, False, False, False, False, False, False, False, False,\n",
       "       False])"
      ]
     },
     "execution_count": 24,
     "metadata": {},
     "output_type": "execute_result"
    }
   ],
   "source": [
    "# ((die1 == 2) & (die2 == 2))[0:10]\n",
    "d1_rolled_2 = die1 == 2\n",
    "d2_rolled_2 = die2 == 2\n",
    "\n",
    "# d1_rolled_2[0:5], d2_rolled_2[0:5]\n",
    "both_rolled_2 = d1_rolled_2 & d2_rolled_2\n",
    "both_rolled_2[0:10]"
   ]
  },
  {
   "cell_type": "code",
   "execution_count": 42,
   "id": "9366ac16",
   "metadata": {},
   "outputs": [
    {
     "data": {
      "text/plain": [
       "0.0298"
      ]
     },
     "execution_count": 42,
     "metadata": {},
     "output_type": "execute_result"
    }
   ],
   "source": [
    "both_rolled_2.mean()"
   ]
  },
  {
   "cell_type": "code",
   "execution_count": 25,
   "id": "fifth-advertising",
   "metadata": {},
   "outputs": [
    {
     "data": {
      "text/plain": [
       "0.027777777777777776"
      ]
     },
     "execution_count": 25,
     "metadata": {},
     "output_type": "execute_result"
    }
   ],
   "source": [
    "1/6 * 1/6 # theorectical probability of rolling a 2 on one die is 1/6 and on a second die rolling a 2 is 1/6"
   ]
  },
  {
   "cell_type": "code",
   "execution_count": 26,
   "id": "single-natural",
   "metadata": {},
   "outputs": [
    {
     "data": {
      "text/plain": [
       "0.0279"
      ]
     },
     "execution_count": 26,
     "metadata": {},
     "output_type": "execute_result"
    }
   ],
   "source": [
    "# What are the experimental probabilities of rolling each possible sum\n",
    "df = pd.DataFrame()\n",
    "\n",
    "# possible sum outcomes from 2 dice\n",
    "df[\"outcome\"] = [2, 3, 4, 5, 6, 7, 8, 9, 10, 11, 12]\n",
    "\n",
    "# write a lil' function that gets the probability\n",
    "def get_prob(n): # takes in one number\n",
    "    return (sum_of_rolls == n).mean()\n",
    "\n",
    "get_prob(2)"
   ]
  },
  {
   "cell_type": "code",
   "execution_count": 27,
   "id": "decreased-force",
   "metadata": {},
   "outputs": [
    {
     "name": "stdout",
     "output_type": "stream",
     "text": [
      "Sum outcome of rolling 2 dice and the probability of seeing that outcome\n"
     ]
    },
    {
     "data": {
      "text/html": [
       "<div>\n",
       "<style scoped>\n",
       "    .dataframe tbody tr th:only-of-type {\n",
       "        vertical-align: middle;\n",
       "    }\n",
       "\n",
       "    .dataframe tbody tr th {\n",
       "        vertical-align: top;\n",
       "    }\n",
       "\n",
       "    .dataframe thead th {\n",
       "        text-align: right;\n",
       "    }\n",
       "</style>\n",
       "<table border=\"1\" class=\"dataframe\">\n",
       "  <thead>\n",
       "    <tr style=\"text-align: right;\">\n",
       "      <th></th>\n",
       "      <th>outcome</th>\n",
       "      <th>probability</th>\n",
       "    </tr>\n",
       "  </thead>\n",
       "  <tbody>\n",
       "    <tr>\n",
       "      <th>0</th>\n",
       "      <td>2</td>\n",
       "      <td>0.0279</td>\n",
       "    </tr>\n",
       "    <tr>\n",
       "      <th>1</th>\n",
       "      <td>3</td>\n",
       "      <td>0.0555</td>\n",
       "    </tr>\n",
       "    <tr>\n",
       "      <th>2</th>\n",
       "      <td>4</td>\n",
       "      <td>0.0820</td>\n",
       "    </tr>\n",
       "    <tr>\n",
       "      <th>3</th>\n",
       "      <td>5</td>\n",
       "      <td>0.1093</td>\n",
       "    </tr>\n",
       "    <tr>\n",
       "      <th>4</th>\n",
       "      <td>6</td>\n",
       "      <td>0.1378</td>\n",
       "    </tr>\n",
       "    <tr>\n",
       "      <th>5</th>\n",
       "      <td>7</td>\n",
       "      <td>0.1697</td>\n",
       "    </tr>\n",
       "    <tr>\n",
       "      <th>6</th>\n",
       "      <td>8</td>\n",
       "      <td>0.1410</td>\n",
       "    </tr>\n",
       "    <tr>\n",
       "      <th>7</th>\n",
       "      <td>9</td>\n",
       "      <td>0.1147</td>\n",
       "    </tr>\n",
       "    <tr>\n",
       "      <th>8</th>\n",
       "      <td>10</td>\n",
       "      <td>0.0811</td>\n",
       "    </tr>\n",
       "    <tr>\n",
       "      <th>9</th>\n",
       "      <td>11</td>\n",
       "      <td>0.0515</td>\n",
       "    </tr>\n",
       "    <tr>\n",
       "      <th>10</th>\n",
       "      <td>12</td>\n",
       "      <td>0.0295</td>\n",
       "    </tr>\n",
       "  </tbody>\n",
       "</table>\n",
       "</div>"
      ],
      "text/plain": [
       "    outcome  probability\n",
       "0         2       0.0279\n",
       "1         3       0.0555\n",
       "2         4       0.0820\n",
       "3         5       0.1093\n",
       "4         6       0.1378\n",
       "5         7       0.1697\n",
       "6         8       0.1410\n",
       "7         9       0.1147\n",
       "8        10       0.0811\n",
       "9        11       0.0515\n",
       "10       12       0.0295"
      ]
     },
     "execution_count": 27,
     "metadata": {},
     "output_type": "execute_result"
    }
   ],
   "source": [
    "# set the probability to its own column\n",
    "df[\"probability\"] = df.outcome.apply(get_prob)\n",
    "\n",
    "print(\"Sum outcome of rolling 2 dice and the probability of seeing that outcome\")\n",
    "df"
   ]
  },
  {
   "cell_type": "markdown",
   "id": "stunning-calgary",
   "metadata": {},
   "source": [
    "## Setting our own probabilities"
   ]
  },
  {
   "cell_type": "code",
   "execution_count": 28,
   "id": "intensive-humidity",
   "metadata": {},
   "outputs": [
    {
     "data": {
      "text/plain": [
       "0.5431"
      ]
     },
     "execution_count": 28,
     "metadata": {},
     "output_type": "execute_result"
    }
   ],
   "source": [
    "# Let's answer questions experimentally rather than theoretically\n",
    "# What's the probability of flipping \"Heads\" on an unfair coin? Heads 55% Tails 45%\n",
    "\n",
    "# Let's flip a coin 100,000 times and figure out the probability of flipping \"Heads\"\n",
    "\n",
    "# Let's find a way to represent out data\n",
    "outcomes = [\"Heads\", \"Tails\"]\n",
    "\n",
    "flips = np.random.choice(outcomes, size=(10_000, 1), p=[0.55, 0.45]) # the 1 is 1 coin flip at a time. P is\n",
    "                                                                    # probibility of heads 55% Tails 45%\n",
    "\n",
    "(flips == \"Heads\").mean()"
   ]
  },
  {
   "cell_type": "code",
   "execution_count": 45,
   "id": "returning-kentucky",
   "metadata": {},
   "outputs": [
    {
     "data": {
      "text/plain": [
       "array([[1, 0],\n",
       "       [1, 0],\n",
       "       [1, 1],\n",
       "       [1, 1],\n",
       "       [1, 0]])"
      ]
     },
     "execution_count": 45,
     "metadata": {},
     "output_type": "execute_result"
    }
   ],
   "source": [
    "# what are the chances of flipping two heads in a row?\n",
    "flips = np.random.choice(outcomes, size=(10_000, 2), p=[0.55, 0.45])\n",
    "flips[0:5]"
   ]
  },
  {
   "cell_type": "code",
   "execution_count": 30,
   "id": "ceramic-bottle",
   "metadata": {},
   "outputs": [
    {
     "data": {
      "text/plain": [
       "array([[0, 1],\n",
       "       [1, 1],\n",
       "       [1, 1],\n",
       "       [0, 1]])"
      ]
     },
     "execution_count": 30,
     "metadata": {},
     "output_type": "execute_result"
    }
   ],
   "source": [
    "# It'll be a bit easier to check for two heads if the head = 1 and tail is 0\n",
    "# might as well turn a binary into a binary\n",
    "\n",
    "# let's say Heads is 1 and Tails is 0\n",
    "outcomes = [1, 0]# changed it from \"Heads, Tails\" which gave boolean values to be 1, 0 to work better in suming\n",
    "flips = np.random.choice(outcomes, size=(100_000, 2), p=[0.55, 0.45])\n",
    "flips[0:4]"
   ]
  },
  {
   "cell_type": "code",
   "execution_count": 31,
   "id": "apparent-equality",
   "metadata": {},
   "outputs": [
    {
     "data": {
      "text/plain": [
       "array([1, 2, 2, ..., 1, 0, 0])"
      ]
     },
     "execution_count": 31,
     "metadata": {},
     "output_type": "execute_result"
    }
   ],
   "source": [
    "# axis=1 to sum across the rows, so we have as many sums as we had pairs of coin flips\n",
    "num_of_heads = flips.sum(axis=1)\n",
    "num_of_heads"
   ]
  },
  {
   "cell_type": "code",
   "execution_count": 32,
   "id": "apparent-medication",
   "metadata": {},
   "outputs": [
    {
     "data": {
      "text/plain": [
       "0.30046"
      ]
     },
     "execution_count": 32,
     "metadata": {},
     "output_type": "execute_result"
    }
   ],
   "source": [
    "(num_of_heads == 2).mean()"
   ]
  },
  {
   "cell_type": "code",
   "execution_count": 33,
   "id": "elementary-insulation",
   "metadata": {},
   "outputs": [
    {
     "data": {
      "text/plain": [
       "0.30250000000000005"
      ]
     },
     "execution_count": 33,
     "metadata": {},
     "output_type": "execute_result"
    }
   ],
   "source": [
    "# theoretical probability of flipping 2 unfair coin heads in a row\n",
    "0.55 * .55"
   ]
  },
  {
   "cell_type": "code",
   "execution_count": 34,
   "id": "bridal-setting",
   "metadata": {},
   "outputs": [
    {
     "data": {
      "text/plain": [
       "0.24874"
      ]
     },
     "execution_count": 34,
     "metadata": {},
     "output_type": "execute_result"
    }
   ],
   "source": [
    "# What if this is a fair coin?\n",
    "outcomes = [1, 0]\n",
    "flips = np.random.choice(outcomes, size=(100_000, 2))\n",
    "num_of_heads = flips.sum(axis=1)\n",
    "(num_of_heads == 2).mean()"
   ]
  },
  {
   "cell_type": "code",
   "execution_count": 35,
   "id": "complimentary-training",
   "metadata": {},
   "outputs": [
    {
     "data": {
      "text/plain": [
       "0.25"
      ]
     },
     "execution_count": 35,
     "metadata": {},
     "output_type": "execute_result"
    }
   ],
   "source": [
    "# theoretical probability of flipping two heads in a row\n",
    ".5 * .5"
   ]
  },
  {
   "cell_type": "code",
   "execution_count": 36,
   "id": "utility-frederick",
   "metadata": {},
   "outputs": [
    {
     "data": {
      "text/plain": [
       "(array([3, 3, 2, ..., 5, 3, 4]), array([2, 6, 6, ..., 5, 1, 5]))"
      ]
     },
     "execution_count": 36,
     "metadata": {},
     "output_type": "execute_result"
    }
   ],
   "source": [
    "# Rolling two dice at a time, what is the probability of rolling an odd and then and even?\n",
    "\n",
    "# Step 1 is represent the world in Pandas/Numpy \n",
    "first_die = np.random.choice([1, 2, 3, 4, 5, 6], size=100_000)\n",
    "second_die = np.random.choice([1, 2, 3, 4, 5, 6], size=100_000)\n",
    "\n",
    "first_die, second_die"
   ]
  },
  {
   "cell_type": "code",
   "execution_count": 46,
   "id": "canadian-lightning",
   "metadata": {},
   "outputs": [],
   "source": [
    "# We need to represent the results of the first die as an array of booleans\n",
    "first_die_is_odd = (first_die % 2 != 0)"
   ]
  },
  {
   "cell_type": "code",
   "execution_count": 38,
   "id": "suspected-concert",
   "metadata": {},
   "outputs": [],
   "source": [
    "second_die_is_even = (second_die % 2 == 0)"
   ]
  },
  {
   "cell_type": "code",
   "execution_count": 39,
   "id": "dress-merit",
   "metadata": {},
   "outputs": [
    {
     "data": {
      "text/plain": [
       "array([ True,  True, False, ..., False, False, False])"
      ]
     },
     "execution_count": 39,
     "metadata": {},
     "output_type": "execute_result"
    }
   ],
   "source": [
    "first_odd_second_even = (first_die_is_odd & second_die_is_even)\n",
    "first_odd_second_even"
   ]
  },
  {
   "cell_type": "code",
   "execution_count": 40,
   "id": "moved-emphasis",
   "metadata": {},
   "outputs": [
    {
     "data": {
      "text/plain": [
       "0.24996"
      ]
     },
     "execution_count": 40,
     "metadata": {},
     "output_type": "execute_result"
    }
   ],
   "source": [
    "first_odd_second_even.mean()"
   ]
  },
  {
   "cell_type": "code",
   "execution_count": 41,
   "id": "sunrise-louisville",
   "metadata": {},
   "outputs": [
    {
     "data": {
      "text/plain": [
       "0.25"
      ]
     },
     "execution_count": 41,
     "metadata": {},
     "output_type": "execute_result"
    }
   ],
   "source": [
    "# Theoretical probability\n",
    ".5 * .5"
   ]
  },
  {
   "cell_type": "code",
   "execution_count": null,
   "id": "abroad-tulsa",
   "metadata": {},
   "outputs": [],
   "source": []
  }
 ],
 "metadata": {
  "kernelspec": {
   "display_name": "Python 3",
   "language": "python",
   "name": "python3"
  },
  "language_info": {
   "codemirror_mode": {
    "name": "ipython",
    "version": 3
   },
   "file_extension": ".py",
   "mimetype": "text/x-python",
   "name": "python",
   "nbconvert_exporter": "python",
   "pygments_lexer": "ipython3",
   "version": "3.8.8"
  }
 },
 "nbformat": 4,
 "nbformat_minor": 5
}
