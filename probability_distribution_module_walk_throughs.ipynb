{
 "cells": [
  {
   "cell_type": "code",
   "execution_count": 1,
   "id": "f7d027d9",
   "metadata": {},
   "outputs": [],
   "source": [
    "import matplotlib.pyplot as plt\n",
    "import numpy as np\n",
    "from scipy import stats\n",
    "\n",
    "\n",
    "np.random.seed(123)"
   ]
  },
  {
   "cell_type": "code",
   "execution_count": 2,
   "id": "1230f3b9",
   "metadata": {},
   "outputs": [],
   "source": [
    "die_distribution = stats.randint(1, 7)"
   ]
  },
  {
   "cell_type": "code",
   "execution_count": 3,
   "id": "90381eee",
   "metadata": {},
   "outputs": [
    {
     "data": {
      "text/plain": [
       "6"
      ]
     },
     "execution_count": 3,
     "metadata": {},
     "output_type": "execute_result"
    }
   ],
   "source": [
    "die_distribution.rvs() # no arguments to get a single random value"
   ]
  },
  {
   "cell_type": "code",
   "execution_count": 4,
   "id": "c397251b",
   "metadata": {},
   "outputs": [
    {
     "data": {
      "text/plain": [
       "array([3, 5, 3, 2, 4])"
      ]
     },
     "execution_count": 4,
     "metadata": {},
     "output_type": "execute_result"
    }
   ],
   "source": [
    "die_distribution.rvs(5) # a single integer to get that many random values"
   ]
  },
  {
   "cell_type": "code",
   "execution_count": 5,
   "id": "c84182d4",
   "metadata": {},
   "outputs": [
    {
     "data": {
      "text/plain": [
       "array([[3, 4, 2, 2, 1],\n",
       "       [2, 2, 1, 1, 2],\n",
       "       [4, 6, 5, 1, 1],\n",
       "       [5, 2, 4, 3, 5],\n",
       "       [3, 5, 1, 6, 1]])"
      ]
     },
     "execution_count": 5,
     "metadata": {},
     "output_type": "execute_result"
    }
   ],
   "source": [
    "die_distribution.rvs((5, 5)) # a tuple with the dimensions of a matrix of random values"
   ]
  },
  {
   "cell_type": "code",
   "execution_count": 8,
   "id": "e01f404d",
   "metadata": {},
   "outputs": [
    {
     "data": {
      "text/plain": [
       "Text(0.5, 1.0, 'Outcome of 10,000 Dice Rolls')"
      ]
     },
     "execution_count": 8,
     "metadata": {},
     "output_type": "execute_result"
    },
    {
     "data": {
      "image/png": "[encoded data removed]",
      "text/plain": [
       "<Figure size 432x288 with 1 Axes>"
      ]
     },
     "metadata": {
      "needs_background": "light"
     },
     "output_type": "display_data"
    }
   ],
   "source": [
    "n = 10_000\n",
    "\n",
    "x = die_distribution.rvs(n)\n",
    "\n",
    "plt.hist(x, bins=range(0, 9), align='left', width=1, edgecolor='black')\n",
    "plt.title(f'Outcome of {n:,} Dice Rolls')"
   ]
  },
  {
   "cell_type": "code",
   "execution_count": 9,
   "id": "563964f8",
   "metadata": {},
   "outputs": [
    {
     "data": {
      "text/plain": [
       "0.16666666666666666"
      ]
     },
     "execution_count": 9,
     "metadata": {},
     "output_type": "execute_result"
    }
   ],
   "source": [
    "die_distribution.pmf(3) #The probability mass function (pmf) (probability density function (pdf) for continuous \n",
    "#distributions) is a function that gives us the probability of any single outcome. \n",
    "#For example, we could use the pmf to give us the probability of rolling a 3 with our dice rolling distribution:"
   ]
  },
  {
   "cell_type": "code",
   "execution_count": 11,
   "id": "825ca42b",
   "metadata": {},
   "outputs": [
    {
     "data": {
      "text/plain": [
       "array([0.16666667, 0.16666667, 0.16666667, 0.16666667, 0.16666667,\n",
       "       0.16666667])"
      ]
     },
     "execution_count": 11,
     "metadata": {},
     "output_type": "execute_result"
    }
   ],
   "source": [
    "die_distribution.pmf([1, 2, 3, 4, 5, 6]) # All of the functions that we discuss here can accept a single value \n",
    "# or a list of values and will produce either a single number, or a numpy array of results that correspond to the \n",
    "# inputs. For example, we can calculate multiple pmfs at once like this:"
   ]
  },
  {
   "cell_type": "code",
   "execution_count": 12,
   "id": "adb7e888",
   "metadata": {},
   "outputs": [
    {
     "data": {
      "text/plain": [
       "0.5"
      ]
     },
     "execution_count": 12,
     "metadata": {},
     "output_type": "execute_result"
    }
   ],
   "source": [
    "die_distribution.cdf(3) # The cumulative density function tells us the likelihood of a single outcome or all \n",
    "# the results below it. For our dice rolling example, this might be something like \"what is the probability of \n",
    "# rolling a 3 or lower?\""
   ]
  },
  {
   "cell_type": "code",
   "execution_count": 13,
   "id": "d9f181db",
   "metadata": {},
   "outputs": [
    {
     "data": {
      "text/plain": [
       "5.0"
      ]
     },
     "execution_count": 13,
     "metadata": {},
     "output_type": "execute_result"
    }
   ],
   "source": [
    "die_distribution.ppf(5/6) # The percent point function (ppf) (also known as the quantile function) can be thought \n",
    "# of as the inverse of the cdf. The ppf accepts a probability, and gives us the value that is associate with that \n",
    "# probability:"
   ]
  },
  {
   "cell_type": "code",
   "execution_count": 14,
   "id": "9a70f8da",
   "metadata": {},
   "outputs": [
    {
     "data": {
      "text/plain": [
       "0.33333333333333337"
      ]
     },
     "execution_count": 14,
     "metadata": {},
     "output_type": "execute_result"
    }
   ],
   "source": [
    "die_distribution.sf(4) #The survival function (sf) tells us what the probability of our random variable falling \n",
    "# above a certain value is. This is the same as 1 minus the cdf of the same value. We can use this to answer \n",
    "# questions like: \"What is the likelihood we roll a value higher than 4?\""
   ]
  },
  {
   "cell_type": "code",
   "execution_count": 15,
   "id": "a36fe3b5",
   "metadata": {},
   "outputs": [
    {
     "data": {
      "text/plain": [
       "4.0"
      ]
     },
     "execution_count": 15,
     "metadata": {},
     "output_type": "execute_result"
    }
   ],
   "source": [
    "die_distribution.isf(1/3) # Like the ppf, the inverse survival function (isf) will give us a value when we provide \n",
    "# a probability. For example: \"There is a 1/3 chance a dice roll will be higher than what value?\""
   ]
  },
  {
   "cell_type": "code",
   "execution_count": 16,
   "id": "36fb0d55",
   "metadata": {},
   "outputs": [
    {
     "data": {
      "text/plain": [
       "0.10572812269266013"
      ]
     },
     "execution_count": 16,
     "metadata": {},
     "output_type": "execute_result"
    }
   ],
   "source": [
    "stats.binom(30, .25).sf(10)"
   ]
  },
  {
   "cell_type": "code",
   "execution_count": 17,
   "id": "83bc04b6",
   "metadata": {},
   "outputs": [
    {
     "data": {
      "text/plain": [
       "0.3584859224085422"
      ]
     },
     "execution_count": 17,
     "metadata": {},
     "output_type": "execute_result"
    }
   ],
   "source": [
    "stats.binom(20, .05).pmf(0)"
   ]
  },
  {
   "cell_type": "code",
   "execution_count": 19,
   "id": "3b242a27",
   "metadata": {},
   "outputs": [
    {
     "name": "stdout",
     "output_type": "stream",
     "text": [
      "$14,563.10\n"
     ]
    }
   ],
   "source": [
    "sales = stats.norm(12000, 2000)\n",
    "top_10_percent_cutoff = sales.ppf(.9)\n",
    "print('${:,.2f}'.format(top_10_percent_cutoff))"
   ]
  },
  {
   "cell_type": "code",
   "execution_count": 21,
   "id": "8fb454db",
   "metadata": {},
   "outputs": [
    {
     "name": "stdout",
     "output_type": "stream",
     "text": [
      "Ony any given day, there's a 15.9% chance we sell less than $10,000.\n"
     ]
    }
   ],
   "source": [
    "p = sales.cdf(10000)\n",
    "print(f'Ony any given day, there\\'s a {p:.1%} chance we sell less than $10,000.')"
   ]
  },
  {
   "cell_type": "code",
   "execution_count": 22,
   "id": "ce058de3",
   "metadata": {},
   "outputs": [
    {
     "data": {
      "text/plain": [
       "0.1403738958142805"
      ]
     },
     "execution_count": 22,
     "metadata": {},
     "output_type": "execute_result"
    }
   ],
   "source": [
    "stats.poisson(5).pmf(3) # Codeup knows that, on average, students consume 5 lbs of coffee per week. How likely is \n",
    " # it that the coffee consumption for this week is only 3 lbs?"
   ]
  },
  {
   "cell_type": "code",
   "execution_count": 23,
   "id": "318f6498",
   "metadata": {},
   "outputs": [
    {
     "data": {
      "text/plain": [
       "0.13337167407000744"
      ]
     },
     "execution_count": 23,
     "metadata": {},
     "output_type": "execute_result"
    }
   ],
   "source": [
    "stats.poisson(5).sf(7) # What is the likelihood that more than 7 lbs of coffee are consumed?"
   ]
  },
  {
   "cell_type": "code",
   "execution_count": null,
   "id": "b72d162a",
   "metadata": {},
   "outputs": [],
   "source": []
  }
 ],
 "metadata": {
  "kernelspec": {
   "display_name": "Python 3.8.8 64-bit ('base': conda)",
   "language": "python",
   "name": "python388jvsc74a57bd0b64057e63add2b45b1ffc7eab9b09c8889b419c878e2fdf0d08f837f0fc857a7"
  },
  "language_info": {
   "codemirror_mode": {
    "name": "ipython",
    "version": 3
   },
   "file_extension": ".py",
   "mimetype": "text/x-python",
   "name": "python",
   "nbconvert_exporter": "python",
   "pygments_lexer": "ipython3",
   "version": "3.8.8"
  }
 },
 "nbformat": 4,
 "nbformat_minor": 5
}
