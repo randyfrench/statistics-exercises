{
 "cells": [
  {
   "cell_type": "code",
   "execution_count": 1,
   "id": "34f7e802",
   "metadata": {},
   "outputs": [],
   "source": [
    "from pydataset import data\n",
    "import pandas as pd\n",
    "import numpy as np\n",
    "from scipy import stats\n",
    "import matplotlib.pyplot as plt"
   ]
  },
  {
   "cell_type": "code",
   "execution_count": 3,
   "id": "f84ad689",
   "metadata": {},
   "outputs": [],
   "source": [
    "# For each of the following questions, formulate a null and alternative hypothesis (be as specific as you can be), \n",
    "# then give an example of what a true positive, true negative, type I and type II errors would look like. Note \n",
    "# that some of the questions are intentionally phrased in a vague way. It is your job to reword these as more \n",
    "#precise questions that could be tested.\n",
    "\n",
    "    # A. Has the network latency gone up since we switched internet service providers?\n",
    "    # B. Is the website redesign any good?\n",
    "    # C. Is our television ad driving more sales?\n",
    "\n"
   ]
  },
  {
   "cell_type": "code",
   "execution_count": null,
   "id": "c8f67c64",
   "metadata": {},
   "outputs": [],
   "source": [
    "# A. Has the network latency gone up since we switched internet service providers?\n",
    "# There is no difference in network latency since we switched internet service providers.\n",
    "# Network latency has improved since we switched internet service providers."
   ]
  },
  {
   "cell_type": "code",
   "execution_count": null,
   "id": "7b7dc162",
   "metadata": {},
   "outputs": [],
   "source": [
    "# B. Is the website redesign any good?\n",
    "# The website redesign is working to allow customers to use paypal for payments.\n",
    "# The website redesign is not working to allow customers to use payal for payments."
   ]
  },
  {
   "cell_type": "code",
   "execution_count": null,
   "id": "343bc7fd",
   "metadata": {},
   "outputs": [],
   "source": [
    "# C. Is our television ad driving more sales?\n",
    "# The tv ad to buy more widgets is driving more sales.\n",
    "# The tv ad is not driving more sales to buy more widgets."
   ]
  }
 ],
 "metadata": {
  "kernelspec": {
   "display_name": "Python 3.8.8 64-bit ('base': conda)",
   "language": "python",
   "name": "python388jvsc74a57bd0b64057e63add2b45b1ffc7eab9b09c8889b419c878e2fdf0d08f837f0fc857a7"
  },
  "language_info": {
   "codemirror_mode": {
    "name": "ipython",
    "version": 3
   },
   "file_extension": ".py",
   "mimetype": "text/x-python",
   "name": "python",
   "nbconvert_exporter": "python",
   "pygments_lexer": "ipython3",
   "version": "3.8.8"
  }
 },
 "nbformat": 4,
 "nbformat_minor": 5
}
