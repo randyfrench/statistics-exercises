{
 "cells": [
  {
   "cell_type": "code",
   "execution_count": 3,
   "id": "ae0f7a17",
   "metadata": {},
   "outputs": [],
   "source": [
    "from pydataset import data\n",
    "import pandas as pd\n",
    "import numpy as np\n",
    "import scipy.stats as stats\n",
    "import matplotlib.pyplot as plt\n",
    "import seaborn as sns\n",
    "from env import user, host, password"
   ]
  },
  {
   "cell_type": "code",
   "execution_count": 2,
   "id": "40f5de52",
   "metadata": {},
   "outputs": [],
   "source": [
    "# For each of the following questions, formulate a null and alternative hypothesis (be as specific as you can be), \n",
    "# then give an example of what a true positive, true negative, type I and type II errors would look like. Note \n",
    "# that some of the questions are intentionally phrased in a vague way. It is your job to reword these as more \n",
    "#precise questions that could be tested.\n",
    "\n",
    "    # A. Has the network latency gone up since we switched internet service providers?\n",
    "    # B. Is the website redesign any good?\n",
    "    # C. Is our television ad driving more sales?\n",
    "\n"
   ]
  },
  {
   "cell_type": "code",
   "execution_count": 3,
   "id": "75810737",
   "metadata": {},
   "outputs": [],
   "source": [
    "# A. Has the network latency gone up since we switched internet service providers?\n",
    "# There is no difference in network latency since we switched internet service providers.\n",
    "# Network latency has improved since we switched internet service providers."
   ]
  },
  {
   "cell_type": "code",
   "execution_count": 4,
   "id": "f0b3b1fc",
   "metadata": {},
   "outputs": [],
   "source": [
    "# B. Is the website redesign any good?\n",
    "# The website redesign is working to allow customers to use paypal for payments.\n",
    "# The website redesign is not working to allow customers to use payal for payments."
   ]
  },
  {
   "cell_type": "code",
   "execution_count": 5,
   "id": "f3ec1d1c",
   "metadata": {},
   "outputs": [],
   "source": [
    "# C. Is our television ad driving more sales?\n",
    "# The tv ad to buy more widgets is driving more sales.\n",
    "# The tv ad is not driving more sales to buy more widgets."
   ]
  },
  {
   "cell_type": "code",
   "execution_count": 13,
   "id": "d2d323ee",
   "metadata": {},
   "outputs": [],
   "source": [
    "from math import sqrt\n"
   ]
  },
  {
   "cell_type": "code",
   "execution_count": 1,
   "id": "c5742be3",
   "metadata": {},
   "outputs": [],
   "source": [
    "# 1. Ace Realty wants to determine whether the average time it takes to sell homes is different for its two offices. \n",
    "# A sample of 40 sales from office #1 revealed a mean of 90 days and a standard deviation of 15 days. A sample of 50 \n",
    "# sales from office #2 revealed a mean of 100 days and a standard deviation of 20 days. Use a .05 level of \n",
    "# significance.\n",
    "\n",
    "# There is no difference in the average time to sell homes between the two offices.\n",
    "# There IS a difference in the average time to sell homes between the tow offices.\n",
    "\n",
    "\n",
    "\n",
    "# https://docs.scipy.org/doc/scipy/reference/generated/scipy.stats.ttest_ind_from_stats.html\n",
    "\n",
    "#What are we comparing?\n",
    "#average time (numeric continuous values) to sell for two different groups (categories)\n",
    "#Form a hypothesis:\n",
    "#$H_0$ = There is no difference in average time to sell at two offices\n",
    "#$H_a$ = There is difference in average time to sell at two offices\n",
    "#Significance level $\\alpha$ = 0.05\n"
   ]
  },
  {
   "cell_type": "code",
   "execution_count": 4,
   "id": "e80f8aa5",
   "metadata": {},
   "outputs": [
    {
     "data": {
      "text/plain": [
       "<matplotlib.legend.Legend at 0x7fd7585305e0>"
      ]
     },
     "execution_count": 4,
     "metadata": {},
     "output_type": "execute_result"
    },
    {
     "data": {
      "image/png": "[encoded data removed]",
      "text/plain": [
       "<Figure size 432x288 with 1 Axes>"
      ]
     },
     "metadata": {
      "needs_background": "light"
     },
     "output_type": "display_data"
    }
   ],
   "source": [
    "# Visualize two distribution:\n",
    "\n",
    "x = np.arange(50,150)\n",
    "\n",
    "y1 = stats.norm(90,15).pdf(x)\n",
    "y2 = stats.norm(100,20).pdf(x)\n",
    "\n",
    "\n",
    "plt.plot(x, y1, label = 'office 1')\n",
    "plt.plot(x, y2, label = 'office 2')\n",
    "plt.axvline(90, ls = ':')\n",
    "plt.axvline(100, ls = ':', color = 'orange')\n",
    "\n",
    "\n",
    "plt.legend()"
   ]
  },
  {
   "cell_type": "code",
   "execution_count": 10,
   "id": "32433317",
   "metadata": {},
   "outputs": [
    {
     "data": {
      "text/plain": [
       "(2.6252287036468456, 0.01020985244923939)"
      ]
     },
     "execution_count": 10,
     "metadata": {},
     "output_type": "execute_result"
    }
   ],
   "source": [
    "#Using Scipy \n",
    "a = 0.05\n",
    "# https://docs.scipy.org/doc/scipy/reference/generated/scipy.stats.ttest_ind_from_stats.html\n",
    "\n",
    "t, p = stats.ttest_ind_from_stats(100,20,50, 90,15,40)\n",
    "t,p"
   ]
  },
  {
   "cell_type": "code",
   "execution_count": 11,
   "id": "4f507031",
   "metadata": {},
   "outputs": [
    {
     "name": "stdout",
     "output_type": "stream",
     "text": [
      "\n",
      "Because the p-value (0.01020985244923939) is less than alpha value (0.05),we reject the null hypothesis\n"
     ]
    }
   ],
   "source": [
    "print(f'''\n",
    "Because the p-value ({p}) is less than alpha value ({α}),we reject the null hypothesis''')\n"
   ]
  },
  {
   "cell_type": "code",
   "execution_count": 14,
   "id": "21d122a2",
   "metadata": {},
   "outputs": [
    {
     "name": "stdout",
     "output_type": "stream",
     "text": [
      "t = 2.625\n"
     ]
    }
   ],
   "source": [
    "# Can be calculated in  python using the formula for two- \n",
    "# sample t-test\n",
    "\n",
    "α = 0.05\n",
    "\n",
    "# Sample means:\n",
    "xbar1 = 90\n",
    "xbar2 = 100\n",
    "\n",
    "# Given sample size:\n",
    "n1 = 40\n",
    "n2 = 50\n",
    "\n",
    "# given std deviations:\n",
    "s1 = 15\n",
    "s2 = 20\n",
    "\n",
    "\n",
    "# Degrees of freedom\n",
    "degf = n1 + n2 - 2\n",
    "\n",
    "# Calculate pooled standard deviation:\n",
    "s_p = sqrt(((n1 - 1) * s1**2 + (n2 - 1) * s2**2)/\n",
    "           (n1 + n2 - 2))\n",
    "\n",
    "# Calculate t-statistic value\n",
    "t = (xbar2 - xbar1) / (s_p * sqrt(1 / n1 + 1 / n2))\n",
    "\n",
    "print(f't = {t:.4}')"
   ]
  },
  {
   "cell_type": "code",
   "execution_count": 15,
   "id": "1be365da",
   "metadata": {},
   "outputs": [
    {
     "name": "stdout",
     "output_type": "stream",
     "text": [
      "p = 0.0102\n"
     ]
    }
   ],
   "source": [
    "#Calculate p value for calculated t-statistic\n",
    "p = stats.t(degf).sf(t) * 2\n",
    "print(f'p = {p:.3}')"
   ]
  },
  {
   "cell_type": "code",
   "execution_count": 18,
   "id": "a78b27cb",
   "metadata": {},
   "outputs": [
    {
     "data": {
      "text/html": [
       "<div>\n",
       "<style scoped>\n",
       "    .dataframe tbody tr th:only-of-type {\n",
       "        vertical-align: middle;\n",
       "    }\n",
       "\n",
       "    .dataframe tbody tr th {\n",
       "        vertical-align: top;\n",
       "    }\n",
       "\n",
       "    .dataframe thead th {\n",
       "        text-align: right;\n",
       "    }\n",
       "</style>\n",
       "<table border=\"1\" class=\"dataframe\">\n",
       "  <thead>\n",
       "    <tr style=\"text-align: right;\">\n",
       "      <th></th>\n",
       "      <th>manufacturer</th>\n",
       "      <th>model</th>\n",
       "      <th>displ</th>\n",
       "      <th>year</th>\n",
       "      <th>cyl</th>\n",
       "      <th>trans</th>\n",
       "      <th>drv</th>\n",
       "      <th>cty</th>\n",
       "      <th>hwy</th>\n",
       "      <th>fl</th>\n",
       "      <th>class</th>\n",
       "    </tr>\n",
       "  </thead>\n",
       "  <tbody>\n",
       "    <tr>\n",
       "      <th>1</th>\n",
       "      <td>audi</td>\n",
       "      <td>a4</td>\n",
       "      <td>1.8</td>\n",
       "      <td>1999</td>\n",
       "      <td>4</td>\n",
       "      <td>auto(l5)</td>\n",
       "      <td>f</td>\n",
       "      <td>18</td>\n",
       "      <td>29</td>\n",
       "      <td>p</td>\n",
       "      <td>compact</td>\n",
       "    </tr>\n",
       "    <tr>\n",
       "      <th>2</th>\n",
       "      <td>audi</td>\n",
       "      <td>a4</td>\n",
       "      <td>1.8</td>\n",
       "      <td>1999</td>\n",
       "      <td>4</td>\n",
       "      <td>manual(m5)</td>\n",
       "      <td>f</td>\n",
       "      <td>21</td>\n",
       "      <td>29</td>\n",
       "      <td>p</td>\n",
       "      <td>compact</td>\n",
       "    </tr>\n",
       "    <tr>\n",
       "      <th>3</th>\n",
       "      <td>audi</td>\n",
       "      <td>a4</td>\n",
       "      <td>2.0</td>\n",
       "      <td>2008</td>\n",
       "      <td>4</td>\n",
       "      <td>manual(m6)</td>\n",
       "      <td>f</td>\n",
       "      <td>20</td>\n",
       "      <td>31</td>\n",
       "      <td>p</td>\n",
       "      <td>compact</td>\n",
       "    </tr>\n",
       "    <tr>\n",
       "      <th>4</th>\n",
       "      <td>audi</td>\n",
       "      <td>a4</td>\n",
       "      <td>2.0</td>\n",
       "      <td>2008</td>\n",
       "      <td>4</td>\n",
       "      <td>auto(av)</td>\n",
       "      <td>f</td>\n",
       "      <td>21</td>\n",
       "      <td>30</td>\n",
       "      <td>p</td>\n",
       "      <td>compact</td>\n",
       "    </tr>\n",
       "    <tr>\n",
       "      <th>5</th>\n",
       "      <td>audi</td>\n",
       "      <td>a4</td>\n",
       "      <td>2.8</td>\n",
       "      <td>1999</td>\n",
       "      <td>6</td>\n",
       "      <td>auto(l5)</td>\n",
       "      <td>f</td>\n",
       "      <td>16</td>\n",
       "      <td>26</td>\n",
       "      <td>p</td>\n",
       "      <td>compact</td>\n",
       "    </tr>\n",
       "  </tbody>\n",
       "</table>\n",
       "</div>"
      ],
      "text/plain": [
       "  manufacturer model  displ  year  cyl       trans drv  cty  hwy fl    class\n",
       "1         audi    a4    1.8  1999    4    auto(l5)   f   18   29  p  compact\n",
       "2         audi    a4    1.8  1999    4  manual(m5)   f   21   29  p  compact\n",
       "3         audi    a4    2.0  2008    4  manual(m6)   f   20   31  p  compact\n",
       "4         audi    a4    2.0  2008    4    auto(av)   f   21   30  p  compact\n",
       "5         audi    a4    2.8  1999    6    auto(l5)   f   16   26  p  compact"
      ]
     },
     "execution_count": 18,
     "metadata": {},
     "output_type": "execute_result"
    }
   ],
   "source": [
    "# 2. Load the mpg dataset and use it to answer the following questions:\n",
    "\n",
    "    # Is there a difference in fuel-efficiency in cars from 2008 vs 1999?\n",
    "    \n",
    "\n",
    "mpg = data('mpg')\n",
    "mpg.head()"
   ]
  },
  {
   "cell_type": "markdown",
   "id": "2274a192",
   "metadata": {},
   "source": [
    "# 1. Is there a difference in fuel-efficiency in cars from 2008 vs 1999?\n",
    "Comparing fuel economy two different sub-groups (2-sample, 2-tailed t-test)\n",
    "$H_0$: there is no difference in fuel-efficiency in cars from 2008 vs 1999\n",
    "$H_a$: there is a difference in fuel-efficiency in cars from 2008 vs 1999\n",
    "Calculate average fuel economy assuming 50% highway and 50% city driving\n",
    "Should I use arithmetic mean or harmonic mean for average mpg?\n",
    "Arithmetic Mean: fe_am = (cty + hwy)/2\n",
    "Harmonic Mean: fe_hm = 2/(1/cty + 1/hwy)"
   ]
  },
  {
   "cell_type": "code",
   "execution_count": 19,
   "id": "c2d29e32",
   "metadata": {},
   "outputs": [
    {
     "data": {
      "text/html": [
       "<div>\n",
       "<style scoped>\n",
       "    .dataframe tbody tr th:only-of-type {\n",
       "        vertical-align: middle;\n",
       "    }\n",
       "\n",
       "    .dataframe tbody tr th {\n",
       "        vertical-align: top;\n",
       "    }\n",
       "\n",
       "    .dataframe thead th {\n",
       "        text-align: right;\n",
       "    }\n",
       "</style>\n",
       "<table border=\"1\" class=\"dataframe\">\n",
       "  <thead>\n",
       "    <tr style=\"text-align: right;\">\n",
       "      <th></th>\n",
       "      <th>manufacturer</th>\n",
       "      <th>model</th>\n",
       "      <th>displ</th>\n",
       "      <th>year</th>\n",
       "      <th>cyl</th>\n",
       "      <th>trans</th>\n",
       "      <th>drv</th>\n",
       "      <th>cty</th>\n",
       "      <th>hwy</th>\n",
       "      <th>fl</th>\n",
       "      <th>class</th>\n",
       "      <th>avg_fe</th>\n",
       "    </tr>\n",
       "  </thead>\n",
       "  <tbody>\n",
       "    <tr>\n",
       "      <th>1</th>\n",
       "      <td>audi</td>\n",
       "      <td>a4</td>\n",
       "      <td>1.8</td>\n",
       "      <td>1999</td>\n",
       "      <td>4</td>\n",
       "      <td>auto(l5)</td>\n",
       "      <td>f</td>\n",
       "      <td>18</td>\n",
       "      <td>29</td>\n",
       "      <td>p</td>\n",
       "      <td>compact</td>\n",
       "      <td>22.212766</td>\n",
       "    </tr>\n",
       "    <tr>\n",
       "      <th>2</th>\n",
       "      <td>audi</td>\n",
       "      <td>a4</td>\n",
       "      <td>1.8</td>\n",
       "      <td>1999</td>\n",
       "      <td>4</td>\n",
       "      <td>manual(m5)</td>\n",
       "      <td>f</td>\n",
       "      <td>21</td>\n",
       "      <td>29</td>\n",
       "      <td>p</td>\n",
       "      <td>compact</td>\n",
       "      <td>24.360000</td>\n",
       "    </tr>\n",
       "    <tr>\n",
       "      <th>3</th>\n",
       "      <td>audi</td>\n",
       "      <td>a4</td>\n",
       "      <td>2.0</td>\n",
       "      <td>2008</td>\n",
       "      <td>4</td>\n",
       "      <td>manual(m6)</td>\n",
       "      <td>f</td>\n",
       "      <td>20</td>\n",
       "      <td>31</td>\n",
       "      <td>p</td>\n",
       "      <td>compact</td>\n",
       "      <td>24.313725</td>\n",
       "    </tr>\n",
       "    <tr>\n",
       "      <th>4</th>\n",
       "      <td>audi</td>\n",
       "      <td>a4</td>\n",
       "      <td>2.0</td>\n",
       "      <td>2008</td>\n",
       "      <td>4</td>\n",
       "      <td>auto(av)</td>\n",
       "      <td>f</td>\n",
       "      <td>21</td>\n",
       "      <td>30</td>\n",
       "      <td>p</td>\n",
       "      <td>compact</td>\n",
       "      <td>24.705882</td>\n",
       "    </tr>\n",
       "    <tr>\n",
       "      <th>5</th>\n",
       "      <td>audi</td>\n",
       "      <td>a4</td>\n",
       "      <td>2.8</td>\n",
       "      <td>1999</td>\n",
       "      <td>6</td>\n",
       "      <td>auto(l5)</td>\n",
       "      <td>f</td>\n",
       "      <td>16</td>\n",
       "      <td>26</td>\n",
       "      <td>p</td>\n",
       "      <td>compact</td>\n",
       "      <td>19.809524</td>\n",
       "    </tr>\n",
       "  </tbody>\n",
       "</table>\n",
       "</div>"
      ],
      "text/plain": [
       "  manufacturer model  displ  year  cyl       trans drv  cty  hwy fl    class  \\\n",
       "1         audi    a4    1.8  1999    4    auto(l5)   f   18   29  p  compact   \n",
       "2         audi    a4    1.8  1999    4  manual(m5)   f   21   29  p  compact   \n",
       "3         audi    a4    2.0  2008    4  manual(m6)   f   20   31  p  compact   \n",
       "4         audi    a4    2.0  2008    4    auto(av)   f   21   30  p  compact   \n",
       "5         audi    a4    2.8  1999    6    auto(l5)   f   16   26  p  compact   \n",
       "\n",
       "      avg_fe  \n",
       "1  22.212766  \n",
       "2  24.360000  \n",
       "3  24.313725  \n",
       "4  24.705882  \n",
       "5  19.809524  "
      ]
     },
     "execution_count": 19,
     "metadata": {},
     "output_type": "execute_result"
    }
   ],
   "source": [
    "mpg['avg_fe'] = stats.hmean(mpg[['cty', 'hwy']], axis =1)\n",
    "mpg.head()"
   ]
  },
  {
   "cell_type": "code",
   "execution_count": 20,
   "id": "d1f79cd8",
   "metadata": {},
   "outputs": [],
   "source": [
    "fe_2008 = mpg[mpg.year == 2008].avg_fe\n",
    "fe_1999 = mpg[mpg.year == 1999].avg_fe"
   ]
  },
  {
   "cell_type": "code",
   "execution_count": 21,
   "id": "e9110f7c",
   "metadata": {},
   "outputs": [
    {
     "data": {
      "text/plain": [
       "(-0.3011962975077886, 0.7635345888327115)"
      ]
     },
     "execution_count": 21,
     "metadata": {},
     "output_type": "execute_result"
    }
   ],
   "source": [
    "t, p = stats.ttest_ind(fe_2008, fe_1999)\n",
    "t, p"
   ]
  },
  {
   "cell_type": "code",
   "execution_count": 22,
   "id": "464a93ce",
   "metadata": {},
   "outputs": [
    {
     "name": "stdout",
     "output_type": "stream",
     "text": [
      "\n",
      "Because p (0.764) > alpha (.05), we fail to reject the null hypothesis that there is no difference in fuel-efficency in cars from 2008 and 1999.\n",
      "\n"
     ]
    }
   ],
   "source": [
    "print(f'''\n",
    "Because p ({p:.3f}) > alpha (.05), we fail to reject the null\\\n",
    " hypothesis that there is no difference in fuel-efficency in cars\\\n",
    " from 2008 and 1999.\n",
    "''')"
   ]
  },
  {
   "cell_type": "code",
   "execution_count": 23,
   "id": "ab557c49",
   "metadata": {},
   "outputs": [
    {
     "data": {
      "text/plain": [
       "(19.488662986569054, 19.68238764869729)"
      ]
     },
     "execution_count": 23,
     "metadata": {},
     "output_type": "execute_result"
    }
   ],
   "source": [
    "fe_2008.mean(), fe_1999.mean()"
   ]
  },
  {
   "cell_type": "code",
   "execution_count": 24,
   "id": "589adb96",
   "metadata": {},
   "outputs": [
    {
     "data": {
      "text/plain": [
       "<matplotlib.legend.Legend at 0x7fd79810b310>"
      ]
     },
     "execution_count": 24,
     "metadata": {},
     "output_type": "execute_result"
    },
    {
     "data": {
      "image/png": "[encoded data removed]",
      "text/plain": [
       "<Figure size 432x288 with 1 Axes>"
      ]
     },
     "metadata": {
      "needs_background": "light"
     },
     "output_type": "display_data"
    }
   ],
   "source": [
    "plt.hist([fe_1999, fe_2008], label=[\"1999 cars\", \"2008 cars\"])\n",
    "plt.legend(loc=\"upper right\")"
   ]
  },
  {
   "cell_type": "markdown",
   "id": "f6e420b3",
   "metadata": {},
   "source": [
    "##  2. Are compact cars more fuel-efficient than the average car?\n",
    "Comparing fuel economy two different sub-groups (1-sample, 1-tailed t-test)\n",
    "\n",
    "$H_0$: There is no difference in fuel-efficiency between compact cars and the population average fuel-efficiency\n",
    "\n",
    "$H_a$: Compact cars are more fuel efficient than the average car\n",
    "\n",
    "for $H_a$ to be true, t > 0 and p/2 < 0.05"
   ]
  },
  {
   "cell_type": "code",
   "execution_count": 25,
   "id": "e0cca57b",
   "metadata": {},
   "outputs": [
    {
     "data": {
      "text/plain": [
       "(7.512360093161354, 1.5617666348807727e-09)"
      ]
     },
     "execution_count": 25,
     "metadata": {},
     "output_type": "execute_result"
    }
   ],
   "source": [
    "fe_compact = mpg[mpg['class'] == 'compact'].avg_fe\n",
    "μ = mpg.avg_fe.mean()\n",
    "\n",
    "t, p = stats.ttest_1samp(fe_compact, μ)\n",
    "t, p"
   ]
  },
  {
   "cell_type": "code",
   "execution_count": 26,
   "id": "f2ae9572",
   "metadata": {},
   "outputs": [
    {
     "name": "stdout",
     "output_type": "stream",
     "text": [
      "\n",
      "Because p/2 (0.000000000781) < alpha (.05), we reject the null hypothesis that there isno difference in fuel-efficiency between compact cars and the overall average.\n",
      "\n"
     ]
    }
   ],
   "source": [
    "print(f'''\n",
    "Because p/2 ({p/2:.12f}) < alpha (.05), we reject the null hypothesis that there isno difference in fuel-efficiency between compact cars and the overall average.\n",
    "''')"
   ]
  },
  {
   "cell_type": "markdown",
   "id": "3362463a",
   "metadata": {},
   "source": [
    "# Do manual cars get better gas mileage than automatic cars?\n",
    "\n",
    "$H_0$: there is no difference in fuel-efficiency between manual cars and automatic transmission cars\n",
    "\n",
    "$H_a$: there is a difference in fuel-efficiency between manual cars and automatic transmission cars"
   ]
  },
  {
   "cell_type": "code",
   "execution_count": 27,
   "id": "f2d80088",
   "metadata": {},
   "outputs": [
    {
     "data": {
      "text/plain": [
       "(4.652577547151351, 5.510464610044005e-06)"
      ]
     },
     "execution_count": 27,
     "metadata": {},
     "output_type": "execute_result"
    }
   ],
   "source": [
    "fe_auto = mpg[mpg.trans.str.contains('auto')].avg_fe\n",
    "fe_manual = mpg[mpg.trans.str.contains('manual')].avg_fe\n",
    "\n",
    "t, p = stats.ttest_ind(fe_manual, fe_auto)\n",
    "t, p"
   ]
  },
  {
   "cell_type": "code",
   "execution_count": 28,
   "id": "6936c4e3",
   "metadata": {},
   "outputs": [
    {
     "name": "stdout",
     "output_type": "stream",
     "text": [
      "\n",
      "Because p/2 (0.000003) < alpha (.05), we reject the null hypothesis that there is no difference in gas mileage between manual and automatic cars\n",
      "\n"
     ]
    }
   ],
   "source": [
    "print(f'''\n",
    "Because p/2 ({p/2:.6f}) < alpha (.05), we reject the null hypothesis that there is no difference in gas mileage between manual and automatic cars\n",
    "''')"
   ]
  },
  {
   "cell_type": "code",
   "execution_count": 30,
   "id": "ebf79fe3",
   "metadata": {},
   "outputs": [
    {
     "data": {
      "text/plain": [
       "Text(0.5, 1.0, 'Is mileage different by transmission type?')"
      ]
     },
     "execution_count": 30,
     "metadata": {},
     "output_type": "execute_result"
    },
    {
     "data": {
      "image/png": "[encoded data removed]",
      "text/plain": [
       "<Figure size 432x288 with 1 Axes>"
      ]
     },
     "metadata": {
      "needs_background": "light"
     },
     "output_type": "display_data"
    }
   ],
   "source": [
    "mpg['transmission_type'] = np.where(mpg.trans.str.contains('auto'), 'Auto Transmission', 'Manual Transmission')\n",
    "mpg.groupby('transmission_type').avg_fe.mean().plot.bar()\n",
    "plt.xticks(rotation=0)\n",
    "plt.xlabel('')\n",
    "plt.ylabel('Average mileage')\n",
    "plt.title('Is mileage different by transmission type?')"
   ]
  },
  {
   "cell_type": "markdown",
   "id": "40ab1169",
   "metadata": {},
   "source": [
    "# Correlation"
   ]
  },
  {
   "cell_type": "code",
   "execution_count": 13,
   "id": "601fec8a",
   "metadata": {},
   "outputs": [],
   "source": [
    "# 1. Use the telco_churn data. Does tenure correlate with monthly charges? \n",
    "# Total charges? What happens if you control for phone and internet service?\n",
    "\n",
    "#Null H: There is no linear correlation between tenure and monthly charges.\n",
    "#Alt H: There is a liner relationship between tenure and monthly charges."
   ]
  },
  {
   "cell_type": "code",
   "execution_count": 38,
   "id": "2dcb602d",
   "metadata": {},
   "outputs": [],
   "source": [
    "df = pd.read_csv(\"clean_telco.csv\")"
   ]
  },
  {
   "cell_type": "code",
   "execution_count": 39,
   "id": "28da70b8",
   "metadata": {},
   "outputs": [
    {
     "data": {
      "text/html": [
       "<div>\n",
       "<style scoped>\n",
       "    .dataframe tbody tr th:only-of-type {\n",
       "        vertical-align: middle;\n",
       "    }\n",
       "\n",
       "    .dataframe tbody tr th {\n",
       "        vertical-align: top;\n",
       "    }\n",
       "\n",
       "    .dataframe thead th {\n",
       "        text-align: right;\n",
       "    }\n",
       "</style>\n",
       "<table border=\"1\" class=\"dataframe\">\n",
       "  <thead>\n",
       "    <tr style=\"text-align: right;\">\n",
       "      <th></th>\n",
       "      <th>id</th>\n",
       "      <th>customer_id</th>\n",
       "      <th>gender</th>\n",
       "      <th>is_senior_citizen</th>\n",
       "      <th>partner</th>\n",
       "      <th>dependents</th>\n",
       "      <th>phone_service</th>\n",
       "      <th>internet_service</th>\n",
       "      <th>contract_int</th>\n",
       "      <th>payment_type</th>\n",
       "      <th>...</th>\n",
       "      <th>tenure_month</th>\n",
       "      <th>has_churned</th>\n",
       "      <th>has_phone</th>\n",
       "      <th>has_internet</th>\n",
       "      <th>has_internet_and_phone</th>\n",
       "      <th>partner_dependents</th>\n",
       "      <th>start_day</th>\n",
       "      <th>phone_type</th>\n",
       "      <th>internet_type</th>\n",
       "      <th>contract_type</th>\n",
       "    </tr>\n",
       "  </thead>\n",
       "  <tbody>\n",
       "    <tr>\n",
       "      <th>0</th>\n",
       "      <td>0</td>\n",
       "      <td>0002-ORFBO</td>\n",
       "      <td>Female</td>\n",
       "      <td>0</td>\n",
       "      <td>Yes</td>\n",
       "      <td>Yes</td>\n",
       "      <td>1</td>\n",
       "      <td>1</td>\n",
       "      <td>1</td>\n",
       "      <td>Mailed check</td>\n",
       "      <td>...</td>\n",
       "      <td>9.0</td>\n",
       "      <td>False</td>\n",
       "      <td>True</td>\n",
       "      <td>True</td>\n",
       "      <td>True</td>\n",
       "      <td>3</td>\n",
       "      <td>2020-05-03</td>\n",
       "      <td>One Line</td>\n",
       "      <td>DSL</td>\n",
       "      <td>1 Year</td>\n",
       "    </tr>\n",
       "    <tr>\n",
       "      <th>1</th>\n",
       "      <td>1</td>\n",
       "      <td>0003-MKNFE</td>\n",
       "      <td>Male</td>\n",
       "      <td>0</td>\n",
       "      <td>No</td>\n",
       "      <td>No</td>\n",
       "      <td>2</td>\n",
       "      <td>1</td>\n",
       "      <td>0</td>\n",
       "      <td>Mailed check</td>\n",
       "      <td>...</td>\n",
       "      <td>9.1</td>\n",
       "      <td>False</td>\n",
       "      <td>True</td>\n",
       "      <td>True</td>\n",
       "      <td>True</td>\n",
       "      <td>0</td>\n",
       "      <td>2020-05-03</td>\n",
       "      <td>Two or More Lines</td>\n",
       "      <td>DSL</td>\n",
       "      <td>Month-to-Month</td>\n",
       "    </tr>\n",
       "    <tr>\n",
       "      <th>2</th>\n",
       "      <td>2</td>\n",
       "      <td>0004-TLHLJ</td>\n",
       "      <td>Male</td>\n",
       "      <td>0</td>\n",
       "      <td>No</td>\n",
       "      <td>No</td>\n",
       "      <td>1</td>\n",
       "      <td>2</td>\n",
       "      <td>0</td>\n",
       "      <td>Electronic check</td>\n",
       "      <td>...</td>\n",
       "      <td>3.8</td>\n",
       "      <td>True</td>\n",
       "      <td>True</td>\n",
       "      <td>True</td>\n",
       "      <td>True</td>\n",
       "      <td>0</td>\n",
       "      <td>2020-11-03</td>\n",
       "      <td>One Line</td>\n",
       "      <td>Fiber Optic</td>\n",
       "      <td>Month-to-Month</td>\n",
       "    </tr>\n",
       "    <tr>\n",
       "      <th>3</th>\n",
       "      <td>3</td>\n",
       "      <td>0011-IGKFF</td>\n",
       "      <td>Male</td>\n",
       "      <td>1</td>\n",
       "      <td>Yes</td>\n",
       "      <td>No</td>\n",
       "      <td>1</td>\n",
       "      <td>2</td>\n",
       "      <td>0</td>\n",
       "      <td>Electronic check</td>\n",
       "      <td>...</td>\n",
       "      <td>12.6</td>\n",
       "      <td>True</td>\n",
       "      <td>True</td>\n",
       "      <td>True</td>\n",
       "      <td>True</td>\n",
       "      <td>1</td>\n",
       "      <td>2020-02-03</td>\n",
       "      <td>One Line</td>\n",
       "      <td>Fiber Optic</td>\n",
       "      <td>Month-to-Month</td>\n",
       "    </tr>\n",
       "    <tr>\n",
       "      <th>4</th>\n",
       "      <td>4</td>\n",
       "      <td>0013-EXCHZ</td>\n",
       "      <td>Female</td>\n",
       "      <td>1</td>\n",
       "      <td>Yes</td>\n",
       "      <td>No</td>\n",
       "      <td>1</td>\n",
       "      <td>2</td>\n",
       "      <td>0</td>\n",
       "      <td>Mailed check</td>\n",
       "      <td>...</td>\n",
       "      <td>3.2</td>\n",
       "      <td>True</td>\n",
       "      <td>True</td>\n",
       "      <td>True</td>\n",
       "      <td>True</td>\n",
       "      <td>1</td>\n",
       "      <td>2020-11-03</td>\n",
       "      <td>One Line</td>\n",
       "      <td>Fiber Optic</td>\n",
       "      <td>Month-to-Month</td>\n",
       "    </tr>\n",
       "  </tbody>\n",
       "</table>\n",
       "<p>5 rows × 23 columns</p>\n",
       "</div>"
      ],
      "text/plain": [
       "   id customer_id  gender  is_senior_citizen partner dependents  \\\n",
       "0   0  0002-ORFBO  Female                  0     Yes        Yes   \n",
       "1   1  0003-MKNFE    Male                  0      No         No   \n",
       "2   2  0004-TLHLJ    Male                  0      No         No   \n",
       "3   3  0011-IGKFF    Male                  1     Yes         No   \n",
       "4   4  0013-EXCHZ  Female                  1     Yes         No   \n",
       "\n",
       "   phone_service  internet_service  contract_int      payment_type  ...  \\\n",
       "0              1                 1             1      Mailed check  ...   \n",
       "1              2                 1             0      Mailed check  ...   \n",
       "2              1                 2             0  Electronic check  ...   \n",
       "3              1                 2             0  Electronic check  ...   \n",
       "4              1                 2             0      Mailed check  ...   \n",
       "\n",
       "   tenure_month  has_churned has_phone  has_internet  has_internet_and_phone  \\\n",
       "0           9.0        False      True          True                    True   \n",
       "1           9.1        False      True          True                    True   \n",
       "2           3.8         True      True          True                    True   \n",
       "3          12.6         True      True          True                    True   \n",
       "4           3.2         True      True          True                    True   \n",
       "\n",
       "   partner_dependents   start_day         phone_type  internet_type  \\\n",
       "0                   3  2020-05-03           One Line            DSL   \n",
       "1                   0  2020-05-03  Two or More Lines            DSL   \n",
       "2                   0  2020-11-03           One Line    Fiber Optic   \n",
       "3                   1  2020-02-03           One Line    Fiber Optic   \n",
       "4                   1  2020-11-03           One Line    Fiber Optic   \n",
       "\n",
       "    contract_type  \n",
       "0          1 Year  \n",
       "1  Month-to-Month  \n",
       "2  Month-to-Month  \n",
       "3  Month-to-Month  \n",
       "4  Month-to-Month  \n",
       "\n",
       "[5 rows x 23 columns]"
      ]
     },
     "execution_count": 39,
     "metadata": {},
     "output_type": "execute_result"
    }
   ],
   "source": [
    "df.head()"
   ]
  },
  {
   "cell_type": "code",
   "execution_count": 16,
   "id": "d1b75228",
   "metadata": {},
   "outputs": [],
   "source": [
    "#sns.pairplot(df, corner=True)\n",
    "#plt.suptitle(\"sns.pairpolot visualizes continuous variable relationships\")\n",
    "#plt.show()"
   ]
  },
  {
   "cell_type": "code",
   "execution_count": 40,
   "id": "58a2297f",
   "metadata": {},
   "outputs": [
    {
     "data": {
      "text/html": [
       "<div>\n",
       "<style scoped>\n",
       "    .dataframe tbody tr th:only-of-type {\n",
       "        vertical-align: middle;\n",
       "    }\n",
       "\n",
       "    .dataframe tbody tr th {\n",
       "        vertical-align: top;\n",
       "    }\n",
       "\n",
       "    .dataframe thead th {\n",
       "        text-align: right;\n",
       "    }\n",
       "</style>\n",
       "<table border=\"1\" class=\"dataframe\">\n",
       "  <thead>\n",
       "    <tr style=\"text-align: right;\">\n",
       "      <th></th>\n",
       "      <th>id</th>\n",
       "      <th>is_senior_citizen</th>\n",
       "      <th>phone_service</th>\n",
       "      <th>internet_service</th>\n",
       "      <th>contract_int</th>\n",
       "      <th>monthly_charges</th>\n",
       "      <th>total_charges</th>\n",
       "      <th>tenure_month</th>\n",
       "      <th>has_churned</th>\n",
       "      <th>has_phone</th>\n",
       "      <th>has_internet</th>\n",
       "      <th>has_internet_and_phone</th>\n",
       "      <th>partner_dependents</th>\n",
       "    </tr>\n",
       "  </thead>\n",
       "  <tbody>\n",
       "    <tr>\n",
       "      <th>id</th>\n",
       "      <td>1.000000</td>\n",
       "      <td>-0.002357</td>\n",
       "      <td>-0.001885</td>\n",
       "      <td>-0.002983</td>\n",
       "      <td>0.016536</td>\n",
       "      <td>-0.004876</td>\n",
       "      <td>-0.000188</td>\n",
       "      <td>0.008700</td>\n",
       "      <td>-0.018405</td>\n",
       "      <td>-0.006987</td>\n",
       "      <td>0.004490</td>\n",
       "      <td>-0.000466</td>\n",
       "      <td>-0.018068</td>\n",
       "    </tr>\n",
       "    <tr>\n",
       "      <th>is_senior_citizen</th>\n",
       "      <td>-0.002357</td>\n",
       "      <td>1.000000</td>\n",
       "      <td>0.113874</td>\n",
       "      <td>0.259006</td>\n",
       "      <td>-0.141981</td>\n",
       "      <td>0.219868</td>\n",
       "      <td>0.102385</td>\n",
       "      <td>0.015147</td>\n",
       "      <td>0.150709</td>\n",
       "      <td>0.008392</td>\n",
       "      <td>0.182737</td>\n",
       "      <td>0.167613</td>\n",
       "      <td>-0.150716</td>\n",
       "    </tr>\n",
       "    <tr>\n",
       "      <th>phone_service</th>\n",
       "      <td>-0.001885</td>\n",
       "      <td>0.113874</td>\n",
       "      <td>1.000000</td>\n",
       "      <td>0.308312</td>\n",
       "      <td>0.084590</td>\n",
       "      <td>0.491369</td>\n",
       "      <td>0.412877</td>\n",
       "      <td>0.259601</td>\n",
       "      <td>0.035450</td>\n",
       "      <td>0.674792</td>\n",
       "      <td>0.083188</td>\n",
       "      <td>0.503897</td>\n",
       "      <td>0.033350</td>\n",
       "    </tr>\n",
       "    <tr>\n",
       "      <th>internet_service</th>\n",
       "      <td>-0.002983</td>\n",
       "      <td>0.259006</td>\n",
       "      <td>0.308312</td>\n",
       "      <td>1.000000</td>\n",
       "      <td>-0.289365</td>\n",
       "      <td>0.905440</td>\n",
       "      <td>0.428525</td>\n",
       "      <td>0.030413</td>\n",
       "      <td>0.316479</td>\n",
       "      <td>0.094084</td>\n",
       "      <td>0.825888</td>\n",
       "      <td>0.793326</td>\n",
       "      <td>-0.132576</td>\n",
       "    </tr>\n",
       "    <tr>\n",
       "      <th>contract_int</th>\n",
       "      <td>0.016536</td>\n",
       "      <td>-0.141981</td>\n",
       "      <td>0.084590</td>\n",
       "      <td>-0.289365</td>\n",
       "      <td>1.000000</td>\n",
       "      <td>-0.073313</td>\n",
       "      <td>0.449706</td>\n",
       "      <td>0.676588</td>\n",
       "      <td>-0.396187</td>\n",
       "      <td>0.004286</td>\n",
       "      <td>-0.242800</td>\n",
       "      <td>-0.212869</td>\n",
       "      <td>0.299319</td>\n",
       "    </tr>\n",
       "    <tr>\n",
       "      <th>monthly_charges</th>\n",
       "      <td>-0.004876</td>\n",
       "      <td>0.219868</td>\n",
       "      <td>0.491369</td>\n",
       "      <td>0.905440</td>\n",
       "      <td>-0.073313</td>\n",
       "      <td>1.000000</td>\n",
       "      <td>0.651265</td>\n",
       "      <td>0.246022</td>\n",
       "      <td>0.192825</td>\n",
       "      <td>0.248275</td>\n",
       "      <td>0.763333</td>\n",
       "      <td>0.836041</td>\n",
       "      <td>-0.044482</td>\n",
       "    </tr>\n",
       "    <tr>\n",
       "      <th>total_charges</th>\n",
       "      <td>-0.000188</td>\n",
       "      <td>0.102385</td>\n",
       "      <td>0.412877</td>\n",
       "      <td>0.428525</td>\n",
       "      <td>0.449706</td>\n",
       "      <td>0.651265</td>\n",
       "      <td>1.000000</td>\n",
       "      <td>0.825733</td>\n",
       "      <td>-0.199488</td>\n",
       "      <td>0.113800</td>\n",
       "      <td>0.374967</td>\n",
       "      <td>0.405483</td>\n",
       "      <td>0.177757</td>\n",
       "    </tr>\n",
       "    <tr>\n",
       "      <th>tenure_month</th>\n",
       "      <td>0.008700</td>\n",
       "      <td>0.015147</td>\n",
       "      <td>0.259601</td>\n",
       "      <td>0.030413</td>\n",
       "      <td>0.676588</td>\n",
       "      <td>0.246022</td>\n",
       "      <td>0.825733</td>\n",
       "      <td>1.000000</td>\n",
       "      <td>-0.354054</td>\n",
       "      <td>0.009294</td>\n",
       "      <td>0.036038</td>\n",
       "      <td>0.037924</td>\n",
       "      <td>0.276539</td>\n",
       "    </tr>\n",
       "    <tr>\n",
       "      <th>has_churned</th>\n",
       "      <td>-0.018405</td>\n",
       "      <td>0.150709</td>\n",
       "      <td>0.035450</td>\n",
       "      <td>0.316479</td>\n",
       "      <td>-0.396187</td>\n",
       "      <td>0.192825</td>\n",
       "      <td>-0.199488</td>\n",
       "      <td>-0.354054</td>\n",
       "      <td>1.000000</td>\n",
       "      <td>0.010499</td>\n",
       "      <td>0.228536</td>\n",
       "      <td>0.209625</td>\n",
       "      <td>-0.182739</td>\n",
       "    </tr>\n",
       "    <tr>\n",
       "      <th>has_phone</th>\n",
       "      <td>-0.006987</td>\n",
       "      <td>0.008392</td>\n",
       "      <td>0.674792</td>\n",
       "      <td>0.094084</td>\n",
       "      <td>0.004286</td>\n",
       "      <td>0.248275</td>\n",
       "      <td>0.113800</td>\n",
       "      <td>0.009294</td>\n",
       "      <td>0.010499</td>\n",
       "      <td>1.000000</td>\n",
       "      <td>-0.171961</td>\n",
       "      <td>0.484578</td>\n",
       "      <td>0.006999</td>\n",
       "    </tr>\n",
       "    <tr>\n",
       "      <th>has_internet</th>\n",
       "      <td>0.004490</td>\n",
       "      <td>0.182737</td>\n",
       "      <td>0.083188</td>\n",
       "      <td>0.825888</td>\n",
       "      <td>-0.242800</td>\n",
       "      <td>0.763333</td>\n",
       "      <td>0.374967</td>\n",
       "      <td>0.036038</td>\n",
       "      <td>0.228536</td>\n",
       "      <td>-0.171961</td>\n",
       "      <td>1.000000</td>\n",
       "      <td>0.778389</td>\n",
       "      <td>-0.103761</td>\n",
       "    </tr>\n",
       "    <tr>\n",
       "      <th>has_internet_and_phone</th>\n",
       "      <td>-0.000466</td>\n",
       "      <td>0.167613</td>\n",
       "      <td>0.503897</td>\n",
       "      <td>0.793326</td>\n",
       "      <td>-0.212869</td>\n",
       "      <td>0.836041</td>\n",
       "      <td>0.405483</td>\n",
       "      <td>0.037924</td>\n",
       "      <td>0.209625</td>\n",
       "      <td>0.484578</td>\n",
       "      <td>0.778389</td>\n",
       "      <td>1.000000</td>\n",
       "      <td>-0.087677</td>\n",
       "    </tr>\n",
       "    <tr>\n",
       "      <th>partner_dependents</th>\n",
       "      <td>-0.018068</td>\n",
       "      <td>-0.150716</td>\n",
       "      <td>0.033350</td>\n",
       "      <td>-0.132576</td>\n",
       "      <td>0.299319</td>\n",
       "      <td>-0.044482</td>\n",
       "      <td>0.177757</td>\n",
       "      <td>0.276539</td>\n",
       "      <td>-0.182739</td>\n",
       "      <td>0.006999</td>\n",
       "      <td>-0.103761</td>\n",
       "      <td>-0.087677</td>\n",
       "      <td>1.000000</td>\n",
       "    </tr>\n",
       "  </tbody>\n",
       "</table>\n",
       "</div>"
      ],
      "text/plain": [
       "                              id  is_senior_citizen  phone_service  \\\n",
       "id                      1.000000          -0.002357      -0.001885   \n",
       "is_senior_citizen      -0.002357           1.000000       0.113874   \n",
       "phone_service          -0.001885           0.113874       1.000000   \n",
       "internet_service       -0.002983           0.259006       0.308312   \n",
       "contract_int            0.016536          -0.141981       0.084590   \n",
       "monthly_charges        -0.004876           0.219868       0.491369   \n",
       "total_charges          -0.000188           0.102385       0.412877   \n",
       "tenure_month            0.008700           0.015147       0.259601   \n",
       "has_churned            -0.018405           0.150709       0.035450   \n",
       "has_phone              -0.006987           0.008392       0.674792   \n",
       "has_internet            0.004490           0.182737       0.083188   \n",
       "has_internet_and_phone -0.000466           0.167613       0.503897   \n",
       "partner_dependents     -0.018068          -0.150716       0.033350   \n",
       "\n",
       "                        internet_service  contract_int  monthly_charges  \\\n",
       "id                             -0.002983      0.016536        -0.004876   \n",
       "is_senior_citizen               0.259006     -0.141981         0.219868   \n",
       "phone_service                   0.308312      0.084590         0.491369   \n",
       "internet_service                1.000000     -0.289365         0.905440   \n",
       "contract_int                   -0.289365      1.000000        -0.073313   \n",
       "monthly_charges                 0.905440     -0.073313         1.000000   \n",
       "total_charges                   0.428525      0.449706         0.651265   \n",
       "tenure_month                    0.030413      0.676588         0.246022   \n",
       "has_churned                     0.316479     -0.396187         0.192825   \n",
       "has_phone                       0.094084      0.004286         0.248275   \n",
       "has_internet                    0.825888     -0.242800         0.763333   \n",
       "has_internet_and_phone          0.793326     -0.212869         0.836041   \n",
       "partner_dependents             -0.132576      0.299319        -0.044482   \n",
       "\n",
       "                        total_charges  tenure_month  has_churned  has_phone  \\\n",
       "id                          -0.000188      0.008700    -0.018405  -0.006987   \n",
       "is_senior_citizen            0.102385      0.015147     0.150709   0.008392   \n",
       "phone_service                0.412877      0.259601     0.035450   0.674792   \n",
       "internet_service             0.428525      0.030413     0.316479   0.094084   \n",
       "contract_int                 0.449706      0.676588    -0.396187   0.004286   \n",
       "monthly_charges              0.651265      0.246022     0.192825   0.248275   \n",
       "total_charges                1.000000      0.825733    -0.199488   0.113800   \n",
       "tenure_month                 0.825733      1.000000    -0.354054   0.009294   \n",
       "has_churned                 -0.199488     -0.354054     1.000000   0.010499   \n",
       "has_phone                    0.113800      0.009294     0.010499   1.000000   \n",
       "has_internet                 0.374967      0.036038     0.228536  -0.171961   \n",
       "has_internet_and_phone       0.405483      0.037924     0.209625   0.484578   \n",
       "partner_dependents           0.177757      0.276539    -0.182739   0.006999   \n",
       "\n",
       "                        has_internet  has_internet_and_phone  \\\n",
       "id                          0.004490               -0.000466   \n",
       "is_senior_citizen           0.182737                0.167613   \n",
       "phone_service               0.083188                0.503897   \n",
       "internet_service            0.825888                0.793326   \n",
       "contract_int               -0.242800               -0.212869   \n",
       "monthly_charges             0.763333                0.836041   \n",
       "total_charges               0.374967                0.405483   \n",
       "tenure_month                0.036038                0.037924   \n",
       "has_churned                 0.228536                0.209625   \n",
       "has_phone                  -0.171961                0.484578   \n",
       "has_internet                1.000000                0.778389   \n",
       "has_internet_and_phone      0.778389                1.000000   \n",
       "partner_dependents         -0.103761               -0.087677   \n",
       "\n",
       "                        partner_dependents  \n",
       "id                               -0.018068  \n",
       "is_senior_citizen                -0.150716  \n",
       "phone_service                     0.033350  \n",
       "internet_service                 -0.132576  \n",
       "contract_int                      0.299319  \n",
       "monthly_charges                  -0.044482  \n",
       "total_charges                     0.177757  \n",
       "tenure_month                      0.276539  \n",
       "has_churned                      -0.182739  \n",
       "has_phone                         0.006999  \n",
       "has_internet                     -0.103761  \n",
       "has_internet_and_phone           -0.087677  \n",
       "partner_dependents                1.000000  "
      ]
     },
     "execution_count": 40,
     "metadata": {},
     "output_type": "execute_result"
    }
   ],
   "source": [
    "df.corr()"
   ]
  },
  {
   "cell_type": "code",
   "execution_count": 35,
   "id": "9c0b5173",
   "metadata": {},
   "outputs": [],
   "source": [
    "x = df.tenure_month\n",
    "y = df.monthly_charges\n",
    "alpha = 0.05"
   ]
  },
  {
   "cell_type": "code",
   "execution_count": 41,
   "id": "187443da",
   "metadata": {},
   "outputs": [
    {
     "data": {
      "text/plain": [
       "(0.24602222678861455, 1.8834273042677756e-97)"
      ]
     },
     "execution_count": 41,
     "metadata": {},
     "output_type": "execute_result"
    }
   ],
   "source": [
    "corr, p = stats.pearsonr(x, y)\n",
    "corr, p"
   ]
  },
  {
   "cell_type": "code",
   "execution_count": 37,
   "id": "a0190adb",
   "metadata": {},
   "outputs": [
    {
     "name": "stdout",
     "output_type": "stream",
     "text": [
      "We reject the null hypothesis\n",
      "We falisifed There is no linear correlation between tenure and monthly charges\n",
      "Evidence supports the There is a liner correlation between tenure and monthly charges\n"
     ]
    }
   ],
   "source": [
    "null_h = \"There is no linear correlation between tenure and monthly charges\"\n",
    "alt_h = \"There is a liner correlation between tenure and monthly charges\"\n",
    "corr, p = stats.pearsonr(x, y)\n",
    "\n",
    "if p < alpha:\n",
    "    print(\"We reject the null hypothesis\")\n",
    "    print(\"We falisifed\", null_h)\n",
    "    print(\"Evidence supports the\", alt_h)\n",
    "else:\n",
    "    print(\"We fail to reject the null hypothesis\")\n",
    "    print(\"There is no evidence to support the \", alt_h)"
   ]
  },
  {
   "cell_type": "code",
   "execution_count": 42,
   "id": "c42c7add",
   "metadata": {},
   "outputs": [],
   "source": [
    " #Total charges? \n",
    "\n",
    "#Null1 H: There is no linear correlation between tenure and total charges.\n",
    "#Alt1 H: There is a liner relationship between tenure and total charges.\n",
    "\n",
    "y = df.total_charges    \n",
    "    \n",
    "corr, p = stats.pearsonr(x, y)"
   ]
  },
  {
   "cell_type": "code",
   "execution_count": 43,
   "id": "d779ff60",
   "metadata": {},
   "outputs": [
    {
     "data": {
      "text/plain": [
       "(0.8257328669183033, 0.0)"
      ]
     },
     "execution_count": 43,
     "metadata": {},
     "output_type": "execute_result"
    }
   ],
   "source": [
    "corr, p"
   ]
  },
  {
   "cell_type": "code",
   "execution_count": 44,
   "id": "3be6cc4e",
   "metadata": {},
   "outputs": [
    {
     "name": "stdout",
     "output_type": "stream",
     "text": [
      "We reject the null hypothesis\n",
      "We falisifed There is no linear correlation between tenure and total charges\n",
      "Evidence supports the There is a liner correlation between tenure and total charges\n"
     ]
    }
   ],
   "source": [
    "null1_h = \"There is no linear correlation between tenure and total charges\"\n",
    "alt1_h = \"There is a liner correlation between tenure and total charges\"\n",
    "corr, p = stats.pearsonr(x, y)\n",
    "\n",
    "if p < alpha:\n",
    "    print(\"We reject the null hypothesis\")\n",
    "    print(\"We falisifed\", null1_h)\n",
    "    print(\"Evidence supports the\", alt1_h)\n",
    "else:\n",
    "    print(\"We fail to reject the null hypothesis\")\n",
    "    print(\"There is no evidence to support the \", alt1_h)"
   ]
  },
  {
   "cell_type": "code",
   "execution_count": 55,
   "id": "cec41893",
   "metadata": {},
   "outputs": [],
   "source": [
    "def correlation_test(x, y):\n",
    "    message = \"\"\n",
    "    corr, p = stats.pearsonr(x, y)\n",
    "    \n",
    "    if p < alpha:\n",
    "        message = \"reject the null hypothesis that there is no linear correlation. Evidence supports a linear correlation.\" \n",
    "    else:\n",
    "        message = \"fail to reject the null hypothesis that there is no linear correlation. Insufficient evidence to support a linear correlation between the two values.\"\n",
    "    \n",
    "    return corr, p, message"
   ]
  },
  {
   "cell_type": "markdown",
   "id": "8c6a5675",
   "metadata": {},
   "source": [
    "# How to Control for Variables\n",
    "\n",
    "Perform your original analysis in a way that removes the variable we're trying to control out of the question.\n",
    "\n",
    "If we control for phone service, and test for linear correlation between tenure and monthly_charges, then we will create a no_phone and a phone group then check their tenure to monthly_charges correlation w/ the Pearson's test\n",
    "\n",
    "If we also control for internet connection, we'll need to produce each pairing of subset# \n",
    "\n",
    "#Null2 H: There is no linear correlation between phone and internet service.\n",
    "#Alt2 H: There is a liner relationship between phone and internet service.\n"
   ]
  },
  {
   "cell_type": "code",
   "execution_count": 48,
   "id": "b7dd3a81",
   "metadata": {},
   "outputs": [
    {
     "data": {
      "text/plain": [
       "One Line             3386\n",
       "Two or More Lines    2966\n",
       "No Phone Service      680\n",
       "Name: phone_type, dtype: int64"
      ]
     },
     "execution_count": 48,
     "metadata": {},
     "output_type": "execute_result"
    }
   ],
   "source": [
    "# We'll run a correlation test for \n",
    "df.phone_type.value_counts()"
   ]
  },
  {
   "cell_type": "code",
   "execution_count": 49,
   "id": "3fbbd1bf",
   "metadata": {},
   "outputs": [
    {
     "data": {
      "text/plain": [
       "Fiber Optic            3097\n",
       "DSL                    2413\n",
       "No Internet Service    1522\n",
       "Name: internet_type, dtype: int64"
      ]
     },
     "execution_count": 49,
     "metadata": {},
     "output_type": "execute_result"
    }
   ],
   "source": [
    "df.internet_type.value_counts()"
   ]
  },
  {
   "cell_type": "code",
   "execution_count": 50,
   "id": "fd34dc74",
   "metadata": {},
   "outputs": [
    {
     "data": {
      "text/html": [
       "<div>\n",
       "<style scoped>\n",
       "    .dataframe tbody tr th:only-of-type {\n",
       "        vertical-align: middle;\n",
       "    }\n",
       "\n",
       "    .dataframe tbody tr th {\n",
       "        vertical-align: top;\n",
       "    }\n",
       "\n",
       "    .dataframe thead th {\n",
       "        text-align: right;\n",
       "    }\n",
       "</style>\n",
       "<table border=\"1\" class=\"dataframe\">\n",
       "  <thead>\n",
       "    <tr style=\"text-align: right;\">\n",
       "      <th></th>\n",
       "      <th>0</th>\n",
       "      <th>1</th>\n",
       "      <th>2</th>\n",
       "      <th>3</th>\n",
       "      <th>4</th>\n",
       "    </tr>\n",
       "  </thead>\n",
       "  <tbody>\n",
       "    <tr>\n",
       "      <th>id</th>\n",
       "      <td>0</td>\n",
       "      <td>1</td>\n",
       "      <td>2</td>\n",
       "      <td>3</td>\n",
       "      <td>4</td>\n",
       "    </tr>\n",
       "    <tr>\n",
       "      <th>customer_id</th>\n",
       "      <td>0002-ORFBO</td>\n",
       "      <td>0003-MKNFE</td>\n",
       "      <td>0004-TLHLJ</td>\n",
       "      <td>0011-IGKFF</td>\n",
       "      <td>0013-EXCHZ</td>\n",
       "    </tr>\n",
       "    <tr>\n",
       "      <th>gender</th>\n",
       "      <td>Female</td>\n",
       "      <td>Male</td>\n",
       "      <td>Male</td>\n",
       "      <td>Male</td>\n",
       "      <td>Female</td>\n",
       "    </tr>\n",
       "    <tr>\n",
       "      <th>is_senior_citizen</th>\n",
       "      <td>0</td>\n",
       "      <td>0</td>\n",
       "      <td>0</td>\n",
       "      <td>1</td>\n",
       "      <td>1</td>\n",
       "    </tr>\n",
       "    <tr>\n",
       "      <th>partner</th>\n",
       "      <td>Yes</td>\n",
       "      <td>No</td>\n",
       "      <td>No</td>\n",
       "      <td>Yes</td>\n",
       "      <td>Yes</td>\n",
       "    </tr>\n",
       "    <tr>\n",
       "      <th>dependents</th>\n",
       "      <td>Yes</td>\n",
       "      <td>No</td>\n",
       "      <td>No</td>\n",
       "      <td>No</td>\n",
       "      <td>No</td>\n",
       "    </tr>\n",
       "    <tr>\n",
       "      <th>phone_service</th>\n",
       "      <td>1</td>\n",
       "      <td>2</td>\n",
       "      <td>1</td>\n",
       "      <td>1</td>\n",
       "      <td>1</td>\n",
       "    </tr>\n",
       "    <tr>\n",
       "      <th>internet_service</th>\n",
       "      <td>1</td>\n",
       "      <td>1</td>\n",
       "      <td>2</td>\n",
       "      <td>2</td>\n",
       "      <td>2</td>\n",
       "    </tr>\n",
       "    <tr>\n",
       "      <th>contract_int</th>\n",
       "      <td>1</td>\n",
       "      <td>0</td>\n",
       "      <td>0</td>\n",
       "      <td>0</td>\n",
       "      <td>0</td>\n",
       "    </tr>\n",
       "    <tr>\n",
       "      <th>payment_type</th>\n",
       "      <td>Mailed check</td>\n",
       "      <td>Mailed check</td>\n",
       "      <td>Electronic check</td>\n",
       "      <td>Electronic check</td>\n",
       "      <td>Mailed check</td>\n",
       "    </tr>\n",
       "    <tr>\n",
       "      <th>monthly_charges</th>\n",
       "      <td>65.6</td>\n",
       "      <td>59.9</td>\n",
       "      <td>73.9</td>\n",
       "      <td>98.0</td>\n",
       "      <td>83.9</td>\n",
       "    </tr>\n",
       "    <tr>\n",
       "      <th>total_charges</th>\n",
       "      <td>593.3</td>\n",
       "      <td>542.4</td>\n",
       "      <td>280.85</td>\n",
       "      <td>1237.85</td>\n",
       "      <td>267.4</td>\n",
       "    </tr>\n",
       "    <tr>\n",
       "      <th>churn</th>\n",
       "      <td>No</td>\n",
       "      <td>No</td>\n",
       "      <td>Yes</td>\n",
       "      <td>Yes</td>\n",
       "      <td>Yes</td>\n",
       "    </tr>\n",
       "    <tr>\n",
       "      <th>tenure_month</th>\n",
       "      <td>9.0</td>\n",
       "      <td>9.1</td>\n",
       "      <td>3.8</td>\n",
       "      <td>12.6</td>\n",
       "      <td>3.2</td>\n",
       "    </tr>\n",
       "    <tr>\n",
       "      <th>has_churned</th>\n",
       "      <td>False</td>\n",
       "      <td>False</td>\n",
       "      <td>True</td>\n",
       "      <td>True</td>\n",
       "      <td>True</td>\n",
       "    </tr>\n",
       "    <tr>\n",
       "      <th>has_phone</th>\n",
       "      <td>True</td>\n",
       "      <td>True</td>\n",
       "      <td>True</td>\n",
       "      <td>True</td>\n",
       "      <td>True</td>\n",
       "    </tr>\n",
       "    <tr>\n",
       "      <th>has_internet</th>\n",
       "      <td>True</td>\n",
       "      <td>True</td>\n",
       "      <td>True</td>\n",
       "      <td>True</td>\n",
       "      <td>True</td>\n",
       "    </tr>\n",
       "    <tr>\n",
       "      <th>has_internet_and_phone</th>\n",
       "      <td>True</td>\n",
       "      <td>True</td>\n",
       "      <td>True</td>\n",
       "      <td>True</td>\n",
       "      <td>True</td>\n",
       "    </tr>\n",
       "    <tr>\n",
       "      <th>partner_dependents</th>\n",
       "      <td>3</td>\n",
       "      <td>0</td>\n",
       "      <td>0</td>\n",
       "      <td>1</td>\n",
       "      <td>1</td>\n",
       "    </tr>\n",
       "    <tr>\n",
       "      <th>start_day</th>\n",
       "      <td>2020-05-03</td>\n",
       "      <td>2020-05-03</td>\n",
       "      <td>2020-11-03</td>\n",
       "      <td>2020-02-03</td>\n",
       "      <td>2020-11-03</td>\n",
       "    </tr>\n",
       "    <tr>\n",
       "      <th>phone_type</th>\n",
       "      <td>One Line</td>\n",
       "      <td>Two or More Lines</td>\n",
       "      <td>One Line</td>\n",
       "      <td>One Line</td>\n",
       "      <td>One Line</td>\n",
       "    </tr>\n",
       "    <tr>\n",
       "      <th>internet_type</th>\n",
       "      <td>DSL</td>\n",
       "      <td>DSL</td>\n",
       "      <td>Fiber Optic</td>\n",
       "      <td>Fiber Optic</td>\n",
       "      <td>Fiber Optic</td>\n",
       "    </tr>\n",
       "    <tr>\n",
       "      <th>contract_type</th>\n",
       "      <td>1 Year</td>\n",
       "      <td>Month-to-Month</td>\n",
       "      <td>Month-to-Month</td>\n",
       "      <td>Month-to-Month</td>\n",
       "      <td>Month-to-Month</td>\n",
       "    </tr>\n",
       "    <tr>\n",
       "      <th>telecom_setup</th>\n",
       "      <td>DSL One Line</td>\n",
       "      <td>DSL Two or More Lines</td>\n",
       "      <td>Fiber Optic One Line</td>\n",
       "      <td>Fiber Optic One Line</td>\n",
       "      <td>Fiber Optic One Line</td>\n",
       "    </tr>\n",
       "  </tbody>\n",
       "</table>\n",
       "</div>"
      ],
      "text/plain": [
       "                                   0                      1  \\\n",
       "id                                 0                      1   \n",
       "customer_id               0002-ORFBO             0003-MKNFE   \n",
       "gender                        Female                   Male   \n",
       "is_senior_citizen                  0                      0   \n",
       "partner                          Yes                     No   \n",
       "dependents                       Yes                     No   \n",
       "phone_service                      1                      2   \n",
       "internet_service                   1                      1   \n",
       "contract_int                       1                      0   \n",
       "payment_type            Mailed check           Mailed check   \n",
       "monthly_charges                 65.6                   59.9   \n",
       "total_charges                  593.3                  542.4   \n",
       "churn                             No                     No   \n",
       "tenure_month                     9.0                    9.1   \n",
       "has_churned                    False                  False   \n",
       "has_phone                       True                   True   \n",
       "has_internet                    True                   True   \n",
       "has_internet_and_phone          True                   True   \n",
       "partner_dependents                 3                      0   \n",
       "start_day                 2020-05-03             2020-05-03   \n",
       "phone_type                  One Line      Two or More Lines   \n",
       "internet_type                    DSL                    DSL   \n",
       "contract_type                 1 Year         Month-to-Month   \n",
       "telecom_setup           DSL One Line  DSL Two or More Lines   \n",
       "\n",
       "                                           2                     3  \\\n",
       "id                                         2                     3   \n",
       "customer_id                       0004-TLHLJ            0011-IGKFF   \n",
       "gender                                  Male                  Male   \n",
       "is_senior_citizen                          0                     1   \n",
       "partner                                   No                   Yes   \n",
       "dependents                                No                    No   \n",
       "phone_service                              1                     1   \n",
       "internet_service                           2                     2   \n",
       "contract_int                               0                     0   \n",
       "payment_type                Electronic check      Electronic check   \n",
       "monthly_charges                         73.9                  98.0   \n",
       "total_charges                         280.85               1237.85   \n",
       "churn                                    Yes                   Yes   \n",
       "tenure_month                             3.8                  12.6   \n",
       "has_churned                             True                  True   \n",
       "has_phone                               True                  True   \n",
       "has_internet                            True                  True   \n",
       "has_internet_and_phone                  True                  True   \n",
       "partner_dependents                         0                     1   \n",
       "start_day                         2020-11-03            2020-02-03   \n",
       "phone_type                          One Line              One Line   \n",
       "internet_type                    Fiber Optic           Fiber Optic   \n",
       "contract_type                 Month-to-Month        Month-to-Month   \n",
       "telecom_setup           Fiber Optic One Line  Fiber Optic One Line   \n",
       "\n",
       "                                           4  \n",
       "id                                         4  \n",
       "customer_id                       0013-EXCHZ  \n",
       "gender                                Female  \n",
       "is_senior_citizen                          1  \n",
       "partner                                  Yes  \n",
       "dependents                                No  \n",
       "phone_service                              1  \n",
       "internet_service                           2  \n",
       "contract_int                               0  \n",
       "payment_type                    Mailed check  \n",
       "monthly_charges                         83.9  \n",
       "total_charges                          267.4  \n",
       "churn                                    Yes  \n",
       "tenure_month                             3.2  \n",
       "has_churned                             True  \n",
       "has_phone                               True  \n",
       "has_internet                            True  \n",
       "has_internet_and_phone                  True  \n",
       "partner_dependents                         1  \n",
       "start_day                         2020-11-03  \n",
       "phone_type                          One Line  \n",
       "internet_type                    Fiber Optic  \n",
       "contract_type                 Month-to-Month  \n",
       "telecom_setup           Fiber Optic One Line  "
      ]
     },
     "execution_count": 50,
     "metadata": {},
     "output_type": "execute_result"
    }
   ],
   "source": [
    "# Let's combine all these different values together\n",
    "df[\"telecom_setup\"] = df.internet_type + \" \" + df.phone_type\n",
    "df.head().T"
   ]
  },
  {
   "cell_type": "code",
   "execution_count": 51,
   "id": "272d28da",
   "metadata": {},
   "outputs": [
    {
     "data": {
      "text/plain": [
       "Fiber Optic Two or More Lines            1937\n",
       "No Internet Service One Line             1182\n",
       "Fiber Optic One Line                     1160\n",
       "DSL One Line                             1044\n",
       "DSL Two or More Lines                     689\n",
       "DSL No Phone Service                      680\n",
       "No Internet Service Two or More Lines     340\n",
       "Name: telecom_setup, dtype: int64"
      ]
     },
     "execution_count": 51,
     "metadata": {},
     "output_type": "execute_result"
    }
   ],
   "source": [
    "df.telecom_setup.value_counts()"
   ]
  },
  {
   "cell_type": "code",
   "execution_count": 52,
   "id": "f0bf7c5b",
   "metadata": {},
   "outputs": [
    {
     "data": {
      "text/plain": [
       "Index(['Fiber Optic Two or More Lines', 'No Internet Service One Line',\n",
       "       'Fiber Optic One Line', 'DSL One Line', 'DSL Two or More Lines',\n",
       "       'DSL No Phone Service', 'No Internet Service Two or More Lines'],\n",
       "      dtype='object')"
      ]
     },
     "execution_count": 52,
     "metadata": {},
     "output_type": "execute_result"
    }
   ],
   "source": [
    "options = df.telecom_setup.value_counts().index\n",
    "options"
   ]
  },
  {
   "cell_type": "code",
   "execution_count": 53,
   "id": "ec2a0bc6",
   "metadata": {},
   "outputs": [
    {
     "data": {
      "text/plain": [
       "'No Internet Service One Line'"
      ]
     },
     "execution_count": 53,
     "metadata": {},
     "output_type": "execute_result"
    }
   ],
   "source": [
    "options[1]"
   ]
  },
  {
   "cell_type": "code",
   "execution_count": 56,
   "id": "8dbbc0c1",
   "metadata": {},
   "outputs": [
    {
     "name": "stdout",
     "output_type": "stream",
     "text": [
      "Correlation test for tenure vs. monthly_charges, controling for Internet/Phone service\n"
     ]
    },
    {
     "data": {
      "text/html": [
       "<div>\n",
       "<style scoped>\n",
       "    .dataframe tbody tr th:only-of-type {\n",
       "        vertical-align: middle;\n",
       "    }\n",
       "\n",
       "    .dataframe tbody tr th {\n",
       "        vertical-align: top;\n",
       "    }\n",
       "\n",
       "    .dataframe thead th {\n",
       "        text-align: right;\n",
       "    }\n",
       "</style>\n",
       "<table border=\"1\" class=\"dataframe\">\n",
       "  <thead>\n",
       "    <tr style=\"text-align: right;\">\n",
       "      <th></th>\n",
       "      <th>option</th>\n",
       "      <th>corr</th>\n",
       "      <th>p</th>\n",
       "      <th>message</th>\n",
       "    </tr>\n",
       "  </thead>\n",
       "  <tbody>\n",
       "    <tr>\n",
       "      <th>0</th>\n",
       "      <td>Fiber Optic Two or More Lines</td>\n",
       "      <td>0.573677</td>\n",
       "      <td>6.125936e-170</td>\n",
       "      <td>reject the null hypothesis that there is no linear correlation. Evidence supports a li...</td>\n",
       "    </tr>\n",
       "    <tr>\n",
       "      <th>1</th>\n",
       "      <td>No Internet Service One Line</td>\n",
       "      <td>-0.012010</td>\n",
       "      <td>6.799938e-01</td>\n",
       "      <td>fail to reject the null hypothesis that there is no linear correlation. Insufficient e...</td>\n",
       "    </tr>\n",
       "    <tr>\n",
       "      <th>2</th>\n",
       "      <td>Fiber Optic One Line</td>\n",
       "      <td>0.529938</td>\n",
       "      <td>5.607453e-85</td>\n",
       "      <td>reject the null hypothesis that there is no linear correlation. Evidence supports a li...</td>\n",
       "    </tr>\n",
       "    <tr>\n",
       "      <th>3</th>\n",
       "      <td>DSL One Line</td>\n",
       "      <td>0.561734</td>\n",
       "      <td>7.199649e-88</td>\n",
       "      <td>reject the null hypothesis that there is no linear correlation. Evidence supports a li...</td>\n",
       "    </tr>\n",
       "    <tr>\n",
       "      <th>4</th>\n",
       "      <td>DSL Two or More Lines</td>\n",
       "      <td>0.610191</td>\n",
       "      <td>1.647669e-71</td>\n",
       "      <td>reject the null hypothesis that there is no linear correlation. Evidence supports a li...</td>\n",
       "    </tr>\n",
       "    <tr>\n",
       "      <th>5</th>\n",
       "      <td>DSL No Phone Service</td>\n",
       "      <td>0.591798</td>\n",
       "      <td>1.736039e-65</td>\n",
       "      <td>reject the null hypothesis that there is no linear correlation. Evidence supports a li...</td>\n",
       "    </tr>\n",
       "    <tr>\n",
       "      <th>6</th>\n",
       "      <td>No Internet Service Two or More Lines</td>\n",
       "      <td>-0.031353</td>\n",
       "      <td>5.645227e-01</td>\n",
       "      <td>fail to reject the null hypothesis that there is no linear correlation. Insufficient e...</td>\n",
       "    </tr>\n",
       "  </tbody>\n",
       "</table>\n",
       "</div>"
      ],
      "text/plain": [
       "                                  option      corr              p  \\\n",
       "0          Fiber Optic Two or More Lines  0.573677  6.125936e-170   \n",
       "1           No Internet Service One Line -0.012010   6.799938e-01   \n",
       "2                   Fiber Optic One Line  0.529938   5.607453e-85   \n",
       "3                           DSL One Line  0.561734   7.199649e-88   \n",
       "4                  DSL Two or More Lines  0.610191   1.647669e-71   \n",
       "5                   DSL No Phone Service  0.591798   1.736039e-65   \n",
       "6  No Internet Service Two or More Lines -0.031353   5.645227e-01   \n",
       "\n",
       "                                                                                     message  \n",
       "0  reject the null hypothesis that there is no linear correlation. Evidence supports a li...  \n",
       "1  fail to reject the null hypothesis that there is no linear correlation. Insufficient e...  \n",
       "2  reject the null hypothesis that there is no linear correlation. Evidence supports a li...  \n",
       "3  reject the null hypothesis that there is no linear correlation. Evidence supports a li...  \n",
       "4  reject the null hypothesis that there is no linear correlation. Evidence supports a li...  \n",
       "5  reject the null hypothesis that there is no linear correlation. Evidence supports a li...  \n",
       "6  fail to reject the null hypothesis that there is no linear correlation. Insufficient e...  "
      ]
     },
     "execution_count": 56,
     "metadata": {},
     "output_type": "execute_result"
    }
   ],
   "source": [
    "# Run through the set of all options for tenure vs. monthly_charges\n",
    "\n",
    "output = []\n",
    "\n",
    "for option in options:\n",
    "    subset = df[df.telecom_setup == option]\n",
    "    corr, p, message = correlation_test(subset.tenure_month, subset.monthly_charges)\n",
    "    result = {\n",
    "        \"option\": option,\n",
    "        \"corr\": corr,\n",
    "        \"p\": p,\n",
    "        \"message\": message\n",
    "    }\n",
    "    output.append(result)\n",
    "\n",
    "print(\"Correlation test for tenure vs. monthly_charges, controling for Internet/Phone service\")\n",
    "pd.DataFrame(output)"
   ]
  },
  {
   "cell_type": "code",
   "execution_count": 58,
   "id": "69ffb573",
   "metadata": {},
   "outputs": [
    {
     "data": {
      "text/plain": [
       "<AxesSubplot:xlabel='tenure_month', ylabel='monthly_charges'>"
      ]
     },
     "execution_count": 58,
     "metadata": {},
     "output_type": "execute_result"
    },
    {
     "data": {
      "image/png": "[encoded data removed]",
      "text/plain": [
       "<Figure size 432x288 with 1 Axes>"
      ]
     },
     "metadata": {
      "needs_background": "light"
     },
     "output_type": "display_data"
    }
   ],
   "source": [
    "fiber_2_lines = df[df.telecom_setup == \"Fiber Optic Two or More Lines\"]\n",
    "sns.scatterplot(x=\"tenure_month\", y=\"monthly_charges\", data=fiber_2_lines)"
   ]
  },
  {
   "cell_type": "code",
   "execution_count": 59,
   "id": "7c7b145a",
   "metadata": {},
   "outputs": [
    {
     "data": {
      "text/plain": [
       "<AxesSubplot:xlabel='tenure_month', ylabel='monthly_charges'>"
      ]
     },
     "execution_count": 59,
     "metadata": {},
     "output_type": "execute_result"
    },
    {
     "data": {
      "image/png": "[encoded data removed]",
      "text/plain": [
       "<Figure size 432x288 with 1 Axes>"
      ]
     },
     "metadata": {
      "needs_background": "light"
     },
     "output_type": "display_data"
    }
   ],
   "source": [
    "no_internet_one_line = df[df.telecom_setup == \"No Internet Service One Line\"]\n",
    "sns.scatterplot(x=\"tenure_month\", y=\"monthly_charges\", data=no_internet_one_line)"
   ]
  },
  {
   "cell_type": "code",
   "execution_count": 60,
   "id": "2e4c5fa5",
   "metadata": {},
   "outputs": [
    {
     "data": {
      "text/plain": [
       "<AxesSubplot:xlabel='tenure_month', ylabel='monthly_charges'>"
      ]
     },
     "execution_count": 60,
     "metadata": {},
     "output_type": "execute_result"
    },
    {
     "data": {
      "image/png": "[encoded data removed]",
      "text/plain": [
       "<Figure size 432x288 with 1 Axes>"
      ]
     },
     "metadata": {
      "needs_background": "light"
     },
     "output_type": "display_data"
    }
   ],
   "source": [
    "no_internet_multiple_lines = df[df.telecom_setup == \"No Internet Service Two or More Lines\"]\n",
    "sns.scatterplot(x=\"tenure_month\", y=\"monthly_charges\", data=no_internet_multiple_lines)"
   ]
  },
  {
   "cell_type": "code",
   "execution_count": 61,
   "id": "57556d92",
   "metadata": {},
   "outputs": [
    {
     "name": "stdout",
     "output_type": "stream",
     "text": [
      "Correlation test for tenure vs. total_charges, controling for Internet/Phone service\n"
     ]
    },
    {
     "data": {
      "text/html": [
       "<div>\n",
       "<style scoped>\n",
       "    .dataframe tbody tr th:only-of-type {\n",
       "        vertical-align: middle;\n",
       "    }\n",
       "\n",
       "    .dataframe tbody tr th {\n",
       "        vertical-align: top;\n",
       "    }\n",
       "\n",
       "    .dataframe thead th {\n",
       "        text-align: right;\n",
       "    }\n",
       "</style>\n",
       "<table border=\"1\" class=\"dataframe\">\n",
       "  <thead>\n",
       "    <tr style=\"text-align: right;\">\n",
       "      <th></th>\n",
       "      <th>option</th>\n",
       "      <th>corr</th>\n",
       "      <th>p</th>\n",
       "      <th>message</th>\n",
       "    </tr>\n",
       "  </thead>\n",
       "  <tbody>\n",
       "    <tr>\n",
       "      <th>0</th>\n",
       "      <td>Fiber Optic Two or More Lines</td>\n",
       "      <td>0.983949</td>\n",
       "      <td>0.0</td>\n",
       "      <td>reject the null hypothesis that there is no linear correlation. Evidence supports a li...</td>\n",
       "    </tr>\n",
       "    <tr>\n",
       "      <th>1</th>\n",
       "      <td>No Internet Service One Line</td>\n",
       "      <td>0.999276</td>\n",
       "      <td>0.0</td>\n",
       "      <td>reject the null hypothesis that there is no linear correlation. Evidence supports a li...</td>\n",
       "    </tr>\n",
       "    <tr>\n",
       "      <th>2</th>\n",
       "      <td>Fiber Optic One Line</td>\n",
       "      <td>0.987473</td>\n",
       "      <td>0.0</td>\n",
       "      <td>reject the null hypothesis that there is no linear correlation. Evidence supports a li...</td>\n",
       "    </tr>\n",
       "    <tr>\n",
       "      <th>3</th>\n",
       "      <td>DSL One Line</td>\n",
       "      <td>0.974246</td>\n",
       "      <td>0.0</td>\n",
       "      <td>reject the null hypothesis that there is no linear correlation. Evidence supports a li...</td>\n",
       "    </tr>\n",
       "    <tr>\n",
       "      <th>4</th>\n",
       "      <td>DSL Two or More Lines</td>\n",
       "      <td>0.967037</td>\n",
       "      <td>0.0</td>\n",
       "      <td>reject the null hypothesis that there is no linear correlation. Evidence supports a li...</td>\n",
       "    </tr>\n",
       "    <tr>\n",
       "      <th>5</th>\n",
       "      <td>DSL No Phone Service</td>\n",
       "      <td>0.954261</td>\n",
       "      <td>0.0</td>\n",
       "      <td>reject the null hypothesis that there is no linear correlation. Evidence supports a li...</td>\n",
       "    </tr>\n",
       "    <tr>\n",
       "      <th>6</th>\n",
       "      <td>No Internet Service Two or More Lines</td>\n",
       "      <td>0.998031</td>\n",
       "      <td>0.0</td>\n",
       "      <td>reject the null hypothesis that there is no linear correlation. Evidence supports a li...</td>\n",
       "    </tr>\n",
       "  </tbody>\n",
       "</table>\n",
       "</div>"
      ],
      "text/plain": [
       "                                  option      corr    p  \\\n",
       "0          Fiber Optic Two or More Lines  0.983949  0.0   \n",
       "1           No Internet Service One Line  0.999276  0.0   \n",
       "2                   Fiber Optic One Line  0.987473  0.0   \n",
       "3                           DSL One Line  0.974246  0.0   \n",
       "4                  DSL Two or More Lines  0.967037  0.0   \n",
       "5                   DSL No Phone Service  0.954261  0.0   \n",
       "6  No Internet Service Two or More Lines  0.998031  0.0   \n",
       "\n",
       "                                                                                     message  \n",
       "0  reject the null hypothesis that there is no linear correlation. Evidence supports a li...  \n",
       "1  reject the null hypothesis that there is no linear correlation. Evidence supports a li...  \n",
       "2  reject the null hypothesis that there is no linear correlation. Evidence supports a li...  \n",
       "3  reject the null hypothesis that there is no linear correlation. Evidence supports a li...  \n",
       "4  reject the null hypothesis that there is no linear correlation. Evidence supports a li...  \n",
       "5  reject the null hypothesis that there is no linear correlation. Evidence supports a li...  \n",
       "6  reject the null hypothesis that there is no linear correlation. Evidence supports a li...  "
      ]
     },
     "execution_count": 61,
     "metadata": {},
     "output_type": "execute_result"
    }
   ],
   "source": [
    "# Run through the set of all options for tenure vs. total_charges\n",
    "\n",
    "output = []\n",
    "\n",
    "for option in options:\n",
    "    subset = df[df.telecom_setup == option]\n",
    "    corr, p, message = correlation_test(subset.tenure_month, subset.total_charges)\n",
    "    result = {\n",
    "        \"option\": option,\n",
    "        \"corr\": corr,\n",
    "        \"p\": p,\n",
    "        \"message\": message\n",
    "    }\n",
    "    output.append(result)\n",
    "\n",
    "print(\"Correlation test for tenure vs. total_charges, controling for Internet/Phone service\") \n",
    "pd.DataFrame(output)"
   ]
  },
  {
   "cell_type": "code",
   "execution_count": 144,
   "id": "1bc60125",
   "metadata": {},
   "outputs": [],
   "source": [
    "# 2. Use the employees database.\n",
    "\n",
    "    #Is there a relationship between how long an employee has been with the company and their salary?\n",
    "    #Is there a relationship between how long an employee has been with the company and the number of titles \n",
    "    #they have had?\n",
    "def get_data_from_sql(user, host, password, database, query):\n",
    "    '''\n",
    "    take in user, host, password, \n",
    "    database and query\n",
    "    Access sql database\n",
    "    return a pandas dataframe of the query results   \n",
    "    '''\n",
    "    \n",
    "    url = f'mysql+pymysql://{user}:{password}@{host}/{database}'\n",
    "        \n",
    "    return pd.read_sql(query, url)"
   ]
  },
  {
   "cell_type": "code",
   "execution_count": 115,
   "id": "9c764309",
   "metadata": {},
   "outputs": [],
   "source": [
    "database = 'employees'\n",
    "\n",
    "sql = \"\"\"\n",
    "select datediff(curdate(), hire_date) as days_on_job, salary\n",
    "from employees\n",
    "join salaries using(emp_no)\n",
    "where to_date > curdate();\n",
    "\"\"\"\n",
    "\n",
    "df = get_data_from_sql(user, host, password, database, query)"
   ]
  },
  {
   "cell_type": "code",
   "execution_count": 105,
   "id": "70503995",
   "metadata": {},
   "outputs": [
    {
     "data": {
      "text/html": [
       "<div>\n",
       "<style scoped>\n",
       "    .dataframe tbody tr th:only-of-type {\n",
       "        vertical-align: middle;\n",
       "    }\n",
       "\n",
       "    .dataframe tbody tr th {\n",
       "        vertical-align: top;\n",
       "    }\n",
       "\n",
       "    .dataframe thead th {\n",
       "        text-align: right;\n",
       "    }\n",
       "</style>\n",
       "<table border=\"1\" class=\"dataframe\">\n",
       "  <thead>\n",
       "    <tr style=\"text-align: right;\">\n",
       "      <th></th>\n",
       "      <th>days_on_job</th>\n",
       "      <th>salary</th>\n",
       "    </tr>\n",
       "  </thead>\n",
       "  <tbody>\n",
       "    <tr>\n",
       "      <th>0</th>\n",
       "      <td>12832</td>\n",
       "      <td>88958</td>\n",
       "    </tr>\n",
       "    <tr>\n",
       "      <th>1</th>\n",
       "      <td>13049</td>\n",
       "      <td>72527</td>\n",
       "    </tr>\n",
       "    <tr>\n",
       "      <th>2</th>\n",
       "      <td>12769</td>\n",
       "      <td>43311</td>\n",
       "    </tr>\n",
       "  </tbody>\n",
       "</table>\n",
       "</div>"
      ],
      "text/plain": [
       "   days_on_job  salary\n",
       "0        12832   88958\n",
       "1        13049   72527\n",
       "2        12769   43311"
      ]
     },
     "execution_count": 105,
     "metadata": {},
     "output_type": "execute_result"
    }
   ],
   "source": [
    "df.head(3)"
   ]
  },
  {
   "cell_type": "code",
   "execution_count": 106,
   "id": "82913bcb",
   "metadata": {},
   "outputs": [
    {
     "data": {
      "text/plain": [
       "<AxesSubplot:xlabel='days_on_job', ylabel='salary'>"
      ]
     },
     "execution_count": 106,
     "metadata": {},
     "output_type": "execute_result"
    },
    {
     "data": {
      "image/png": "[encoded data removed]",
      "text/plain": [
       "<Figure size 432x288 with 1 Axes>"
      ]
     },
     "metadata": {
      "needs_background": "light"
     },
     "output_type": "display_data"
    }
   ],
   "source": [
    "sns.scatterplot(x=\"days_on_job\", y=\"salary\", data=df)"
   ]
  },
  {
   "cell_type": "markdown",
   "id": "1a5936f5",
   "metadata": {},
   "source": [
    "# Is there a relationship between how long an employee has been with the company and their salary?\n",
    "\n",
    "$H_o$: There is not a linear correlation between employee tenure and salary\n",
    "\n",
    "$H_a$: There is a linear correlation between employee tenure and salary\n"
   ]
  },
  {
   "cell_type": "code",
   "execution_count": 107,
   "id": "b60728f9",
   "metadata": {},
   "outputs": [
    {
     "name": "stdout",
     "output_type": "stream",
     "text": [
      "We reject the null hypothesis\n",
      "Evidence supports the claim that there is a linear correlation\n"
     ]
    },
    {
     "data": {
      "text/plain": [
       "(0.30646256131860894, 0.0)"
      ]
     },
     "execution_count": 107,
     "metadata": {},
     "output_type": "execute_result"
    }
   ],
   "source": [
    "alpha = 0.05\n",
    "corr, p = stats.pearsonr(df.days_on_job, df.salary)\n",
    "\n",
    "if p < alpha:\n",
    "    print(\"We reject the null hypothesis\")\n",
    "    print(\"Evidence supports the claim that there is a linear correlation\")\n",
    "else:\n",
    "    print(\"We fail to reject the null hypothesis\")\n",
    "\n",
    "corr, p"
   ]
  },
  {
   "cell_type": "markdown",
   "id": "2eb5f3d2",
   "metadata": {},
   "source": [
    "# Is there a relationship between how long an employee has been with the company and the number of titles they have had?\n",
    "\n",
    "$H_o$: There is no linear correlation between tenure and number of titles\n",
    "\n",
    "$H_a$: There is a linear correlation between tenure and number of titles"
   ]
  },
  {
   "cell_type": "code",
   "execution_count": 116,
   "id": "18043a47",
   "metadata": {},
   "outputs": [],
   "source": [
    "database = 'employees'\n",
    "sql = \"\"\"\n",
    "select emp_no, count(title) as title_count, datediff(curdate(), hire_date) as days_on_job\n",
    "from employees\n",
    "join titles using(emp_no)\n",
    "group by emp_no;\n",
    "\"\"\"\n",
    "df = get_data_from_sql(user, host, password, database, query)"
   ]
  },
  {
   "cell_type": "code",
   "execution_count": 120,
   "id": "d77e7939",
   "metadata": {},
   "outputs": [
    {
     "data": {
      "text/html": [
       "<div>\n",
       "<style scoped>\n",
       "    .dataframe tbody tr th:only-of-type {\n",
       "        vertical-align: middle;\n",
       "    }\n",
       "\n",
       "    .dataframe tbody tr th {\n",
       "        vertical-align: top;\n",
       "    }\n",
       "\n",
       "    .dataframe thead th {\n",
       "        text-align: right;\n",
       "    }\n",
       "</style>\n",
       "<table border=\"1\" class=\"dataframe\">\n",
       "  <thead>\n",
       "    <tr style=\"text-align: right;\">\n",
       "      <th></th>\n",
       "      <th>days_on_job</th>\n",
       "      <th>salary</th>\n",
       "    </tr>\n",
       "  </thead>\n",
       "  <tbody>\n",
       "    <tr>\n",
       "      <th>0</th>\n",
       "      <td>12832</td>\n",
       "      <td>88958</td>\n",
       "    </tr>\n",
       "    <tr>\n",
       "      <th>1</th>\n",
       "      <td>13049</td>\n",
       "      <td>72527</td>\n",
       "    </tr>\n",
       "    <tr>\n",
       "      <th>2</th>\n",
       "      <td>12769</td>\n",
       "      <td>43311</td>\n",
       "    </tr>\n",
       "    <tr>\n",
       "      <th>3</th>\n",
       "      <td>12674</td>\n",
       "      <td>74057</td>\n",
       "    </tr>\n",
       "    <tr>\n",
       "      <th>4</th>\n",
       "      <td>11658</td>\n",
       "      <td>94692</td>\n",
       "    </tr>\n",
       "  </tbody>\n",
       "</table>\n",
       "</div>"
      ],
      "text/plain": [
       "   days_on_job  salary\n",
       "0        12832   88958\n",
       "1        13049   72527\n",
       "2        12769   43311\n",
       "3        12674   74057\n",
       "4        11658   94692"
      ]
     },
     "execution_count": 120,
     "metadata": {},
     "output_type": "execute_result"
    }
   ],
   "source": [
    "\n",
    "df.head()"
   ]
  },
  {
   "cell_type": "code",
   "execution_count": 121,
   "id": "698ff3de",
   "metadata": {},
   "outputs": [
    {
     "ename": "AttributeError",
     "evalue": "'DataFrame' object has no attribute 'title_count'",
     "output_type": "error",
     "traceback": [
      "\u001b[0;31m---------------------------------------------------------------------------\u001b[0m",
      "\u001b[0;31mAttributeError\u001b[0m                            Traceback (most recent call last)",
      "\u001b[0;32m<ipython-input-121-d35832c3c845>\u001b[0m in \u001b[0;36m<module>\u001b[0;34m\u001b[0m\n\u001b[0;32m----> 1\u001b[0;31m \u001b[0mcorr\u001b[0m\u001b[0;34m,\u001b[0m \u001b[0mp\u001b[0m \u001b[0;34m=\u001b[0m \u001b[0mstats\u001b[0m\u001b[0;34m.\u001b[0m\u001b[0mpearsonr\u001b[0m\u001b[0;34m(\u001b[0m\u001b[0mdf\u001b[0m\u001b[0;34m.\u001b[0m\u001b[0mdays_on_job\u001b[0m\u001b[0;34m,\u001b[0m \u001b[0mdf\u001b[0m\u001b[0;34m.\u001b[0m\u001b[0mtitle_count\u001b[0m\u001b[0;34m)\u001b[0m\u001b[0;34m\u001b[0m\u001b[0;34m\u001b[0m\u001b[0m\n\u001b[0m\u001b[1;32m      2\u001b[0m \u001b[0;34m\u001b[0m\u001b[0m\n\u001b[1;32m      3\u001b[0m \u001b[0;32mif\u001b[0m \u001b[0mp\u001b[0m \u001b[0;34m<\u001b[0m \u001b[0malpha\u001b[0m\u001b[0;34m:\u001b[0m\u001b[0;34m\u001b[0m\u001b[0;34m\u001b[0m\u001b[0m\n\u001b[1;32m      4\u001b[0m     \u001b[0mprint\u001b[0m\u001b[0;34m(\u001b[0m\u001b[0;34m\"We reject the null hypothesis\"\u001b[0m\u001b[0;34m)\u001b[0m\u001b[0;34m\u001b[0m\u001b[0;34m\u001b[0m\u001b[0m\n\u001b[1;32m      5\u001b[0m     \u001b[0mprint\u001b[0m\u001b[0;34m(\u001b[0m\u001b[0;34m\"Evidence supports the claim that there is a linear correlation between tenure and number of titles\"\u001b[0m\u001b[0;34m)\u001b[0m\u001b[0;34m\u001b[0m\u001b[0;34m\u001b[0m\u001b[0m\n",
      "\u001b[0;32m/opt/homebrew/anaconda3/lib/python3.8/site-packages/pandas/core/generic.py\u001b[0m in \u001b[0;36m__getattr__\u001b[0;34m(self, name)\u001b[0m\n\u001b[1;32m   5463\u001b[0m             \u001b[0;32mif\u001b[0m \u001b[0mself\u001b[0m\u001b[0;34m.\u001b[0m\u001b[0m_info_axis\u001b[0m\u001b[0;34m.\u001b[0m\u001b[0m_can_hold_identifiers_and_holds_name\u001b[0m\u001b[0;34m(\u001b[0m\u001b[0mname\u001b[0m\u001b[0;34m)\u001b[0m\u001b[0;34m:\u001b[0m\u001b[0;34m\u001b[0m\u001b[0;34m\u001b[0m\u001b[0m\n\u001b[1;32m   5464\u001b[0m                 \u001b[0;32mreturn\u001b[0m \u001b[0mself\u001b[0m\u001b[0;34m[\u001b[0m\u001b[0mname\u001b[0m\u001b[0;34m]\u001b[0m\u001b[0;34m\u001b[0m\u001b[0;34m\u001b[0m\u001b[0m\n\u001b[0;32m-> 5465\u001b[0;31m             \u001b[0;32mreturn\u001b[0m \u001b[0mobject\u001b[0m\u001b[0;34m.\u001b[0m\u001b[0m__getattribute__\u001b[0m\u001b[0;34m(\u001b[0m\u001b[0mself\u001b[0m\u001b[0;34m,\u001b[0m \u001b[0mname\u001b[0m\u001b[0;34m)\u001b[0m\u001b[0;34m\u001b[0m\u001b[0;34m\u001b[0m\u001b[0m\n\u001b[0m\u001b[1;32m   5466\u001b[0m \u001b[0;34m\u001b[0m\u001b[0m\n\u001b[1;32m   5467\u001b[0m     \u001b[0;32mdef\u001b[0m \u001b[0m__setattr__\u001b[0m\u001b[0;34m(\u001b[0m\u001b[0mself\u001b[0m\u001b[0;34m,\u001b[0m \u001b[0mname\u001b[0m\u001b[0;34m:\u001b[0m \u001b[0mstr\u001b[0m\u001b[0;34m,\u001b[0m \u001b[0mvalue\u001b[0m\u001b[0;34m)\u001b[0m \u001b[0;34m->\u001b[0m \u001b[0;32mNone\u001b[0m\u001b[0;34m:\u001b[0m\u001b[0;34m\u001b[0m\u001b[0;34m\u001b[0m\u001b[0m\n",
      "\u001b[0;31mAttributeError\u001b[0m: 'DataFrame' object has no attribute 'title_count'"
     ]
    }
   ],
   "source": [
    "corr, p = stats.pearsonr(df.days_on_job, df.title_count)\n",
    "\n",
    "if p < alpha:\n",
    "    print(\"We reject the null hypothesis\")\n",
    "    print(\"Evidence supports the claim that there is a linear correlation between tenure and number of titles\")\n",
    "else:\n",
    "    print(\"We fail to reject the null hypothesis\")\n",
    "\n",
    "corr, p"
   ]
  },
  {
   "cell_type": "markdown",
   "id": "ce4d3c25",
   "metadata": {},
   "source": [
    "# Takeaway: It's possible to have a super low p value, even zero p value, and still have a weak correlation. A super high number of observations can show significance through low p values"
   ]
  },
  {
   "cell_type": "code",
   "execution_count": null,
   "id": "77b2f7ca",
   "metadata": {},
   "outputs": [],
   "source": [
    "#Null H: There is no linear correlation between days and reaction time.\n",
    "#Alt H: There is a liner relationship between days and reaction time."
   ]
  },
  {
   "cell_type": "code",
   "execution_count": 123,
   "id": "3fe8e3f1",
   "metadata": {},
   "outputs": [
    {
     "data": {
      "text/html": [
       "<div>\n",
       "<style scoped>\n",
       "    .dataframe tbody tr th:only-of-type {\n",
       "        vertical-align: middle;\n",
       "    }\n",
       "\n",
       "    .dataframe tbody tr th {\n",
       "        vertical-align: top;\n",
       "    }\n",
       "\n",
       "    .dataframe thead th {\n",
       "        text-align: right;\n",
       "    }\n",
       "</style>\n",
       "<table border=\"1\" class=\"dataframe\">\n",
       "  <thead>\n",
       "    <tr style=\"text-align: right;\">\n",
       "      <th></th>\n",
       "      <th>Reaction</th>\n",
       "      <th>Days</th>\n",
       "      <th>Subject</th>\n",
       "    </tr>\n",
       "  </thead>\n",
       "  <tbody>\n",
       "    <tr>\n",
       "      <th>1</th>\n",
       "      <td>249.5600</td>\n",
       "      <td>0</td>\n",
       "      <td>308</td>\n",
       "    </tr>\n",
       "    <tr>\n",
       "      <th>2</th>\n",
       "      <td>258.7047</td>\n",
       "      <td>1</td>\n",
       "      <td>308</td>\n",
       "    </tr>\n",
       "    <tr>\n",
       "      <th>3</th>\n",
       "      <td>250.8006</td>\n",
       "      <td>2</td>\n",
       "      <td>308</td>\n",
       "    </tr>\n",
       "    <tr>\n",
       "      <th>4</th>\n",
       "      <td>321.4398</td>\n",
       "      <td>3</td>\n",
       "      <td>308</td>\n",
       "    </tr>\n",
       "    <tr>\n",
       "      <th>5</th>\n",
       "      <td>356.8519</td>\n",
       "      <td>4</td>\n",
       "      <td>308</td>\n",
       "    </tr>\n",
       "  </tbody>\n",
       "</table>\n",
       "</div>"
      ],
      "text/plain": [
       "   Reaction  Days  Subject\n",
       "1  249.5600     0      308\n",
       "2  258.7047     1      308\n",
       "3  250.8006     2      308\n",
       "4  321.4398     3      308\n",
       "5  356.8519     4      308"
      ]
     },
     "execution_count": 123,
     "metadata": {},
     "output_type": "execute_result"
    }
   ],
   "source": [
    "# 3. Use the sleepstudy data. Is there a relationship between days and reaction time?\n",
    "\n",
    "df = data(\"sleepstudy\")\n",
    "df.head()"
   ]
  },
  {
   "cell_type": "code",
   "execution_count": 124,
   "id": "e3fa7922",
   "metadata": {},
   "outputs": [],
   "source": [
    "x = df.Days\n",
    "y = df.Reaction\n",
    "alpha = 0.05"
   ]
  },
  {
   "cell_type": "code",
   "execution_count": 125,
   "id": "3dcb1f76",
   "metadata": {},
   "outputs": [
    {
     "data": {
      "text/plain": [
       "(0.5352302262650253, 9.894096322214812e-15)"
      ]
     },
     "execution_count": 125,
     "metadata": {},
     "output_type": "execute_result"
    }
   ],
   "source": [
    "corr, p = stats.pearsonr(x, y)\n",
    "corr, p"
   ]
  },
  {
   "cell_type": "code",
   "execution_count": 126,
   "id": "9794790a",
   "metadata": {},
   "outputs": [
    {
     "name": "stdout",
     "output_type": "stream",
     "text": [
      "We reject the null hypothesis\n",
      "We falisifed There is no linear correlation between days and reaction time.\n",
      "Evidence supports the There is a liner correlation between days and reaction time.\n"
     ]
    }
   ],
   "source": [
    "null_h = \"There is no linear correlation between days and reaction time.\"\n",
    "alt_h = \"There is a liner correlation between days and reaction time.\"\n",
    "corr, p = stats.pearsonr(x, y)\n",
    "\n",
    "if p < alpha:\n",
    "    print(\"We reject the null hypothesis\")\n",
    "    print(\"We falisifed\", null_h)\n",
    "    print(\"Evidence supports the\", alt_h)\n",
    "else:\n",
    "    print(\"We fail to reject the null hypothesis\")\n",
    "    print(\"There is no evidence to support the \", alt_h)"
   ]
  },
  {
   "cell_type": "markdown",
   "id": "4ce60e3b",
   "metadata": {},
   "source": [
    "# Chi Square"
   ]
  },
  {
   "cell_type": "code",
   "execution_count": null,
   "id": "76813214",
   "metadata": {},
   "outputs": [],
   "source": [
    "# 1. Use the following contingency table to help answer the question of whether using a macbook and being a \n",
    "# codeup student are independent of each other.\n",
    "\n",
    "                     # Codeup Student\tNot Codeup Student\n",
    "# Uses a Macbook\t         49\t                 20\n",
    "# Doesn't Use A Macbook\t      1\t                 30"
   ]
  },
  {
   "cell_type": "code",
   "execution_count": null,
   "id": "c47ea4c9",
   "metadata": {},
   "outputs": [],
   "source": [
    "# contingency = pd.DataFrame({'codeup_student': [49,1], 'not_codeup_student': [20,30]}, index=['uses_macbook', 'not_macbook'])\n",
    "# contingency"
   ]
  },
  {
   "cell_type": "code",
   "execution_count": 128,
   "id": "5349733d",
   "metadata": {},
   "outputs": [
    {
     "name": "stdout",
     "output_type": "stream",
     "text": [
      "69\n",
      "31\n"
     ]
    }
   ],
   "source": [
    "print(49+20)\n",
    "print(1+30)"
   ]
  },
  {
   "cell_type": "code",
   "execution_count": 129,
   "id": "28ca88ca",
   "metadata": {},
   "outputs": [
    {
     "name": "stdout",
     "output_type": "stream",
     "text": [
      "50\n",
      "50\n"
     ]
    }
   ],
   "source": [
    "print(49+1)\n",
    "print(20+30)"
   ]
  },
  {
   "cell_type": "code",
   "execution_count": 130,
   "id": "880ec544",
   "metadata": {},
   "outputs": [
    {
     "name": "stdout",
     "output_type": "stream",
     "text": [
      "100\n",
      "0.5\n",
      "0.5\n",
      "0.69\n",
      "0.31\n"
     ]
    }
   ],
   "source": [
    "print(69+31)\n",
    "print(50/100)\n",
    "print(50/100)\n",
    "print(69/100)\n",
    "print(31/100)"
   ]
  },
  {
   "cell_type": "code",
   "execution_count": 131,
   "id": "6bb0fd58",
   "metadata": {},
   "outputs": [
    {
     "name": "stdout",
     "output_type": "stream",
     "text": [
      "0.345\n",
      "0.345\n",
      "0.155\n",
      "0.155\n"
     ]
    }
   ],
   "source": [
    "print(0.5*0.69)\n",
    "print(0.5*0.69)\n",
    "print(0.5*0.31)\n",
    "print(0.5*0.31)"
   ]
  },
  {
   "cell_type": "code",
   "execution_count": 132,
   "id": "8d17cdfe",
   "metadata": {},
   "outputs": [
    {
     "name": "stdout",
     "output_type": "stream",
     "text": [
      "Observed\n",
      "                       Codeup Student  Not Codeup Student\n",
      "Uses a Macbook                     49                  20\n",
      "Doesn't Use A Macbook               1                  30\n",
      "---\n",
      "Expected\n",
      "                       Codeup Student  Not Codeup Student\n",
      "Uses a Macbook                  0.345               0.345\n",
      "Doesn't Use A Macbook           0.155               0.155\n",
      "---\n",
      "\n",
      "chi^2 = 13732.7438\n",
      "p     = 0.0000\n"
     ]
    }
   ],
   "source": [
    "index = ['Uses a Macbook', \"Doesn't Use A Macbook\"]\n",
    "columns = ['Codeup Student', 'Not Codeup Student']\n",
    "\n",
    "observed = pd.DataFrame([[49, 20], [1, 30]], index = index, columns = columns)\n",
    "n = observed.values.sum()\n",
    "\n",
    "expected = pd.DataFrame([[.345, .345], [.155, .155]], index = index, columns = columns)\n",
    "chi2 = ((observed - expected)**2 / expected).values.sum()\n",
    "\n",
    "nrows, ncols = observed.shape\n",
    "\n",
    "degrees_of_freedom = (nrows - 1) * (ncols - 1)\n",
    "\n",
    "p = stats.chi2(degrees_of_freedom).sf(chi2)\n",
    "\n",
    "print('Observed')\n",
    "print(observed)\n",
    "print('---\\nExpected')\n",
    "print(expected)\n",
    "print('---\\n')\n",
    "print(f'chi^2 = {chi2:.4f}')\n",
    "print(f'p     = {p:.4f}')\n"
   ]
  },
  {
   "cell_type": "code",
   "execution_count": 133,
   "id": "beae57dd",
   "metadata": {},
   "outputs": [
    {
     "name": "stdout",
     "output_type": "stream",
     "text": [
      "Observed\n",
      "\n",
      "[[49 20]\n",
      " [ 1 30]]\n",
      "---\n",
      "Expected\n",
      "\n",
      "[[34.5 34.5]\n",
      " [15.5 15.5]]\n",
      "---\n",
      "\n",
      "chi^2 = 36.6526\n",
      "p     = 0.0000\n"
     ]
    }
   ],
   "source": [
    "chi2, p, degf, expected = stats.chi2_contingency(observed)\n",
    "\n",
    "print('Observed\\n')\n",
    "print(observed.values)\n",
    "print('---\\nExpected\\n')\n",
    "print(expected)\n",
    "print('---\\n')\n",
    "print(f'chi^2 = {chi2:.4f}')\n",
    "print(f'p     = {p:.4f}')"
   ]
  },
  {
   "cell_type": "markdown",
   "id": "8bb53fc9",
   "metadata": {},
   "source": [
    "### Our p value is less than our alpha and we can reject the null hypothesis, indicating that macbook use is not necessarily independent of codeup matriculation"
   ]
  },
  {
   "cell_type": "code",
   "execution_count": 134,
   "id": "32d04edc",
   "metadata": {},
   "outputs": [
    {
     "data": {
      "text/html": [
       "<div>\n",
       "<style scoped>\n",
       "    .dataframe tbody tr th:only-of-type {\n",
       "        vertical-align: middle;\n",
       "    }\n",
       "\n",
       "    .dataframe tbody tr th {\n",
       "        vertical-align: top;\n",
       "    }\n",
       "\n",
       "    .dataframe thead th {\n",
       "        text-align: right;\n",
       "    }\n",
       "</style>\n",
       "<table border=\"1\" class=\"dataframe\">\n",
       "  <thead>\n",
       "    <tr style=\"text-align: right;\">\n",
       "      <th></th>\n",
       "      <th>manufacturer</th>\n",
       "      <th>model</th>\n",
       "      <th>displ</th>\n",
       "      <th>year</th>\n",
       "      <th>cyl</th>\n",
       "      <th>trans</th>\n",
       "      <th>drv</th>\n",
       "      <th>cty</th>\n",
       "      <th>hwy</th>\n",
       "      <th>fl</th>\n",
       "      <th>class</th>\n",
       "      <th>transmission</th>\n",
       "    </tr>\n",
       "  </thead>\n",
       "  <tbody>\n",
       "    <tr>\n",
       "      <th>1</th>\n",
       "      <td>audi</td>\n",
       "      <td>a4</td>\n",
       "      <td>1.8</td>\n",
       "      <td>1999</td>\n",
       "      <td>4</td>\n",
       "      <td>auto(l5)</td>\n",
       "      <td>f</td>\n",
       "      <td>18</td>\n",
       "      <td>29</td>\n",
       "      <td>p</td>\n",
       "      <td>compact</td>\n",
       "      <td>auto</td>\n",
       "    </tr>\n",
       "    <tr>\n",
       "      <th>2</th>\n",
       "      <td>audi</td>\n",
       "      <td>a4</td>\n",
       "      <td>1.8</td>\n",
       "      <td>1999</td>\n",
       "      <td>4</td>\n",
       "      <td>manual(m5)</td>\n",
       "      <td>f</td>\n",
       "      <td>21</td>\n",
       "      <td>29</td>\n",
       "      <td>p</td>\n",
       "      <td>compact</td>\n",
       "      <td>manual</td>\n",
       "    </tr>\n",
       "    <tr>\n",
       "      <th>3</th>\n",
       "      <td>audi</td>\n",
       "      <td>a4</td>\n",
       "      <td>2.0</td>\n",
       "      <td>2008</td>\n",
       "      <td>4</td>\n",
       "      <td>manual(m6)</td>\n",
       "      <td>f</td>\n",
       "      <td>20</td>\n",
       "      <td>31</td>\n",
       "      <td>p</td>\n",
       "      <td>compact</td>\n",
       "      <td>manual</td>\n",
       "    </tr>\n",
       "    <tr>\n",
       "      <th>4</th>\n",
       "      <td>audi</td>\n",
       "      <td>a4</td>\n",
       "      <td>2.0</td>\n",
       "      <td>2008</td>\n",
       "      <td>4</td>\n",
       "      <td>auto(av)</td>\n",
       "      <td>f</td>\n",
       "      <td>21</td>\n",
       "      <td>30</td>\n",
       "      <td>p</td>\n",
       "      <td>compact</td>\n",
       "      <td>auto</td>\n",
       "    </tr>\n",
       "    <tr>\n",
       "      <th>5</th>\n",
       "      <td>audi</td>\n",
       "      <td>a4</td>\n",
       "      <td>2.8</td>\n",
       "      <td>1999</td>\n",
       "      <td>6</td>\n",
       "      <td>auto(l5)</td>\n",
       "      <td>f</td>\n",
       "      <td>16</td>\n",
       "      <td>26</td>\n",
       "      <td>p</td>\n",
       "      <td>compact</td>\n",
       "      <td>auto</td>\n",
       "    </tr>\n",
       "  </tbody>\n",
       "</table>\n",
       "</div>"
      ],
      "text/plain": [
       "  manufacturer model  displ  year  cyl       trans drv  cty  hwy fl    class  \\\n",
       "1         audi    a4    1.8  1999    4    auto(l5)   f   18   29  p  compact   \n",
       "2         audi    a4    1.8  1999    4  manual(m5)   f   21   29  p  compact   \n",
       "3         audi    a4    2.0  2008    4  manual(m6)   f   20   31  p  compact   \n",
       "4         audi    a4    2.0  2008    4    auto(av)   f   21   30  p  compact   \n",
       "5         audi    a4    2.8  1999    6    auto(l5)   f   16   26  p  compact   \n",
       "\n",
       "  transmission  \n",
       "1         auto  \n",
       "2       manual  \n",
       "3       manual  \n",
       "4         auto  \n",
       "5         auto  "
      ]
     },
     "execution_count": 134,
     "metadata": {},
     "output_type": "execute_result"
    }
   ],
   "source": [
    "# 2. Choose another 2 categorical variables from the mpg dataset and perform a chi2 contingency table test with \n",
    "# them. Be sure to state your null and alternative hypotheses.\n",
    "\n",
    "mpg = data('mpg')\n",
    "mpg['transmission'] = mpg.trans.str[:-4] # a little cleaning goes a long way\n",
    "mpg.head()"
   ]
  },
  {
   "cell_type": "code",
   "execution_count": 135,
   "id": "da4685f2",
   "metadata": {},
   "outputs": [
    {
     "data": {
      "text/plain": [
       "auto      0.67094\n",
       "manual    0.32906\n",
       "Name: transmission, dtype: float64"
      ]
     },
     "execution_count": 135,
     "metadata": {},
     "output_type": "execute_result"
    }
   ],
   "source": [
    "n = mpg.shape[0]\n",
    "\n",
    "transmission_proportions = mpg.transmission.value_counts() / n\n",
    "transmission_proportions"
   ]
  },
  {
   "cell_type": "code",
   "execution_count": 136,
   "id": "661417c0",
   "metadata": {},
   "outputs": [
    {
     "data": {
      "text/plain": [
       "f    0.452991\n",
       "4    0.440171\n",
       "r    0.106838\n",
       "Name: drv, dtype: float64"
      ]
     },
     "execution_count": 136,
     "metadata": {},
     "output_type": "execute_result"
    }
   ],
   "source": [
    "drive_proportions = mpg.drv.value_counts() / n\n",
    "drive_proportions"
   ]
  },
  {
   "cell_type": "code",
   "execution_count": 137,
   "id": "ad839ff4",
   "metadata": {},
   "outputs": [
    {
     "data": {
      "text/html": [
       "<div>\n",
       "<style scoped>\n",
       "    .dataframe tbody tr th:only-of-type {\n",
       "        vertical-align: middle;\n",
       "    }\n",
       "\n",
       "    .dataframe tbody tr th {\n",
       "        vertical-align: top;\n",
       "    }\n",
       "\n",
       "    .dataframe thead th {\n",
       "        text-align: right;\n",
       "    }\n",
       "</style>\n",
       "<table border=\"1\" class=\"dataframe\">\n",
       "  <thead>\n",
       "    <tr style=\"text-align: right;\">\n",
       "      <th></th>\n",
       "      <th>auto</th>\n",
       "      <th>manual</th>\n",
       "    </tr>\n",
       "  </thead>\n",
       "  <tbody>\n",
       "    <tr>\n",
       "      <th>4</th>\n",
       "      <td>0.295328</td>\n",
       "      <td>0.144843</td>\n",
       "    </tr>\n",
       "    <tr>\n",
       "      <th>f</th>\n",
       "      <td>0.303930</td>\n",
       "      <td>0.149061</td>\n",
       "    </tr>\n",
       "    <tr>\n",
       "      <th>r</th>\n",
       "      <td>0.071682</td>\n",
       "      <td>0.035156</td>\n",
       "    </tr>\n",
       "  </tbody>\n",
       "</table>\n",
       "</div>"
      ],
      "text/plain": [
       "       auto    manual\n",
       "4  0.295328  0.144843\n",
       "f  0.303930  0.149061\n",
       "r  0.071682  0.035156"
      ]
     },
     "execution_count": 137,
     "metadata": {},
     "output_type": "execute_result"
    }
   ],
   "source": [
    "expected = pd.DataFrame()\n",
    "\n",
    "for transmission_group, t_prop in transmission_proportions.iteritems():\n",
    "    for drive_group, d_prop in drive_proportions.iteritems():\n",
    "        expected.loc[drive_group, transmission_group] = t_prop * d_prop\n",
    "\n",
    "expected.sort_index(inplace=True)\n",
    "expected"
   ]
  },
  {
   "cell_type": "code",
   "execution_count": 138,
   "id": "fe9b196c",
   "metadata": {},
   "outputs": [
    {
     "data": {
      "text/html": [
       "<div>\n",
       "<style scoped>\n",
       "    .dataframe tbody tr th:only-of-type {\n",
       "        vertical-align: middle;\n",
       "    }\n",
       "\n",
       "    .dataframe tbody tr th {\n",
       "        vertical-align: top;\n",
       "    }\n",
       "\n",
       "    .dataframe thead th {\n",
       "        text-align: right;\n",
       "    }\n",
       "</style>\n",
       "<table border=\"1\" class=\"dataframe\">\n",
       "  <thead>\n",
       "    <tr style=\"text-align: right;\">\n",
       "      <th></th>\n",
       "      <th>auto</th>\n",
       "      <th>manual</th>\n",
       "    </tr>\n",
       "  </thead>\n",
       "  <tbody>\n",
       "    <tr>\n",
       "      <th>4</th>\n",
       "      <td>69.106838</td>\n",
       "      <td>33.893162</td>\n",
       "    </tr>\n",
       "    <tr>\n",
       "      <th>f</th>\n",
       "      <td>71.119658</td>\n",
       "      <td>34.880342</td>\n",
       "    </tr>\n",
       "    <tr>\n",
       "      <th>r</th>\n",
       "      <td>16.773504</td>\n",
       "      <td>8.226496</td>\n",
       "    </tr>\n",
       "  </tbody>\n",
       "</table>\n",
       "</div>"
      ],
      "text/plain": [
       "        auto     manual\n",
       "4  69.106838  33.893162\n",
       "f  71.119658  34.880342\n",
       "r  16.773504   8.226496"
      ]
     },
     "execution_count": 138,
     "metadata": {},
     "output_type": "execute_result"
    }
   ],
   "source": [
    "expected *= n\n",
    "expected"
   ]
  },
  {
   "cell_type": "code",
   "execution_count": 139,
   "id": "ad0299a2",
   "metadata": {},
   "outputs": [
    {
     "data": {
      "text/html": [
       "<div>\n",
       "<style scoped>\n",
       "    .dataframe tbody tr th:only-of-type {\n",
       "        vertical-align: middle;\n",
       "    }\n",
       "\n",
       "    .dataframe tbody tr th {\n",
       "        vertical-align: top;\n",
       "    }\n",
       "\n",
       "    .dataframe thead th {\n",
       "        text-align: right;\n",
       "    }\n",
       "</style>\n",
       "<table border=\"1\" class=\"dataframe\">\n",
       "  <thead>\n",
       "    <tr style=\"text-align: right;\">\n",
       "      <th>transmission</th>\n",
       "      <th>auto</th>\n",
       "      <th>manual</th>\n",
       "    </tr>\n",
       "    <tr>\n",
       "      <th>drv</th>\n",
       "      <th></th>\n",
       "      <th></th>\n",
       "    </tr>\n",
       "  </thead>\n",
       "  <tbody>\n",
       "    <tr>\n",
       "      <th>4</th>\n",
       "      <td>75</td>\n",
       "      <td>28</td>\n",
       "    </tr>\n",
       "    <tr>\n",
       "      <th>f</th>\n",
       "      <td>65</td>\n",
       "      <td>41</td>\n",
       "    </tr>\n",
       "    <tr>\n",
       "      <th>r</th>\n",
       "      <td>17</td>\n",
       "      <td>8</td>\n",
       "    </tr>\n",
       "  </tbody>\n",
       "</table>\n",
       "</div>"
      ],
      "text/plain": [
       "transmission  auto  manual\n",
       "drv                       \n",
       "4               75      28\n",
       "f               65      41\n",
       "r               17       8"
      ]
     },
     "execution_count": 139,
     "metadata": {},
     "output_type": "execute_result"
    }
   ],
   "source": [
    "observed = pd.crosstab(mpg.drv, mpg.transmission)\n",
    "observed"
   ]
  },
  {
   "cell_type": "code",
   "execution_count": 140,
   "id": "a3523bca",
   "metadata": {},
   "outputs": [
    {
     "data": {
      "text/plain": [
       "3.136769245971112"
      ]
     },
     "execution_count": 140,
     "metadata": {},
     "output_type": "execute_result"
    }
   ],
   "source": [
    "chi2 = ((observed - expected)**2 / expected).values.sum()\n",
    "chi2"
   ]
  },
  {
   "cell_type": "code",
   "execution_count": 141,
   "id": "8d71ff20",
   "metadata": {},
   "outputs": [],
   "source": [
    "nrows, ncols = observed.shape\n",
    "\n",
    "degrees_of_freedom = (nrows - 1) * (ncols - 1)"
   ]
  },
  {
   "cell_type": "code",
   "execution_count": 142,
   "id": "9325e0d4",
   "metadata": {},
   "outputs": [
    {
     "data": {
      "text/plain": [
       "0.20838152534979645"
      ]
     },
     "execution_count": 142,
     "metadata": {},
     "output_type": "execute_result"
    }
   ],
   "source": [
    "stats.chi2(degrees_of_freedom).sf(chi2)"
   ]
  },
  {
   "cell_type": "markdown",
   "id": "9f16a97a",
   "metadata": {},
   "source": [
    "### Our p value is less than our alpha and we can reject the null hypothesis\n",
    "         We can suggest that vehicle class type if not independent of manufacturer"
   ]
  },
  {
   "cell_type": "markdown",
   "id": "70e7d667",
   "metadata": {},
   "source": [
    "# 3. Use the data from the employees database to answer these questions:\n",
    "\n",
    "3a. Is an employee's gender independent of whether an employee works in sales or marketing? (only look at current employees)"
   ]
  },
  {
   "cell_type": "code",
   "execution_count": 146,
   "id": "c7a37c6e",
   "metadata": {},
   "outputs": [],
   "source": [
    "\n",
    "url = f'mysql+pymysql://{user}:{password}@{host}/employees'\n",
    "query = '''\n",
    "select gender, departments.`dept_name`\n",
    "from `employees`\n",
    "join dept_emp using(emp_no)\n",
    "join departments using(`dept_no`)\n",
    "WHERE (dept_name = 'Sales' or dept_name = 'Marketing') AND  dept_emp.to_date > now()\n",
    "'''\n",
    "dept_gender = pd.read_sql(query, url)"
   ]
  },
  {
   "cell_type": "code",
   "execution_count": 147,
   "id": "c1dca1b1",
   "metadata": {},
   "outputs": [
    {
     "data": {
      "text/html": [
       "<div>\n",
       "<style scoped>\n",
       "    .dataframe tbody tr th:only-of-type {\n",
       "        vertical-align: middle;\n",
       "    }\n",
       "\n",
       "    .dataframe tbody tr th {\n",
       "        vertical-align: top;\n",
       "    }\n",
       "\n",
       "    .dataframe thead th {\n",
       "        text-align: right;\n",
       "    }\n",
       "</style>\n",
       "<table border=\"1\" class=\"dataframe\">\n",
       "  <thead>\n",
       "    <tr style=\"text-align: right;\">\n",
       "      <th>dept_name</th>\n",
       "      <th>Marketing</th>\n",
       "      <th>Sales</th>\n",
       "    </tr>\n",
       "    <tr>\n",
       "      <th>gender</th>\n",
       "      <th></th>\n",
       "      <th></th>\n",
       "    </tr>\n",
       "  </thead>\n",
       "  <tbody>\n",
       "    <tr>\n",
       "      <th>F</th>\n",
       "      <td>5864</td>\n",
       "      <td>14999</td>\n",
       "    </tr>\n",
       "    <tr>\n",
       "      <th>M</th>\n",
       "      <td>8978</td>\n",
       "      <td>22702</td>\n",
       "    </tr>\n",
       "  </tbody>\n",
       "</table>\n",
       "</div>"
      ],
      "text/plain": [
       "dept_name  Marketing  Sales\n",
       "gender                     \n",
       "F               5864  14999\n",
       "M               8978  22702"
      ]
     },
     "execution_count": 147,
     "metadata": {},
     "output_type": "execute_result"
    }
   ],
   "source": [
    "observed = pd.crosstab(dept_gender.gender, dept_gender.dept_name)\n",
    "observed"
   ]
  },
  {
   "cell_type": "markdown",
   "id": "aabc196f",
   "metadata": {},
   "source": [
    "### $H_0$: Gender is independent of status in sales vs marketing departments\n",
    "$H_a$: Gender is not independent of status in sales vs marketing departments"
   ]
  },
  {
   "cell_type": "code",
   "execution_count": 148,
   "id": "5a77be55",
   "metadata": {},
   "outputs": [],
   "source": [
    "chi2, p, degf, expected = stats.chi2_contingency(observed)"
   ]
  },
  {
   "cell_type": "code",
   "execution_count": 149,
   "id": "8fe2b1c9",
   "metadata": {},
   "outputs": [
    {
     "name": "stdout",
     "output_type": "stream",
     "text": [
      "Observed:\n",
      "\n",
      "dept_name  Marketing  Sales\n",
      "gender                     \n",
      "F               5864  14999\n",
      "M               8978  22702\n",
      "~~~~~~~~~~~~~~~~~~~~~~\n",
      "Expected: \n",
      "\n",
      "dept_name    Marketing         Sales\n",
      "gender                              \n",
      "F          5893.242601  14969.757399\n",
      "M          8948.757399  22731.242601\n",
      "~~~~~~~~~~~~~~~~~~~~~~\n",
      "chi^2 value: 0.3240\n",
      "p value: 0.56919\n",
      "degrees of freedom: 1\n",
      "We cannot reject the null hypothesis\n"
     ]
    }
   ],
   "source": [
    "print('Observed:\\n')\n",
    "print(observed)\n",
    "print('~~~~~~~~~~~~~~~~~~~~~~')\n",
    "print('Expected: \\n')\n",
    "print(pd.DataFrame(expected, index=observed.index, columns=observed.columns))\n",
    "print('~~~~~~~~~~~~~~~~~~~~~~')\n",
    "print(f'chi^2 value: {chi2:.4f}')\n",
    "print(f'p value: {p:.5f}')\n",
    "print(f'degrees of freedom: {degf}')\n",
    "if p < alpha:\n",
    "    print('''Our p value is less than our alpha and we can reject the null hypothesis\n",
    "         We can suggest working in Sales compared to Marketing is not independent of employee gender''')\n",
    "else:\n",
    "    print('We cannot reject the null hypothesis')\n"
   ]
  },
  {
   "cell_type": "markdown",
   "id": "5d6dea5b",
   "metadata": {},
   "source": [
    "### 3b. Is an employee's gender independent of whether or not they are or have been a manager?"
   ]
  },
  {
   "cell_type": "code",
   "execution_count": 151,
   "id": "90fd60a0",
   "metadata": {},
   "outputs": [],
   "source": [
    "url = f'mysql+pymysql://{user}:{password}@{host}/employees'\n",
    "query = '''\n",
    "select gender, dept_manager.dept_no\n",
    "from employees\n",
    "LEFT JOIN dept_manager on dept_manager.emp_no = employees.emp_no\n",
    "'''\n",
    "gender_mgr = pd.read_sql(query, url)"
   ]
  },
  {
   "cell_type": "code",
   "execution_count": 152,
   "id": "613bdf02",
   "metadata": {},
   "outputs": [
    {
     "data": {
      "text/html": [
       "<div>\n",
       "<style scoped>\n",
       "    .dataframe tbody tr th:only-of-type {\n",
       "        vertical-align: middle;\n",
       "    }\n",
       "\n",
       "    .dataframe tbody tr th {\n",
       "        vertical-align: top;\n",
       "    }\n",
       "\n",
       "    .dataframe thead th {\n",
       "        text-align: right;\n",
       "    }\n",
       "</style>\n",
       "<table border=\"1\" class=\"dataframe\">\n",
       "  <thead>\n",
       "    <tr style=\"text-align: right;\">\n",
       "      <th></th>\n",
       "      <th>gender</th>\n",
       "      <th>dept_no</th>\n",
       "    </tr>\n",
       "  </thead>\n",
       "  <tbody>\n",
       "    <tr>\n",
       "      <th>0</th>\n",
       "      <td>M</td>\n",
       "      <td>None</td>\n",
       "    </tr>\n",
       "    <tr>\n",
       "      <th>1</th>\n",
       "      <td>F</td>\n",
       "      <td>None</td>\n",
       "    </tr>\n",
       "    <tr>\n",
       "      <th>2</th>\n",
       "      <td>M</td>\n",
       "      <td>None</td>\n",
       "    </tr>\n",
       "    <tr>\n",
       "      <th>3</th>\n",
       "      <td>M</td>\n",
       "      <td>None</td>\n",
       "    </tr>\n",
       "    <tr>\n",
       "      <th>4</th>\n",
       "      <td>M</td>\n",
       "      <td>None</td>\n",
       "    </tr>\n",
       "    <tr>\n",
       "      <th>...</th>\n",
       "      <td>...</td>\n",
       "      <td>...</td>\n",
       "    </tr>\n",
       "    <tr>\n",
       "      <th>300019</th>\n",
       "      <td>F</td>\n",
       "      <td>None</td>\n",
       "    </tr>\n",
       "    <tr>\n",
       "      <th>300020</th>\n",
       "      <td>M</td>\n",
       "      <td>None</td>\n",
       "    </tr>\n",
       "    <tr>\n",
       "      <th>300021</th>\n",
       "      <td>M</td>\n",
       "      <td>None</td>\n",
       "    </tr>\n",
       "    <tr>\n",
       "      <th>300022</th>\n",
       "      <td>M</td>\n",
       "      <td>None</td>\n",
       "    </tr>\n",
       "    <tr>\n",
       "      <th>300023</th>\n",
       "      <td>M</td>\n",
       "      <td>None</td>\n",
       "    </tr>\n",
       "  </tbody>\n",
       "</table>\n",
       "<p>300024 rows × 2 columns</p>\n",
       "</div>"
      ],
      "text/plain": [
       "       gender dept_no\n",
       "0           M    None\n",
       "1           F    None\n",
       "2           M    None\n",
       "3           M    None\n",
       "4           M    None\n",
       "...       ...     ...\n",
       "300019      F    None\n",
       "300020      M    None\n",
       "300021      M    None\n",
       "300022      M    None\n",
       "300023      M    None\n",
       "\n",
       "[300024 rows x 2 columns]"
      ]
     },
     "execution_count": 152,
     "metadata": {},
     "output_type": "execute_result"
    }
   ],
   "source": [
    "gender_mgr"
   ]
  },
  {
   "cell_type": "code",
   "execution_count": 153,
   "id": "d87c7698",
   "metadata": {},
   "outputs": [],
   "source": [
    "# use fillna to replace 'None' with zero's\n",
    "\n",
    "gender_mgr.fillna(0, inplace=True)"
   ]
  },
  {
   "cell_type": "code",
   "execution_count": 154,
   "id": "f1b88cdc",
   "metadata": {},
   "outputs": [
    {
     "data": {
      "text/html": [
       "<div>\n",
       "<style scoped>\n",
       "    .dataframe tbody tr th:only-of-type {\n",
       "        vertical-align: middle;\n",
       "    }\n",
       "\n",
       "    .dataframe tbody tr th {\n",
       "        vertical-align: top;\n",
       "    }\n",
       "\n",
       "    .dataframe thead th {\n",
       "        text-align: right;\n",
       "    }\n",
       "</style>\n",
       "<table border=\"1\" class=\"dataframe\">\n",
       "  <thead>\n",
       "    <tr style=\"text-align: right;\">\n",
       "      <th></th>\n",
       "      <th>gender</th>\n",
       "      <th>dept_no</th>\n",
       "    </tr>\n",
       "  </thead>\n",
       "  <tbody>\n",
       "    <tr>\n",
       "      <th>0</th>\n",
       "      <td>M</td>\n",
       "      <td>0</td>\n",
       "    </tr>\n",
       "    <tr>\n",
       "      <th>1</th>\n",
       "      <td>F</td>\n",
       "      <td>0</td>\n",
       "    </tr>\n",
       "    <tr>\n",
       "      <th>2</th>\n",
       "      <td>M</td>\n",
       "      <td>0</td>\n",
       "    </tr>\n",
       "    <tr>\n",
       "      <th>3</th>\n",
       "      <td>M</td>\n",
       "      <td>0</td>\n",
       "    </tr>\n",
       "    <tr>\n",
       "      <th>4</th>\n",
       "      <td>M</td>\n",
       "      <td>0</td>\n",
       "    </tr>\n",
       "  </tbody>\n",
       "</table>\n",
       "</div>"
      ],
      "text/plain": [
       "  gender dept_no\n",
       "0      M       0\n",
       "1      F       0\n",
       "2      M       0\n",
       "3      M       0\n",
       "4      M       0"
      ]
     },
     "execution_count": 154,
     "metadata": {},
     "output_type": "execute_result"
    }
   ],
   "source": [
    "gender_mgr.head()"
   ]
  },
  {
   "cell_type": "code",
   "execution_count": 155,
   "id": "c68ff106",
   "metadata": {},
   "outputs": [
    {
     "data": {
      "text/html": [
       "<div>\n",
       "<style scoped>\n",
       "    .dataframe tbody tr th:only-of-type {\n",
       "        vertical-align: middle;\n",
       "    }\n",
       "\n",
       "    .dataframe tbody tr th {\n",
       "        vertical-align: top;\n",
       "    }\n",
       "\n",
       "    .dataframe thead th {\n",
       "        text-align: right;\n",
       "    }\n",
       "</style>\n",
       "<table border=\"1\" class=\"dataframe\">\n",
       "  <thead>\n",
       "    <tr style=\"text-align: right;\">\n",
       "      <th></th>\n",
       "      <th>gender</th>\n",
       "      <th>dept_no</th>\n",
       "    </tr>\n",
       "  </thead>\n",
       "  <tbody>\n",
       "    <tr>\n",
       "      <th>100000</th>\n",
       "      <td>M</td>\n",
       "      <td>d001</td>\n",
       "    </tr>\n",
       "    <tr>\n",
       "      <th>100001</th>\n",
       "      <td>M</td>\n",
       "      <td>d001</td>\n",
       "    </tr>\n",
       "    <tr>\n",
       "      <th>100002</th>\n",
       "      <td>M</td>\n",
       "      <td>d002</td>\n",
       "    </tr>\n",
       "    <tr>\n",
       "      <th>100003</th>\n",
       "      <td>F</td>\n",
       "      <td>d002</td>\n",
       "    </tr>\n",
       "    <tr>\n",
       "      <th>100004</th>\n",
       "      <td>F</td>\n",
       "      <td>d003</td>\n",
       "    </tr>\n",
       "    <tr>\n",
       "      <th>100005</th>\n",
       "      <td>F</td>\n",
       "      <td>d003</td>\n",
       "    </tr>\n",
       "    <tr>\n",
       "      <th>100006</th>\n",
       "      <td>F</td>\n",
       "      <td>d004</td>\n",
       "    </tr>\n",
       "    <tr>\n",
       "      <th>100007</th>\n",
       "      <td>F</td>\n",
       "      <td>d004</td>\n",
       "    </tr>\n",
       "    <tr>\n",
       "      <th>100008</th>\n",
       "      <td>M</td>\n",
       "      <td>d004</td>\n",
       "    </tr>\n",
       "    <tr>\n",
       "      <th>100009</th>\n",
       "      <td>M</td>\n",
       "      <td>d004</td>\n",
       "    </tr>\n",
       "    <tr>\n",
       "      <th>100010</th>\n",
       "      <td>M</td>\n",
       "      <td>d005</td>\n",
       "    </tr>\n",
       "    <tr>\n",
       "      <th>100011</th>\n",
       "      <td>F</td>\n",
       "      <td>d005</td>\n",
       "    </tr>\n",
       "    <tr>\n",
       "      <th>100012</th>\n",
       "      <td>F</td>\n",
       "      <td>d006</td>\n",
       "    </tr>\n",
       "    <tr>\n",
       "      <th>100013</th>\n",
       "      <td>F</td>\n",
       "      <td>d006</td>\n",
       "    </tr>\n",
       "    <tr>\n",
       "      <th>100014</th>\n",
       "      <td>F</td>\n",
       "      <td>d006</td>\n",
       "    </tr>\n",
       "    <tr>\n",
       "      <th>100015</th>\n",
       "      <td>M</td>\n",
       "      <td>d006</td>\n",
       "    </tr>\n",
       "    <tr>\n",
       "      <th>100016</th>\n",
       "      <td>M</td>\n",
       "      <td>d007</td>\n",
       "    </tr>\n",
       "    <tr>\n",
       "      <th>100017</th>\n",
       "      <td>M</td>\n",
       "      <td>d007</td>\n",
       "    </tr>\n",
       "    <tr>\n",
       "      <th>100018</th>\n",
       "      <td>M</td>\n",
       "      <td>d008</td>\n",
       "    </tr>\n",
       "    <tr>\n",
       "      <th>100019</th>\n",
       "      <td>F</td>\n",
       "      <td>d008</td>\n",
       "    </tr>\n",
       "    <tr>\n",
       "      <th>100020</th>\n",
       "      <td>F</td>\n",
       "      <td>d009</td>\n",
       "    </tr>\n",
       "    <tr>\n",
       "      <th>100021</th>\n",
       "      <td>F</td>\n",
       "      <td>d009</td>\n",
       "    </tr>\n",
       "    <tr>\n",
       "      <th>100022</th>\n",
       "      <td>F</td>\n",
       "      <td>d009</td>\n",
       "    </tr>\n",
       "    <tr>\n",
       "      <th>100023</th>\n",
       "      <td>M</td>\n",
       "      <td>d009</td>\n",
       "    </tr>\n",
       "  </tbody>\n",
       "</table>\n",
       "</div>"
      ],
      "text/plain": [
       "       gender dept_no\n",
       "100000      M    d001\n",
       "100001      M    d001\n",
       "100002      M    d002\n",
       "100003      F    d002\n",
       "100004      F    d003\n",
       "100005      F    d003\n",
       "100006      F    d004\n",
       "100007      F    d004\n",
       "100008      M    d004\n",
       "100009      M    d004\n",
       "100010      M    d005\n",
       "100011      F    d005\n",
       "100012      F    d006\n",
       "100013      F    d006\n",
       "100014      F    d006\n",
       "100015      M    d006\n",
       "100016      M    d007\n",
       "100017      M    d007\n",
       "100018      M    d008\n",
       "100019      F    d008\n",
       "100020      F    d009\n",
       "100021      F    d009\n",
       "100022      F    d009\n",
       "100023      M    d009"
      ]
     },
     "execution_count": 155,
     "metadata": {},
     "output_type": "execute_result"
    }
   ],
   "source": [
    "# only look at columns where we have non-zero values for dept_no\n",
    "\n",
    "gender_mgr[gender_mgr.dept_no != 0]\n"
   ]
  },
  {
   "cell_type": "code",
   "execution_count": 156,
   "id": "dc844ac4",
   "metadata": {},
   "outputs": [
    {
     "data": {
      "text/plain": [
       "0       300000\n",
       "d004         4\n",
       "d009         4\n",
       "d006         4\n",
       "d001         2\n",
       "d003         2\n",
       "d005         2\n",
       "d002         2\n",
       "d008         2\n",
       "d007         2\n",
       "Name: dept_no, dtype: int64"
      ]
     },
     "execution_count": 156,
     "metadata": {},
     "output_type": "execute_result"
    }
   ],
   "source": [
    "gender_mgr.dept_no.value_counts()"
   ]
  },
  {
   "cell_type": "code",
   "execution_count": 157,
   "id": "f501f355",
   "metadata": {},
   "outputs": [],
   "source": [
    "# Create a new column 'manager status'. 0 == not a manager, 1 = manager\n",
    "\n",
    "gender_mgr['manager_status'] = gender_mgr.dept_no.apply(lambda x: x if x==0 else 1)"
   ]
  },
  {
   "cell_type": "code",
   "execution_count": 158,
   "id": "8b69a141",
   "metadata": {},
   "outputs": [
    {
     "data": {
      "text/plain": [
       "0    300000\n",
       "1        24\n",
       "Name: manager_status, dtype: int64"
      ]
     },
     "execution_count": 158,
     "metadata": {},
     "output_type": "execute_result"
    }
   ],
   "source": [
    "# look at value counts\n",
    "\n",
    "gender_mgr.manager_status.value_counts()"
   ]
  },
  {
   "cell_type": "code",
   "execution_count": 160,
   "id": "a7d8065a",
   "metadata": {},
   "outputs": [
    {
     "data": {
      "text/html": [
       "<div>\n",
       "<style scoped>\n",
       "    .dataframe tbody tr th:only-of-type {\n",
       "        vertical-align: middle;\n",
       "    }\n",
       "\n",
       "    .dataframe tbody tr th {\n",
       "        vertical-align: top;\n",
       "    }\n",
       "\n",
       "    .dataframe thead th {\n",
       "        text-align: right;\n",
       "    }\n",
       "</style>\n",
       "<table border=\"1\" class=\"dataframe\">\n",
       "  <thead>\n",
       "    <tr style=\"text-align: right;\">\n",
       "      <th>manager_status</th>\n",
       "      <th>0</th>\n",
       "      <th>1</th>\n",
       "    </tr>\n",
       "    <tr>\n",
       "      <th>gender</th>\n",
       "      <th></th>\n",
       "      <th></th>\n",
       "    </tr>\n",
       "  </thead>\n",
       "  <tbody>\n",
       "    <tr>\n",
       "      <th>F</th>\n",
       "      <td>120038</td>\n",
       "      <td>13</td>\n",
       "    </tr>\n",
       "    <tr>\n",
       "      <th>M</th>\n",
       "      <td>179962</td>\n",
       "      <td>11</td>\n",
       "    </tr>\n",
       "  </tbody>\n",
       "</table>\n",
       "</div>"
      ],
      "text/plain": [
       "manager_status       0   1\n",
       "gender                    \n",
       "F               120038  13\n",
       "M               179962  11"
      ]
     },
     "execution_count": 160,
     "metadata": {},
     "output_type": "execute_result"
    }
   ],
   "source": [
    "# crosstab to create observed frequency\n",
    "\n",
    "observed = pd.crosstab(gender_mgr.gender, gender_mgr.manager_status)\n",
    "observed"
   ]
  },
  {
   "cell_type": "code",
   "execution_count": 161,
   "id": "e490d1db",
   "metadata": {},
   "outputs": [],
   "source": [
    "#use scipy's stats library to calculate chi2, p and expected\n",
    "\n",
    "chi2, p, _, expected = stats.chi2_contingency(observed)\n"
   ]
  },
  {
   "cell_type": "code",
   "execution_count": 162,
   "id": "6ed79c4a",
   "metadata": {},
   "outputs": [
    {
     "name": "stdout",
     "output_type": "stream",
     "text": [
      "Observed:\n",
      "\n",
      "manager_status       0   1\n",
      "gender                    \n",
      "F               120038  13\n",
      "M               179962  11\n",
      "~~~~~~~~~~~~~~~~~~~~~~\n",
      "Expected: \n",
      "\n",
      "manager_status              0          1\n",
      "gender                                  \n",
      "F               120041.396688   9.603312\n",
      "M               179958.603312  14.396688\n",
      "~~~~~~~~~~~~~~~~~~~~~~\n",
      "chi^2 value: 1.4567\n",
      "p value: 0.22745819\n",
      "We cannot reject the null hypothesis\n"
     ]
    }
   ],
   "source": [
    "print('Observed:\\n')\n",
    "print(observed)\n",
    "print('~~~~~~~~~~~~~~~~~~~~~~')\n",
    "print('Expected: \\n')\n",
    "print(pd.DataFrame(expected, index=observed.index, columns=observed.columns))\n",
    "print('~~~~~~~~~~~~~~~~~~~~~~')\n",
    "print(f'chi^2 value: {chi2:.4f}')\n",
    "print(f'p value: {p:.8f}')\n",
    "if p < alpha:\n",
    "    print('''Our p value is less than our alpha and we can reject the null hypothesis\n",
    "         We can suggest gender of employee is not independent of history as a manager''')\n",
    "else:\n",
    "    print('We cannot reject the null hypothesis')"
   ]
  },
  {
   "cell_type": "code",
   "execution_count": null,
   "id": "dc227296",
   "metadata": {},
   "outputs": [],
   "source": []
  }
 ],
 "metadata": {
  "kernelspec": {
   "display_name": "Python 3.8.8 64-bit ('base': conda)",
   "language": "python",
   "name": "python388jvsc74a57bd0b64057e63add2b45b1ffc7eab9b09c8889b419c878e2fdf0d08f837f0fc857a7"
  },
  "language_info": {
   "codemirror_mode": {
    "name": "ipython",
    "version": 3
   },
   "file_extension": ".py",
   "mimetype": "text/x-python",
   "name": "python",
   "nbconvert_exporter": "python",
   "pygments_lexer": "ipython3",
   "version": "3.8.8"
  }
 },
 "nbformat": 4,
 "nbformat_minor": 5
}
