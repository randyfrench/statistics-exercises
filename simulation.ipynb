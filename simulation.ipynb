{
 "cells": [
  {
   "cell_type": "code",
   "execution_count": 2,
   "id": "8a6d5d14",
   "metadata": {},
   "outputs": [],
   "source": [
    "import pandas as pd\n",
    "import numpy as np\n",
    "import random"
   ]
  },
  {
   "cell_type": "code",
   "execution_count": 14,
   "id": "546b1fb6",
   "metadata": {},
   "outputs": [
    {
     "name": "stdout",
     "output_type": "stream",
     "text": [
      "The odds of rolling doubles when rolling two dice are 17%\n"
     ]
    }
   ],
   "source": [
    "# 1. How likely is it that you roll doubles when rolling two dice?\n",
    "nrows = 100_000\n",
    "ncols = 2\n",
    "rolls = np.random.choice([1, 2, 3, 4, 5, 6], nrows * ncols).reshape(nrows, ncols)\n",
    "df = pd.DataFrame(rolls)\n",
    "df['doubles'] = df[0] == df[1]\n",
    "odds_of_doubles = int(round(df.doubles.mean(),2) * 100)\n",
    "\n",
    "print(f'The odds of rolling doubles when rolling two dice are {odds_of_doubles}%')\n",
    "\n",
    "#n_simulations = 1_000_000 # create matrix of random data where rows = simulations , columns = trials\n",
    "\n",
    "#die1 = np.random.choice(outcomes, size=n_simulations) #size arugument can set our simulation and trial size\n",
    "#die2 = np.random.choice(outcomes, size=n_simulations)\n",
    "#sum_of_rolls = .sum(axis=1)\n",
    "\n",
    "#(die1 == die2).mean()\n"
   ]
  },
  {
   "cell_type": "code",
   "execution_count": 34,
   "id": "36d8feac",
   "metadata": {},
   "outputs": [
    {
     "name": "stdout",
     "output_type": "stream",
     "text": [
      "The odds of getting exactly three heads when flipping eight coins is 22%\n",
      "The odds of gettng three or more heads when flipping eight coins is 86%\n"
     ]
    }
   ],
   "source": [
    "# 2. If you flip 8 coins, what is the probability of getting exactly 3 heads? What is the probability of getting \n",
    "# more than 3 heads\n",
    "\n",
    "nrows = 100_000 # set rows to number of simulations\n",
    "ncols = 8       # set columns to number of random events in each simulation\n",
    "\n",
    "# create array\n",
    "rolls = np.random.choice([True, False], nrows * ncols).reshape(nrows, ncols)\n",
    "\n",
    "# create dataframe\n",
    "df = pd.DataFrame(rolls)\n",
    "\n",
    "# add calculation columnns\n",
    "df['number_of_heads'] = df.sum(axis=1)\n",
    "df['exactly_three_heads'] = df.number_of_heads == 3\n",
    "df['three_or_more_heads'] = df.number_of_heads >= 3\n",
    "\n",
    "# get mean of calculation True/False columns\n",
    "# format and print results\n",
    "odds_of_three_heads = int(round(df.exactly_three_heads.mean(),2) * 100)\n",
    "odds_of_three_or_more_heads = int(round(df.three_or_more_heads.mean(),2) * 100)\n",
    "\n",
    "print(f'The odds of getting exactly three heads when flipping eight coins is {odds_of_three_heads}%')\n",
    "print(f'The odds of gettng three or more heads when flipping eight coins is {odds_of_three_or_more_heads}%')"
   ]
  },
  {
   "cell_type": "code",
   "execution_count": 15,
   "id": "c78da58c",
   "metadata": {},
   "outputs": [
    {
     "data": {
      "text/plain": [
       "array(['Tails', 'Tails', 'Tails', 'Tails', 'Tails', 'Tails', 'Heads',\n",
       "       'Tails'], dtype='<U5')"
      ]
     },
     "execution_count": 15,
     "metadata": {},
     "output_type": "execute_result"
    }
   ],
   "source": [
    "# 2. If you flip 8 coins, what is the probability of getting exactly 3 heads? What is the probability of getting \n",
    "# more than 3 heads\n",
    "heads = [\"Heads\", \"Tails\"]\n",
    "n_simulations = 10_000\n",
    "n_trials = 8\n",
    "\n",
    "flips = np.random.choice(heads, size=(n_simulations, n_trials))\n",
    "flips[0]\n",
    "\n"
   ]
  },
  {
   "cell_type": "code",
   "execution_count": 16,
   "id": "38a2949a",
   "metadata": {},
   "outputs": [
    {
     "data": {
      "text/plain": [
       "array([False, False, False, False, False, False,  True, False])"
      ]
     },
     "execution_count": 16,
     "metadata": {},
     "output_type": "execute_result"
    }
   ],
   "source": [
    "flips[0] == \"Heads\""
   ]
  },
  {
   "cell_type": "code",
   "execution_count": null,
   "id": "30e85d4d",
   "metadata": {},
   "outputs": [],
   "source": [
    "#(flips[0] == \"Heads\")\n",
    "#(flips[0] == \"Heads\").sum()"
   ]
  },
  {
   "cell_type": "code",
   "execution_count": 17,
   "id": "f5057177",
   "metadata": {},
   "outputs": [
    {
     "data": {
      "text/plain": [
       "array([1, 3, 4, ..., 3, 5, 4])"
      ]
     },
     "execution_count": 17,
     "metadata": {},
     "output_type": "execute_result"
    }
   ],
   "source": [
    "is_heads = flips == \"Heads\"\n",
    "number_of_heads = is_heads.sum(axis=1)\n",
    "number_of_heads"
   ]
  },
  {
   "cell_type": "code",
   "execution_count": 18,
   "id": "14b65476",
   "metadata": {},
   "outputs": [
    {
     "data": {
      "text/plain": [
       "array([False,  True, False, ...,  True, False, False])"
      ]
     },
     "execution_count": 18,
     "metadata": {},
     "output_type": "execute_result"
    }
   ],
   "source": [
    "number_of_heads == 3"
   ]
  },
  {
   "cell_type": "code",
   "execution_count": 19,
   "id": "da9a624f",
   "metadata": {},
   "outputs": [
    {
     "data": {
      "text/plain": [
       "0.2157"
      ]
     },
     "execution_count": 19,
     "metadata": {},
     "output_type": "execute_result"
    }
   ],
   "source": [
    "(number_of_heads == 3).mean()"
   ]
  },
  {
   "cell_type": "code",
   "execution_count": 20,
   "id": "e93ca5ee",
   "metadata": {},
   "outputs": [],
   "source": [
    "x = np.array([\n",
    "    [1, 1, 1],\n",
    "    [2, 2, 2],\n",
    "    [3, 3, 3]\n",
    "])"
   ]
  },
  {
   "cell_type": "code",
   "execution_count": 21,
   "id": "aec2db60",
   "metadata": {},
   "outputs": [
    {
     "data": {
      "text/plain": [
       "18"
      ]
     },
     "execution_count": 21,
     "metadata": {},
     "output_type": "execute_result"
    }
   ],
   "source": [
    "x.sum()"
   ]
  },
  {
   "cell_type": "code",
   "execution_count": 23,
   "id": "fb6a538d",
   "metadata": {},
   "outputs": [
    {
     "data": {
      "text/plain": [
       "array([6, 6, 6])"
      ]
     },
     "execution_count": 23,
     "metadata": {},
     "output_type": "execute_result"
    }
   ],
   "source": [
    "x.sum(axis=0)"
   ]
  },
  {
   "cell_type": "code",
   "execution_count": 24,
   "id": "8349e12b",
   "metadata": {},
   "outputs": [
    {
     "data": {
      "text/plain": [
       "array([3, 6, 9])"
      ]
     },
     "execution_count": 24,
     "metadata": {},
     "output_type": "execute_result"
    }
   ],
   "source": [
    "x.sum(axis=1)"
   ]
  },
  {
   "cell_type": "code",
   "execution_count": 25,
   "id": "73435f09",
   "metadata": {},
   "outputs": [
    {
     "data": {
      "text/plain": [
       "0.6393"
      ]
     },
     "execution_count": 25,
     "metadata": {},
     "output_type": "execute_result"
    }
   ],
   "source": [
    "(number_of_heads > 3).mean()"
   ]
  },
  {
   "cell_type": "code",
   "execution_count": 26,
   "id": "6d1c0b01",
   "metadata": {},
   "outputs": [
    {
     "data": {
      "text/plain": [
       "array([6, 3, 5, ..., 7, 5, 5])"
      ]
     },
     "execution_count": 26,
     "metadata": {},
     "output_type": "execute_result"
    }
   ],
   "source": [
    "#When we flip 10 coins at once, what’s the likelihood of flipping all headsheads = [\"Heads\", \"Tails\"]\n",
    "heads = [\"Heads\", \"Tails\"]\n",
    "n_simulations = 10_000\n",
    "n_trials = 10\n",
    "\n",
    "flips = np.random.choice(heads, size=(n_simulations, n_trials))\n",
    "is_heads = flips == \"Heads\"\n",
    "number_of_heads = is_heads.sum(axis=1)\n",
    "number_of_heads\n"
   ]
  },
  {
   "cell_type": "code",
   "execution_count": 27,
   "id": "2e48d66a",
   "metadata": {},
   "outputs": [
    {
     "data": {
      "text/plain": [
       "0.0009"
      ]
     },
     "execution_count": 27,
     "metadata": {},
     "output_type": "execute_result"
    }
   ],
   "source": [
    "(number_of_heads == 10).mean()"
   ]
  },
  {
   "cell_type": "code",
   "execution_count": 28,
   "id": "16924267",
   "metadata": {},
   "outputs": [
    {
     "data": {
      "text/plain": [
       "array([['data', 'web'],\n",
       "       ['data', 'web'],\n",
       "       ['web', 'web'],\n",
       "       ...,\n",
       "       ['data', 'web'],\n",
       "       ['web', 'web'],\n",
       "       ['web', 'web']], dtype='<U4')"
      ]
     },
     "execution_count": 28,
     "metadata": {},
     "output_type": "execute_result"
    }
   ],
   "source": [
    "# 3. There are approximitely 3 web development cohorts for every 1 data science cohort at Codeup. Assuming \n",
    "#that Codeup randomly selects an alumni to put on a billboard, what are the odds that the two billboards I drive \n",
    "#past both have data science students on them?\n",
    "outcomes = [\"web\", \"data\"]\n",
    "n_simulations = 1000\n",
    "n_trials = 2\n",
    "size = (n_simulations, n_trials)\n",
    "cohorts = np.random.choice(outcomes, size=size, p=[0.75, 0.25])\n",
    "cohorts\n",
    "\n"
   ]
  },
  {
   "cell_type": "code",
   "execution_count": 36,
   "id": "5ba1ed56",
   "metadata": {},
   "outputs": [
    {
     "name": "stdout",
     "output_type": "stream",
     "text": [
      "The odds of both billboards being Data Science are 6%\n"
     ]
    }
   ],
   "source": [
    "# 3. There are approximitely 3 web development cohorts for every 1 data science cohort at Codeup. Assuming \n",
    "#that Codeup randomly selects an alumni to put on a billboard, what are the odds that the two billboards I drive \n",
    "#past both have data science students on them?\n",
    "\n",
    "nrows = 100_000 # set rows to number of simulations\n",
    "ncols = 2       # set columns to number of bilboards in each simulation\n",
    "\n",
    "# create data frame with each row representing a simulation and each column representing a bilboard in the simulation\n",
    "rolls = np.random.choice([\"DS\",\"WEB\",\"WEB\",\"WEB\"], nrows * ncols).reshape(nrows, ncols)\n",
    "\n",
    "# convert to data frame\n",
    "df = pd.DataFrame(rolls)\n",
    "\n",
    "# add calculation columnn\n",
    "df['both_ds'] = (df[0] == \"DS\") & (df[1] == \"DS\")\n",
    "\n",
    "# get mean of calculation True/False columns\n",
    "# format and print results\n",
    "both_ds = int(round(df.both_ds.mean(),2) * 100)\n",
    "\n",
    "print(f'The odds of both billboards being Data Science are {both_ds}%')"
   ]
  },
  {
   "cell_type": "code",
   "execution_count": 35,
   "id": "263da92c",
   "metadata": {},
   "outputs": [
    {
     "ename": "AttributeError",
     "evalue": "'numpy.ndarray' object has no attribute 'head'",
     "output_type": "error",
     "traceback": [
      "\u001b[0;31m---------------------------------------------------------------------------\u001b[0m",
      "\u001b[0;31mAttributeError\u001b[0m                            Traceback (most recent call last)",
      "\u001b[0;32m<ipython-input-35-d0553f071c5a>\u001b[0m in \u001b[0;36m<module>\u001b[0;34m\u001b[0m\n\u001b[1;32m      1\u001b[0m \u001b[0mis_ds\u001b[0m \u001b[0;34m=\u001b[0m \u001b[0mcohorts\u001b[0m \u001b[0;34m==\u001b[0m \u001b[0;34m\"data\"\u001b[0m\u001b[0;34m\u001b[0m\u001b[0;34m\u001b[0m\u001b[0m\n\u001b[1;32m      2\u001b[0m \u001b[0mnumber_of_ds\u001b[0m \u001b[0;34m=\u001b[0m \u001b[0mis_ds\u001b[0m\u001b[0;34m.\u001b[0m\u001b[0msum\u001b[0m\u001b[0;34m(\u001b[0m\u001b[0maxis\u001b[0m\u001b[0;34m=\u001b[0m\u001b[0;36m1\u001b[0m\u001b[0;34m)\u001b[0m\u001b[0;34m\u001b[0m\u001b[0;34m\u001b[0m\u001b[0m\n\u001b[0;32m----> 3\u001b[0;31m \u001b[0mnumber_of_ds\u001b[0m\u001b[0;34m.\u001b[0m\u001b[0mhead\u001b[0m\u001b[0;34m(\u001b[0m\u001b[0;34m)\u001b[0m\u001b[0;34m\u001b[0m\u001b[0;34m\u001b[0m\u001b[0m\n\u001b[0m",
      "\u001b[0;31mAttributeError\u001b[0m: 'numpy.ndarray' object has no attribute 'head'"
     ]
    }
   ],
   "source": [
    "is_ds = cohorts == \"data\"\n",
    "number_of_ds = is_ds.sum(axis=1)\n",
    "number_of_ds.head()"
   ]
  },
  {
   "cell_type": "code",
   "execution_count": 30,
   "id": "90e0cdfa",
   "metadata": {},
   "outputs": [
    {
     "data": {
      "text/plain": [
       "0.065"
      ]
     },
     "execution_count": 30,
     "metadata": {},
     "output_type": "execute_result"
    }
   ],
   "source": [
    "(number_of_ds == 2).mean()"
   ]
  },
  {
   "cell_type": "code",
   "execution_count": 31,
   "id": "c9eeb826",
   "metadata": {},
   "outputs": [
    {
     "data": {
      "text/plain": [
       "0.0625"
      ]
     },
     "execution_count": 31,
     "metadata": {},
     "output_type": "execute_result"
    }
   ],
   "source": [
    ".25 * .25"
   ]
  },
  {
   "cell_type": "code",
   "execution_count": 37,
   "id": "d7082386",
   "metadata": {},
   "outputs": [
    {
     "name": "stdout",
     "output_type": "stream",
     "text": [
      "The odds of being able to by a PopTart in the afternoon on friday are 88%\n"
     ]
    }
   ],
   "source": [
    "# 4. Codeup students buy, on average, 3 poptart packages with a standard deviation of 1.5 a day from the snack \n",
    "# vending machine. If on monday the machine is restocked with 17 poptart packages, how likely is it that I will be \n",
    "# able to buy some poptarts on Friday afternoon? (Remember, if you have mean and standard deviation, use \n",
    "# the np.random.normal)\n",
    "\n",
    "nrows = 100_000 # set rows to number of simulations\n",
    "ncols = 5       # set columns to number of days in each simulation\n",
    "\n",
    "# create array with each row representing a simulation and each column representing a day in the simulation\n",
    "rolls = np.random.normal(3, 1.5, nrows * ncols).astype(int).reshape(nrows, ncols)\n",
    "\n",
    "# convert to data frame\n",
    "df = pd.DataFrame(rolls)\n",
    "\n",
    "# add calculation columnns\n",
    "df['total_pop_tarts'] = df.sum(axis=1)\n",
    "df['pop_tarts_remain'] = df['total_pop_tarts'] < 17\n",
    "\n",
    "# get mean of calculation True/False columns\n",
    "# format and print results\n",
    "tarts = int(round(df['pop_tarts_remain'].mean(),2) * 100)\n",
    "\n",
    "print(f'The odds of being able to by a PopTart in the afternoon on friday are {tarts}%')"
   ]
  },
  {
   "cell_type": "code",
   "execution_count": 38,
   "id": "0090c2c6",
   "metadata": {},
   "outputs": [
    {
     "name": "stdout",
     "output_type": "stream",
     "text": [
      "The probability of a woman, chosen at random, being taller than a man, chosen at random is 21%\n"
     ]
    }
   ],
   "source": [
    "# 5. Compare Heights\n",
    "    # Men have an average height of 178 cm and standard deviation of 8cm.\n",
    "    # Women have a mean of 170, sd = 6cm.\n",
    "    # Since you have means and standard deviations, you can use np.random.normal to generate observations.\n",
    "    # If a man and woman are chosen at random, P(woman taller than man)?\n",
    "\n",
    "# create arrays of veriables\n",
    "male_hights = np.random.normal(178, 8, 100_000)\n",
    "female_hights = np.random.normal(170, 6, 100_000)\n",
    "\n",
    "# convert array to data frame\n",
    "df = pd.DataFrame({\"male_hights\" : male_hights,\n",
    "                   \"female_hights\" : female_hights})\n",
    "\n",
    "# add calculated column\n",
    "df['female_is_taller'] = df.female_hights > df.male_hights\n",
    "\n",
    "# get mean of female_is_taller\n",
    "df['female_is_taller'].mean()\n",
    "\n",
    "# get mean of calculation True/False columns\n",
    "# format and print results\n",
    "taller_female = int(round(df['female_is_taller'].mean(),2) * 100)\n",
    "\n",
    "print(f\"The probability of a woman, chosen at random, being taller than a man, chosen at random is {taller_female}%\")\n"
   ]
  },
  {
   "cell_type": "code",
   "execution_count": 39,
   "id": "fa272d8e",
   "metadata": {},
   "outputs": [
    {
     "name": "stdout",
     "output_type": "stream",
     "text": [
      "The odds of 50 students dowloading Anaconda without a problem are 82%\n"
     ]
    }
   ],
   "source": [
    "# 6a. When installing anaconda on a student's computer, there's a 1 in 250 chance that the download is corrupted \n",
    "# and the installation fails. What are the odds that after having 50 students download anaconda, no one has an \n",
    "# installation issue? 100 students?\n",
    "\n",
    "nrows = 100_000 # set rows to number of simulations\n",
    "ncols = 50      # set columns to number of students in each simulation\n",
    "\n",
    "# list with 249 falses and one true\n",
    "issue_range = [False for r in range(1,250)]\n",
    "issue_range.append(True)\n",
    "\n",
    "# create array with each row representing a simulation and each column representing a student in the simulation\n",
    "installs = np.random.choice(issue_range, nrows * ncols).reshape(nrows, ncols)\n",
    "\n",
    "# convert to data frame\n",
    "df = pd.DataFrame(installs)\n",
    "\n",
    "# add calculation columnns\n",
    "df['has_no_problem'] = df.sum(axis=1) == 0\n",
    "\n",
    "# get mean of calculation True/False columns\n",
    "# format and print results\n",
    "problems = int(round(df['has_no_problem'].mean(),2) * 100)\n",
    "\n",
    "print(f'The odds of 50 students dowloading Anaconda without a problem are {problems}%')\n"
   ]
  },
  {
   "cell_type": "code",
   "execution_count": 40,
   "id": "95d42410",
   "metadata": {},
   "outputs": [
    {
     "name": "stdout",
     "output_type": "stream",
     "text": [
      "The odds of 100 students dowloading Anaconda without a problem are 67%\n"
     ]
    }
   ],
   "source": [
    "# 6b. 100 students?\n",
    "\n",
    "nrows = 100_000 # set rows to number of simulations\n",
    "ncols = 100     # set columns to number of students in each simulation\n",
    "\n",
    "# list with 249 falses and one true\n",
    "issue_range = [False for r in range(1,250)]\n",
    "issue_range.append(True)\n",
    "\n",
    "# create array with each row representing a simulation and each column representing a student in the simulation\n",
    "installs = np.random.choice(issue_range, nrows * ncols).reshape(nrows, ncols)\n",
    "\n",
    "# convert to data frame\n",
    "df = pd.DataFrame(installs)\n",
    "\n",
    "# add calculation columnns\n",
    "df['has_no_problem'] = df.sum(axis=1) == 0\n",
    "\n",
    "# get mean of calculation True/False columns\n",
    "# format and print results\n",
    "problems = int(round(df['has_no_problem'].mean(),2) * 100)\n",
    "\n",
    "print(f'The odds of 100 students dowloading Anaconda without a problem are {problems}%')"
   ]
  },
  {
   "cell_type": "code",
   "execution_count": 41,
   "id": "51a547cb",
   "metadata": {},
   "outputs": [
    {
     "name": "stdout",
     "output_type": "stream",
     "text": [
      "The odds of a problem occuring in the first 150 instllations is 45%\n"
     ]
    }
   ],
   "source": [
    "# 6b. What is the probability that we observe an installation issue within the first 150 students that download \n",
    "# anaconda?\n",
    "\n",
    "nrows = 100_000 # set rows to number of simulations\n",
    "ncols = 150      # set columns to number of students in each simulation\n",
    "\n",
    "# list with 249 falses and one true\n",
    "issue_range = [False for r in range(1,250)]\n",
    "issue_range.append(True)\n",
    "\n",
    "# create array with each row representing a simulation and each column representing a student in the simulation\n",
    "installs = np.random.choice(issue_range, nrows * ncols).reshape(nrows, ncols)\n",
    "\n",
    "# convert to data frame\n",
    "df = pd.DataFrame(installs)\n",
    "\n",
    "# add calculation columnns\n",
    "df['has_a_problem'] = df.sum(axis=1) > 0\n",
    "\n",
    "# get mean of calculation True/False columns\n",
    "# format and print results\n",
    "problems = int(round(df['has_a_problem'].mean(),2) * 100)\n",
    "\n",
    "print(f'The odds of a problem occuring in the first 150 instllations is {problems}%')"
   ]
  },
  {
   "cell_type": "code",
   "execution_count": 43,
   "id": "1272c283",
   "metadata": {},
   "outputs": [
    {
     "name": "stdout",
     "output_type": "stream",
     "text": [
      "The odds of 450 instllations occuring without an issue is 16%\n"
     ]
    }
   ],
   "source": [
    "# 6c. How likely is it that 450 students all download anaconda without an issue?\n",
    "\n",
    "nrows = 100_000 # set rows to number of simulations\n",
    "ncols = 450      # set columns to number of students in each simulation\n",
    "\n",
    "# list with 249 falses and one true\n",
    "issue_range = [False for r in range(1,250)]\n",
    "issue_range.append(True)\n",
    "\n",
    "# create array with each row representing a simulation and each column representing a student in the simulation\n",
    "installs = np.random.choice(issue_range, nrows * ncols).reshape(nrows, ncols)\n",
    "\n",
    "# convert to data frame\n",
    "df = pd.DataFrame(installs)\n",
    "\n",
    "# add calculation columnns\n",
    "df['has_no_problem'] = df.sum(axis=1) == 0\n",
    "\n",
    "# get mean of calculation True/False columns\n",
    "# format and print results\n",
    "problems = int(round(df['has_no_problem'].mean(),2) * 100)\n",
    "\n",
    "print(f'The odds of 450 instllations occuring without an issue is {problems}%')"
   ]
  },
  {
   "cell_type": "code",
   "execution_count": 49,
   "id": "7e0cdf1b",
   "metadata": {},
   "outputs": [
    {
     "name": "stdout",
     "output_type": "stream",
     "text": [
      "The odds of not seeing a food truck in Travis Park for three days is 3%\n"
     ]
    }
   ],
   "source": [
    "# 7a. There's a 70% chance on any given day that there will be at least one food truck at Travis Park. However, \n",
    "# you haven't seen a food truck there in 3 days. How unlikely is this?\n",
    "\n",
    "nrows = 100_000 # set rows to number of simulations\n",
    "ncols = 3      # set columns to number of days in each simulation\n",
    "\n",
    "# create array with each row representing a simulation and each column representing a student in the simulation\n",
    "sightings = np.random.choice([True, False], nrows * ncols, p=[.7,.3]).reshape(nrows, ncols)\n",
    "\n",
    "# convert to data frame\n",
    "df = pd.DataFrame(sightings)\n",
    "\n",
    "# add calculation columnns\n",
    "df['times_sighted'] = df.sum(axis=1)\n",
    "df['not_sighted_three_days'] = df.times_sighted == 0\n",
    "\n",
    "df['not_sighted_three_days'].mean()\n",
    "\n",
    "# get mean of calculation True/False columns\n",
    "# format and print results\n",
    "trucks = int(round(df['not_sighted_three_days'].mean(),2) * 100)\n",
    "\n",
    "print(f'The odds of not seeing a food truck in Travis Park for three days is {trucks}%')\n"
   ]
  },
  {
   "cell_type": "code",
   "execution_count": 46,
   "id": "b98bbe3d",
   "metadata": {},
   "outputs": [
    {
     "name": "stdout",
     "output_type": "stream",
     "text": [
      "The odds of not seeing a food truck in Travis Park for 2 days is 8%\n"
     ]
    }
   ],
   "source": [
    "# 7b. How likely is it that a food truck will show up sometime this week?\n",
    "\n",
    "# Remaining week days\n",
    "nrows = 100_000 # set rows to number of simulations\n",
    "ncols = 2      # set columns to number of students in each simulation\n",
    "\n",
    "# create array with each row representing a simulation and each column representing a student in the simulation\n",
    "sightings = np.random.choice([True, False], nrows * ncols, p=[.7,.3]).reshape(nrows, ncols)\n",
    "\n",
    "# convert to data frame\n",
    "df = pd.DataFrame(sightings)\n",
    "\n",
    "# add calculation columnns\n",
    "df['not_sighted_two_days'] = df.sum(axis=1) == 0\n",
    "\n",
    "# get mean of calculation True/False columns\n",
    "# format and print results\n",
    "trucks = int(round(df['not_sighted_two_days'].mean(),4) * 100)\n",
    "\n",
    "print(f'The odds of not seeing a food truck in Travis Park for {ncols} days is {trucks}%')"
   ]
  },
  {
   "cell_type": "code",
   "execution_count": 54,
   "id": "f18a5e5f",
   "metadata": {},
   "outputs": [
    {
     "name": "stdout",
     "output_type": "stream",
     "text": [
      "The odds of a room of 23 people having at least two people that share a birthday are 51%\n",
      "The odds of a room of 23 people having exactly least two people that share a birthday are 13%\n"
     ]
    }
   ],
   "source": [
    "#8. If 23 people are in the same room, what are the odds that two of them share a birthday? \n",
    "# What if it's 20 people? 40?\n",
    "\n",
    "nrows = 100_000 # set rows to number of simulations\n",
    "ncols = 23       # set columns to number of students in each simulation\n",
    "\n",
    "# create array with each row representing a simulation and each column representing a student in the simulation\n",
    "sightings = np.random.choice([r for r in range(366)], nrows * ncols).reshape(nrows, ncols)\n",
    "\n",
    "# convert to data frame\n",
    "df = pd.DataFrame(sightings)\n",
    "\n",
    "# add calculation columnns\n",
    "df['at_least_two_matching_birthdays'] = df.nunique(axis=1) < ncols\n",
    "df['exactly_two_matching_birthdays'] = df.nunique(axis=1) == ncols-1\n",
    "\n",
    "# get mean of calculation True/False columns\n",
    "# format and print results\n",
    "at_least_two_matching_birthdays = int(round(df['at_least_two_matching_birthdays'].mean(),2) * 100)\n",
    "exactly_two_matching_birthdays = int(round(df['exactly_two_matching_birthdays'].mean(),2) * 100)\n",
    "\n",
    "print(f'The odds of a room of {ncols} people having at least two people that share a birthday are {at_least_two_matching_birthdays}%')\n",
    "print(f'The odds of a room of {ncols} people having exactly least two people that share a birthday are {exactly_two_matching_birthdays}%')"
   ]
  },
  {
   "cell_type": "code",
   "execution_count": 55,
   "id": "e5e39128",
   "metadata": {},
   "outputs": [
    {
     "name": "stdout",
     "output_type": "stream",
     "text": [
      "The odds of a room of 20 people having at least two people that share a birthday are 41%\n",
      "The odds of a room of 20 people having exactly least two people that share a birthday are 9%\n"
     ]
    }
   ],
   "source": [
    "# 8b. What if it's 20 people? 40?\n",
    "\n",
    "nrows = 100_000 # set rows to number of simulations\n",
    "ncols = 20       # set columns to number of students in each simulation\n",
    "\n",
    "# create array with each row representing a simulation and each column representing a student in the simulation\n",
    "sightings = np.random.choice([r for r in range(366)], nrows * ncols).reshape(nrows, ncols)\n",
    "\n",
    "# convert to data frame\n",
    "df = pd.DataFrame(sightings)\n",
    "\n",
    "# add calculation columnns\n",
    "df['at_least_two_matching_birthdays'] = df.nunique(axis=1) < ncols\n",
    "df['exactly_two_matching_birthdays'] = df.nunique(axis=1) == ncols-1\n",
    "\n",
    "# get mean of calculation True/False columns\n",
    "# format and print results\n",
    "at_least_two_matching_birthdays = int(round(df['at_least_two_matching_birthdays'].mean(),2) * 100)\n",
    "exactly_two_matching_birthdays = int(round(df['exactly_two_matching_birthdays'].mean(),2) * 100)\n",
    "\n",
    "print(f'The odds of a room of {ncols} people having at least two people that share a birthday are {at_least_two_matching_birthdays}%')\n",
    "print(f'The odds of a room of {ncols} people having exactly least two people that share a birthday are {exactly_two_matching_birthdays}%')"
   ]
  },
  {
   "cell_type": "code",
   "execution_count": 56,
   "id": "fdc7ebf5",
   "metadata": {},
   "outputs": [
    {
     "name": "stdout",
     "output_type": "stream",
     "text": [
      "The odds of a room of 40 people having at least two people that share a birthday are 89%\n",
      "The odds of a room of 40 people having exactly two people that share a birthday are 28%\n"
     ]
    }
   ],
   "source": [
    "# 8c. What if it is 40?\n",
    "nrows = 100_000 # set rows to number of simulations\n",
    "ncols = 40       # set columns to number of students in each simulation\n",
    "\n",
    "# create array with each row representing a simulation and each column representing a student in the simulation\n",
    "sightings = np.random.choice([r for r in range(366)], nrows * ncols).reshape(nrows, ncols)\n",
    "\n",
    "# convert to data frame\n",
    "df = pd.DataFrame(sightings)\n",
    "\n",
    "# add calculation columnns\n",
    "df['at_least_two_matching_birthdays'] = df.nunique(axis=1) < ncols\n",
    "df['exactly_two_matching_birthdays'] = df.nunique(axis=1) == ncols-1\n",
    "\n",
    "# get mean of calculation True/False columns\n",
    "# format and print results\n",
    "at_least_two_matching_birthdays = int(round(df['at_least_two_matching_birthdays'].mean(),2) * 100)\n",
    "exactly_two_matching_birthdays = int(round(df['exactly_two_matching_birthdays'].mean(),2) * 100)\n",
    "\n",
    "print(f'The odds of a room of {ncols} people having at least two people that share a birthday are {at_least_two_matching_birthdays}%')\n",
    "print(f'The odds of a room of {ncols} people having exactly two people that share a birthday are {exactly_two_matching_birthdays}%')"
   ]
  },
  {
   "cell_type": "code",
   "execution_count": null,
   "id": "82445feb",
   "metadata": {},
   "outputs": [],
   "source": []
  }
 ],
 "metadata": {
  "kernelspec": {
   "display_name": "Python 3.8.8 64-bit ('base': conda)",
   "language": "python",
   "name": "python388jvsc74a57bd0b64057e63add2b45b1ffc7eab9b09c8889b419c878e2fdf0d08f837f0fc857a7"
  },
  "language_info": {
   "codemirror_mode": {
    "name": "ipython",
    "version": 3
   },
   "file_extension": ".py",
   "mimetype": "text/x-python",
   "name": "python",
   "nbconvert_exporter": "python",
   "pygments_lexer": "ipython3",
   "version": "3.8.8"
  }
 },
 "nbformat": 4,
 "nbformat_minor": 5
}
