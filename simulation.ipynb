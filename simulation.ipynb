{
 "cells": [
  {
   "cell_type": "code",
   "execution_count": 1,
   "id": "8a6d5d14",
   "metadata": {},
   "outputs": [],
   "source": [
    "import pandas as pd\n",
    "import numpy as np\n",
    "import random"
   ]
  },
  {
   "cell_type": "code",
   "execution_count": 2,
   "id": "546b1fb6",
   "metadata": {},
   "outputs": [
    {
     "ename": "NameError",
     "evalue": "name 'rolls' is not defined",
     "output_type": "error",
     "traceback": [
      "\u001b[0;31m---------------------------------------------------------------------------\u001b[0m",
      "\u001b[0;31mNameError\u001b[0m                                 Traceback (most recent call last)",
      "\u001b[0;32m<ipython-input-2-bbed4c78252f>\u001b[0m in \u001b[0;36m<module>\u001b[0;34m\u001b[0m\n\u001b[1;32m      6\u001b[0m \u001b[0mdie1\u001b[0m \u001b[0;34m=\u001b[0m \u001b[0mnp\u001b[0m\u001b[0;34m.\u001b[0m\u001b[0mrandom\u001b[0m\u001b[0;34m.\u001b[0m\u001b[0mchoice\u001b[0m\u001b[0;34m(\u001b[0m\u001b[0moutcomes\u001b[0m\u001b[0;34m,\u001b[0m \u001b[0msize\u001b[0m\u001b[0;34m=\u001b[0m\u001b[0mn_simulations\u001b[0m\u001b[0;34m)\u001b[0m \u001b[0;31m#size arugument can set our simulation and trial size\u001b[0m\u001b[0;34m\u001b[0m\u001b[0;34m\u001b[0m\u001b[0m\n\u001b[1;32m      7\u001b[0m \u001b[0mdie2\u001b[0m \u001b[0;34m=\u001b[0m \u001b[0mnp\u001b[0m\u001b[0;34m.\u001b[0m\u001b[0mrandom\u001b[0m\u001b[0;34m.\u001b[0m\u001b[0mchoice\u001b[0m\u001b[0;34m(\u001b[0m\u001b[0moutcomes\u001b[0m\u001b[0;34m,\u001b[0m \u001b[0msize\u001b[0m\u001b[0;34m=\u001b[0m\u001b[0mn_simulations\u001b[0m\u001b[0;34m)\u001b[0m\u001b[0;34m\u001b[0m\u001b[0;34m\u001b[0m\u001b[0m\n\u001b[0;32m----> 8\u001b[0;31m \u001b[0msum_of_rolls\u001b[0m \u001b[0;34m=\u001b[0m \u001b[0mrolls\u001b[0m\u001b[0;34m.\u001b[0m\u001b[0msum\u001b[0m\u001b[0;34m(\u001b[0m\u001b[0maxis\u001b[0m\u001b[0;34m=\u001b[0m\u001b[0;36m1\u001b[0m\u001b[0;34m)\u001b[0m\u001b[0;34m\u001b[0m\u001b[0;34m\u001b[0m\u001b[0m\n\u001b[0m\u001b[1;32m      9\u001b[0m \u001b[0;34m\u001b[0m\u001b[0m\n\u001b[1;32m     10\u001b[0m \u001b[0;34m(\u001b[0m\u001b[0mdie1\u001b[0m \u001b[0;34m==\u001b[0m \u001b[0mdie2\u001b[0m\u001b[0;34m)\u001b[0m\u001b[0;34m.\u001b[0m\u001b[0mmean\u001b[0m\u001b[0;34m(\u001b[0m\u001b[0;34m)\u001b[0m\u001b[0;34m\u001b[0m\u001b[0;34m\u001b[0m\u001b[0m\n",
      "\u001b[0;31mNameError\u001b[0m: name 'rolls' is not defined"
     ]
    }
   ],
   "source": [
    "# 1. How likely is it that you roll doubles when rolling two dice?\n",
    "\n",
    "outcomes = [1, 2, 3, 4, 5, 6] # represent our outcomes\n",
    "n_simulations = 1_000_000 # create matrix of random data where rows = simulations , columns = trials\n",
    "\n",
    "die1 = np.random.choice(outcomes, size=n_simulations) #size arugument can set our simulation and trial size\n",
    "die2 = np.random.choice(outcomes, size=n_simulations)\n",
    "sum_of_rolls = rolls.sum(axis=1)\n",
    "\n",
    "(die1 == die2).mean()\n"
   ]
  },
  {
   "cell_type": "code",
   "execution_count": null,
   "id": "c78da58c",
   "metadata": {},
   "outputs": [],
   "source": [
    "# 2. If you flip 8 coins, what is the probability of getting exactly 3 heads? What is the probability of getting \n",
    "# more than 3 heads\n",
    "heads = [\"Heads\", \"Tails\"]\n",
    "n_simulations = 10_000\n",
    "n_trials = 8\n",
    "\n",
    "flips = np.random.choice(heads, size=(n_simulations, n_trials))\n",
    "flips[0]\n",
    "\n"
   ]
  },
  {
   "cell_type": "code",
   "execution_count": null,
   "id": "38a2949a",
   "metadata": {},
   "outputs": [],
   "source": [
    "flips[0] == \"Heads\""
   ]
  },
  {
   "cell_type": "code",
   "execution_count": null,
   "id": "30e85d4d",
   "metadata": {},
   "outputs": [],
   "source": [
    "#(flips[0] == \"Heads\")\n",
    "#(flips[0] == \"Heads\").sum()"
   ]
  },
  {
   "cell_type": "code",
   "execution_count": null,
   "id": "f5057177",
   "metadata": {},
   "outputs": [],
   "source": [
    "is_heads = flips == \"Heads\"\n",
    "number_of_heads = is_heads.sum(axis=1)\n",
    "number_of_heads"
   ]
  },
  {
   "cell_type": "code",
   "execution_count": null,
   "id": "14b65476",
   "metadata": {},
   "outputs": [],
   "source": [
    "number_of_heads == 3"
   ]
  },
  {
   "cell_type": "code",
   "execution_count": null,
   "id": "da9a624f",
   "metadata": {},
   "outputs": [],
   "source": [
    "(number_of_heads == 3).mean()"
   ]
  },
  {
   "cell_type": "code",
   "execution_count": null,
   "id": "e93ca5ee",
   "metadata": {},
   "outputs": [],
   "source": [
    "x = np.array([\n",
    "    [1, 1, 1],\n",
    "    [2, 2, 2],\n",
    "    [3, 3, 3]\n",
    "])"
   ]
  },
  {
   "cell_type": "code",
   "execution_count": null,
   "id": "aec2db60",
   "metadata": {},
   "outputs": [],
   "source": [
    "x.sum()"
   ]
  },
  {
   "cell_type": "code",
   "execution_count": null,
   "id": "fb6a538d",
   "metadata": {},
   "outputs": [],
   "source": [
    "x.sum(axis=0)"
   ]
  },
  {
   "cell_type": "code",
   "execution_count": null,
   "id": "8349e12b",
   "metadata": {},
   "outputs": [],
   "source": [
    "x.sum(axis=1)"
   ]
  },
  {
   "cell_type": "code",
   "execution_count": null,
   "id": "73435f09",
   "metadata": {},
   "outputs": [],
   "source": [
    "(number_of_heads > 3).mean()"
   ]
  },
  {
   "cell_type": "code",
   "execution_count": null,
   "id": "6d1c0b01",
   "metadata": {},
   "outputs": [],
   "source": [
    "#When we flip 10 coins at once, what’s the likelihood of flipping all headsheads = [\"Heads\", \"Tails\"]\n",
    "heads = [\"Heads\", \"Tails\"]\n",
    "n_simulations = 10_000\n",
    "n_trials = 10\n",
    "\n",
    "flips = np.random.choice(heads, size=(n_simulations, n_trials))\n",
    "is_heads = flips == \"Heads\"\n",
    "number_of_heads = is_heads.sum(axis=1)\n",
    "number_of_heads\n"
   ]
  },
  {
   "cell_type": "code",
   "execution_count": null,
   "id": "2e48d66a",
   "metadata": {},
   "outputs": [],
   "source": [
    "(number_of_heads == 10).mean()"
   ]
  },
  {
   "cell_type": "code",
   "execution_count": null,
   "id": "16924267",
   "metadata": {},
   "outputs": [],
   "source": [
    "# 3. There are approximitely 3 web development cohorts for every 1 data science cohort at Codeup. Assuming \n",
    "#that Codeup randomly selects an alumni to put on a billboard, what are the odds that the two billboards I drive \n",
    "#past both have data science students on them?\n",
    "outcomes = [\"web\", \"data\"]\n",
    "n_simulations = 1000\n",
    "n_trials = 2\n",
    "size = (n_simulations, n_trials)\n",
    "cohorts = np.random.choice(outcomes, size=size, p=[0.75, 0.25])\n",
    "cohorts\n",
    "\n"
   ]
  },
  {
   "cell_type": "code",
   "execution_count": null,
   "id": "263da92c",
   "metadata": {},
   "outputs": [],
   "source": [
    "is_ds = cohorts == \"data\"\n",
    "number_of_ds = is_ds.sum(axis=1)\n",
    "number_of_ds.head()"
   ]
  },
  {
   "cell_type": "code",
   "execution_count": null,
   "id": "90e0cdfa",
   "metadata": {},
   "outputs": [],
   "source": [
    "(number_of_ds == 2).mean()"
   ]
  },
  {
   "cell_type": "code",
   "execution_count": null,
   "id": "c9eeb826",
   "metadata": {},
   "outputs": [],
   "source": [
    ".25 * .25"
   ]
  },
  {
   "cell_type": "code",
   "execution_count": null,
   "id": "d7082386",
   "metadata": {},
   "outputs": [],
   "source": [
    "# 4. Codeup students buy, on average, 3 poptart packages with a standard deviation of 1.5 a day from the snack \n",
    "# vending machine. If on monday the machine is restocked with 17 poptart packages, how likely is it that I will be \n",
    "# able to buy some poptarts on Friday afternoon? (Remember, if you have mean and standard deviation, use \n",
    "# the np.random.normal)\n",
    "\n"
   ]
  },
  {
   "cell_type": "code",
   "execution_count": null,
   "id": "0090c2c6",
   "metadata": {},
   "outputs": [],
   "source": [
    "# 5. Compare Heights\n",
    "    # Men have an average height of 178 cm and standard deviation of 8cm.\n",
    "    # Women have a mean of 170, sd = 6cm.\n",
    "    # Since you have means and standard deviations, you can use np.random.normal to generate observations.\n",
    "    # If a man and woman are chosen at random, P(woman taller than man)?\n",
    "\n"
   ]
  },
  {
   "cell_type": "code",
   "execution_count": null,
   "id": "fa272d8e",
   "metadata": {},
   "outputs": [],
   "source": [
    "# 6a. When installing anaconda on a student's computer, there's a 1 in 250 chance that the download is corrupted \n",
    "# and the installation fails. What are the odds that after having 50 students download anaconda, no one has an \n",
    "# installation issue? 100 students?\n",
    "\n"
   ]
  },
  {
   "cell_type": "code",
   "execution_count": null,
   "id": "51a547cb",
   "metadata": {},
   "outputs": [],
   "source": [
    "# 6b. What is the probability that we observe an installation issue within the first 150 students that download \n",
    "# anaconda?\n",
    "\n"
   ]
  },
  {
   "cell_type": "code",
   "execution_count": null,
   "id": "1272c283",
   "metadata": {},
   "outputs": [],
   "source": [
    "# 6c. How likely is it that 450 students all download anaconda without an issue?\n"
   ]
  },
  {
   "cell_type": "code",
   "execution_count": null,
   "id": "7e0cdf1b",
   "metadata": {},
   "outputs": [],
   "source": [
    "# 7a. There's a 70% chance on any given day that there will be at least one food truck at Travis Park. However, \n",
    "# you haven't seen a food truck there in 3 days. How unlikely is this?"
   ]
  },
  {
   "cell_type": "code",
   "execution_count": null,
   "id": "b98bbe3d",
   "metadata": {},
   "outputs": [],
   "source": [
    "# 7b. How likely is it that a food truck will show up sometime this week?"
   ]
  },
  {
   "cell_type": "code",
   "execution_count": null,
   "id": "f18a5e5f",
   "metadata": {},
   "outputs": [],
   "source": [
    "#8. If 23 people are in the same room, what are the odds that two of them share a birthday? \n",
    "# What if it's 20 people? 40?"
   ]
  }
 ],
 "metadata": {
  "kernelspec": {
   "display_name": "Python 3.8.8 64-bit ('base': conda)",
   "language": "python",
   "name": "python388jvsc74a57bd0b64057e63add2b45b1ffc7eab9b09c8889b419c878e2fdf0d08f837f0fc857a7"
  },
  "language_info": {
   "codemirror_mode": {
    "name": "ipython",
    "version": 3
   },
   "file_extension": ".py",
   "mimetype": "text/x-python",
   "name": "python",
   "nbconvert_exporter": "python",
   "pygments_lexer": "ipython3",
   "version": "3.8.8"
  }
 },
 "nbformat": 4,
 "nbformat_minor": 5
}
