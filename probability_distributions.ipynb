{
 "cells": [
  {
   "cell_type": "code",
   "execution_count": 10,
   "id": "92326969",
   "metadata": {},
   "outputs": [],
   "source": [
    "import matplotlib.pyplot as plt\n",
    "import numpy as np\n",
    "import pandas as pd\n",
    "from scipy import stats\n",
    "\n",
    "\n",
    "np.random.seed(123)"
   ]
  },
  {
   "cell_type": "code",
   "execution_count": 13,
   "id": "aaef6ce2",
   "metadata": {},
   "outputs": [
    {
     "data": {
      "text/plain": [
       "0.1353352832366127"
      ]
     },
     "execution_count": 13,
     "metadata": {},
     "output_type": "execute_result"
    }
   ],
   "source": [
    "# 1. A bank found that the average number of cars waiting during the noon hour at a drive-up window follows a \n",
    "# Poisson distribution with a mean of 2 cars. Make a chart of this distribution and answer these questions \n",
    "# concerning the probability of cars waiting at the drive-up window.\n",
    "\n",
    "    # 1a What is the probability that no cars drive up in the noon hour?\n",
    "    \n",
    "stats.poisson(2).cdf(0)\n",
    "\n",
    "plt.hist()"
   ]
  },
  {
   "cell_type": "code",
   "execution_count": 35,
   "id": "2adc867a",
   "metadata": {},
   "outputs": [
    {
     "data": {
      "text/plain": [
       "0.32332358381693654"
      ]
     },
     "execution_count": 35,
     "metadata": {},
     "output_type": "execute_result"
    }
   ],
   "source": [
    "# 1a. What is the probability that 3 or more cars come through the drive through?\n",
    "\n",
    "stats.poisson(2).sf(3-1)"
   ]
  },
  {
   "cell_type": "code",
   "execution_count": 36,
   "id": "c52047f2",
   "metadata": {},
   "outputs": [
    {
     "data": {
      "text/plain": [
       "1.0"
      ]
     },
     "execution_count": 36,
     "metadata": {},
     "output_type": "execute_result"
    }
   ],
   "source": [
    "# 1b. How likely is it that the drive through gets at least 1 car?\n",
    "\n",
    "stats.poisson(2).sf(-1)"
   ]
  },
  {
   "cell_type": "code",
   "execution_count": 29,
   "id": "884367e8",
   "metadata": {},
   "outputs": [
    {
     "name": "stdout",
     "output_type": "stream",
     "text": [
      "3\n"
     ]
    }
   ],
   "source": [
    "# 2. Grades of State University graduates are normally distributed with a mean of 3.0 and a standard deviation of \n",
    "# .3. Calculate the following:\n",
    "\n",
    "    # 2a. What grade point average is required to be in the top 5% of the graduating class?\n",
    "    \n",
    "stats.norm.mean(3, .3)"
   ]
  },
  {
   "cell_type": "code",
   "execution_count": 34,
   "id": "18551fbd",
   "metadata": {},
   "outputs": [
    {
     "name": "stdout",
     "output_type": "stream",
     "text": [
      "3\n"
     ]
    }
   ],
   "source": [
    "# 2b. What GPA constitutes the bottom 15% of the class?\n",
    "point = stats.norm(3, .03)\n",
    "top_5_percent = point.ppf(.85)\n",
    "print('{:,.0f}'.format(top_5_percent))   "
   ]
  },
  {
   "cell_type": "code",
   "execution_count": null,
   "id": "18524107",
   "metadata": {},
   "outputs": [],
   "source": [
    "# 2c. An eccentric alumnus left scholarship money for students in the third decile from the bottom of their class.\n",
    " #Determine the range of the third decile. Would a student with a 2.8 grade point average qualify for this \n",
    "    # scholarship?\n",
    "    "
   ]
  },
  {
   "cell_type": "code",
   "execution_count": null,
   "id": "a4ebe16e",
   "metadata": {},
   "outputs": [],
   "source": [
    "# 2d. If I have a GPA of 3.5, what percentile am I in?"
   ]
  },
  {
   "cell_type": "code",
   "execution_count": null,
   "id": "6d623303",
   "metadata": {},
   "outputs": [],
   "source": [
    "# 3. A marketing website has an average click-through rate of 2%. One day they observe 4326 visitors and 97 \n",
    "# click-throughs. How likely is it that this many people or more click through?"
   ]
  },
  {
   "cell_type": "code",
   "execution_count": null,
   "id": "6f38d5d9",
   "metadata": {},
   "outputs": [],
   "source": [
    "# 4. You are working on some statistics homework consisting of 100 questions where all of the answers are a \n",
    "# probability rounded to the hundreths place. Looking to save time, you put down random probabilities as the \n",
    "# answer to each question.\n",
    "# What is the probability that at least one of your first 60 answers is correct?\n",
    "\n"
   ]
  },
  {
   "cell_type": "code",
   "execution_count": null,
   "id": "c2f0ef46",
   "metadata": {},
   "outputs": [],
   "source": [
    "# 5. The codeup staff tends to get upset when the student break area is not cleaned up. Suppose that there's \n",
    "# a 3% chance that any one student cleans the break area when they visit it, and, on any given day, about 90% of \n",
    "# the 3 active cohorts of 22 students visit the break area. How likely is it that the break area gets cleaned up \n",
    "# each day? How likely is it that it goes two days without getting cleaned up? All week?"
   ]
  },
  {
   "cell_type": "code",
   "execution_count": null,
   "id": "a20de704",
   "metadata": {},
   "outputs": [],
   "source": [
    "# 6. You want to get lunch at La Panaderia, but notice that the line is usually very long at lunchtime. After \n",
    "# several weeks of careful observation, you notice that the average number of people in line when your lunch break \n",
    "# starts is normally distributed with a mean of 15 and standard deviation of 3. If it takes 2 minutes for each \n",
    "# person to order, and 10 minutes from ordering to getting your food, what is the likelihood that you have at least\n",
    "# 15 minutes left to eat your food before you have to go back to class? Assume you have one hour for lunch, and \n",
    "# ignore travel time to and from La Panaderia.\n",
    "\n"
   ]
  },
  {
   "cell_type": "code",
   "execution_count": null,
   "id": "c43d7b8d",
   "metadata": {},
   "outputs": [],
   "source": [
    "# 8. Connect to the employees database and find the average salary of current employees, along with the standard \n",
    "deviation. For the following questions, calculate the answer based on modeling the employees salaries with a normal distribution defined by the calculated mean and standard deviation then compare this answer to the actual values present in the salaries dataset.\n",
    "\n",
    "    #What percent of employees earn less than 60,000?\n",
    "    #What percent of employees earn more than 95,000?\n",
    "    #What percent of employees earn between 65,000 and 80,000?\n",
    "    #What do the top 5% of employees make?\n",
    "\n"
   ]
  }
 ],
 "metadata": {
  "kernelspec": {
   "display_name": "Python 3.8.8 64-bit ('base': conda)",
   "language": "python",
   "name": "python388jvsc74a57bd0b64057e63add2b45b1ffc7eab9b09c8889b419c878e2fdf0d08f837f0fc857a7"
  },
  "language_info": {
   "codemirror_mode": {
    "name": "ipython",
    "version": 3
   },
   "file_extension": ".py",
   "mimetype": "text/x-python",
   "name": "python",
   "nbconvert_exporter": "python",
   "pygments_lexer": "ipython3",
   "version": "3.8.8"
  }
 },
 "nbformat": 4,
 "nbformat_minor": 5
}
