{
 "cells": [
  {
   "cell_type": "code",
   "execution_count": 1,
   "id": "1a4aa4ec",
   "metadata": {},
   "outputs": [],
   "source": [
    "import numpy as np\n",
    "import pandas as pd\n",
    "import random\n",
    "\n",
    "from scipy import stats\n",
    "from math import e, factorial\n",
    "from env import user, host, password\n",
    "\n",
    "import matplotlib.pyplot as plt"
   ]
  },
  {
   "cell_type": "code",
   "execution_count": 2,
   "id": "a32ffc29",
   "metadata": {},
   "outputs": [
    {
     "data": {
      "image/png": "[encoded data removed]",
      "text/plain": [
       "<Figure size 432x288 with 1 Axes>"
      ]
     },
     "metadata": {
      "needs_background": "light"
     },
     "output_type": "display_data"
    }
   ],
   "source": [
    "# 1. A bank found that the average number of cars waiting during the noon hour at a drive-up window follows a \n",
    "# Poisson distribution with a mean of 2 cars. Make a chart of this distribution and answer these questions \n",
    "# concerning the probability of cars waiting at the drive-up window.\n",
    "\n",
    "    # 1a What is the probability that no cars drive up in the noon hour?\n",
    "    \n",
    "mean = 2\n",
    "\n",
    "X = [r for r in range(7)]\n",
    "\n",
    "y = [((e**-mean) * (mean**x)) / (factorial(x)) for x in X]\n",
    "\n",
    "plt.bar(X,y)\n",
    "plt.title(\"Likelyhood of N number of cars appearing at this Bank's drive-up window at Noon\")\n",
    "plt.show()"
   ]
  },
  {
   "cell_type": "code",
   "execution_count": 3,
   "id": "955de864",
   "metadata": {},
   "outputs": [
    {
     "data": {
      "text/plain": [
       "0.1353352832366127"
      ]
     },
     "execution_count": 3,
     "metadata": {},
     "output_type": "execute_result"
    }
   ],
   "source": [
    "\n",
    "mean = 2\n",
    "target = 0\n",
    "stats.poisson(mean).pmf(target)\n"
   ]
  },
  {
   "cell_type": "code",
   "execution_count": 4,
   "id": "a4169d05",
   "metadata": {},
   "outputs": [
    {
     "name": "stdout",
     "output_type": "stream",
     "text": [
      "the odds of seeing 0 cars at the bank at noon are 14%\n"
     ]
    }
   ],
   "source": [
    "# 1a What is the probability that no cars drive up in the noon hour?simulation\n",
    "nrows = 100_000 # set nrows to number of simulations\n",
    "ncols = 1       # set ncolumns to number of dice rolled in each simulation\n",
    "\n",
    "# create an nrows by ncols dataframe for the simulation\n",
    "rolls = np.random.poisson(mean, nrows * ncols).reshape(nrows, ncols) \n",
    "\n",
    "df = pd.DataFrame(rolls)\n",
    "df['zero_cars'] = df[0] == target\n",
    "no_cars = int(round(df.zero_cars.mean(),2) * 100)\n",
    "\n",
    "print(f\"the odds of seeing {target} cars at the bank at noon are {no_cars}%\")"
   ]
  },
  {
   "cell_type": "code",
   "execution_count": 5,
   "id": "8b2fea6e",
   "metadata": {},
   "outputs": [
    {
     "data": {
      "text/plain": [
       "0.32332358381693654"
      ]
     },
     "execution_count": 5,
     "metadata": {},
     "output_type": "execute_result"
    }
   ],
   "source": [
    "# 1b. What is the probability that 3 or more cars come through the drive through?\n",
    "\n",
    "stats.poisson(2).sf(3-1)"
   ]
  },
  {
   "cell_type": "code",
   "execution_count": 6,
   "id": "f4523fcf",
   "metadata": {},
   "outputs": [
    {
     "name": "stdout",
     "output_type": "stream",
     "text": [
      "the odds of seeing 3 cars at the bank at noon are 32%\n"
     ]
    }
   ],
   "source": [
    "# 1a. simulation\n",
    "mean = 2\n",
    "target = 3\n",
    "nrows = 100_000 # set nrows to number of simulations\n",
    "ncols = 1       # set ncolumns to number of dice rolled in each simulation\n",
    "\n",
    "# create an nrows by ncols dataframe for the simulation\n",
    "rolls = np.random.poisson(mean, nrows * ncols).reshape(nrows, ncols) \n",
    "\n",
    "df = pd.DataFrame(rolls)\n",
    "df.head()\n",
    "\n",
    "# add calculation columns\n",
    "df['zero_cars'] = df[0] >= target\n",
    "df.head()\n",
    "no_cars = int(round(df.zero_cars.mean(),2) * 100)\n",
    "\n",
    "print(f\"the odds of seeing {target} cars at the bank at noon are {no_cars}%\")"
   ]
  },
  {
   "cell_type": "code",
   "execution_count": 7,
   "id": "8a63b9e2",
   "metadata": {},
   "outputs": [
    {
     "data": {
      "text/plain": [
       "0.8646647167633873"
      ]
     },
     "execution_count": 7,
     "metadata": {},
     "output_type": "execute_result"
    }
   ],
   "source": [
    "# 1b. How likely is it that the drive through gets at least 1 car?\n",
    "mean = 2\n",
    "target = 1\n",
    "stats.poisson(mean).sf(target-1)"
   ]
  },
  {
   "cell_type": "code",
   "execution_count": 8,
   "id": "bd6831d4",
   "metadata": {},
   "outputs": [
    {
     "name": "stdout",
     "output_type": "stream",
     "text": [
      "the odds of seeing 1 cars at the bank at noon are 86%\n"
     ]
    }
   ],
   "source": [
    "#1b. Simulation\n",
    "\n",
    "nrows = 100_000 # set nrows to number of simulations\n",
    "ncols = 1       # set ncolumns to number of dice rolled in each simulation\n",
    "\n",
    "# create an nrows by ncols dataframe for the simulation\n",
    "rolls = np.random.poisson(mean, nrows * ncols).reshape(nrows, ncols) \n",
    "\n",
    "df = pd.DataFrame(rolls)\n",
    "df.head()\n",
    "\n",
    "# add calculation columns\n",
    "df['zero_cars'] = df[0] >= target\n",
    "\n",
    "# get mean of True / False columns \n",
    "# format and print results\n",
    "no_cars = int(round(df.zero_cars.mean(),2) * 100)\n",
    "\n",
    "print(f\"the odds of seeing {target} cars at the bank at noon are {no_cars}%\")"
   ]
  },
  {
   "cell_type": "code",
   "execution_count": 9,
   "id": "9f06810a",
   "metadata": {},
   "outputs": [
    {
     "data": {
      "text/plain": [
       "3.4934560880854417"
      ]
     },
     "execution_count": 9,
     "metadata": {},
     "output_type": "execute_result"
    }
   ],
   "source": [
    "# 2. Grades of State University graduates are normally distributed with a mean of 3.0 and a standard deviation of \n",
    "# .3. Calculate the following:\n",
    "\n",
    "    # 2a. What grade point average is required to be in the top 5% of the graduating class?\n",
    " \n",
    "mean = 3\n",
    "sd = .3\n",
    "\n",
    "stats.norm(mean, sd).ppf(.95)"
   ]
  },
  {
   "cell_type": "code",
   "execution_count": 10,
   "id": "cddc350f",
   "metadata": {},
   "outputs": [
    {
     "data": {
      "text/plain": [
       "3.4934560880854417"
      ]
     },
     "execution_count": 10,
     "metadata": {},
     "output_type": "execute_result"
    }
   ],
   "source": [
    "stats.norm(mean, sd).isf(.05)"
   ]
  },
  {
   "cell_type": "code",
   "execution_count": 11,
   "id": "17aa90e5",
   "metadata": {},
   "outputs": [
    {
     "data": {
      "text/plain": [
       "3.4947767049468754"
      ]
     },
     "execution_count": 11,
     "metadata": {},
     "output_type": "execute_result"
    }
   ],
   "source": [
    "#2a simulation\n",
    "\n",
    "nrows = 100_000 # set nrows to number of simulations\n",
    "ncols = 1       # set ncolumns to number of dice rolled in each simulation\n",
    "\n",
    "# create an nrows by ncols dataframe for the simulation\n",
    "rolls = np.random.normal(mean, sd, nrows * ncols).reshape(nrows, ncols) \n",
    "\n",
    "df = pd.DataFrame(rolls)\n",
    "\n",
    "# add calculation columns\n",
    "df['rank'] = pd.qcut(df[0], q=20, labels=False)\n",
    "df = df[df['rank'] == 19]\n",
    "df[0].min()"
   ]
  },
  {
   "cell_type": "code",
   "execution_count": 12,
   "id": "296f04ce",
   "metadata": {},
   "outputs": [
    {
     "data": {
      "text/plain": [
       "2.689069983151863"
      ]
     },
     "execution_count": 12,
     "metadata": {},
     "output_type": "execute_result"
    }
   ],
   "source": [
    "# 2b. What GPA constitutes the bottom 15% of the class?\n",
    "\n",
    "stats.norm(mean, sd).ppf(.15)\n",
    "\n",
    "#point = stats.norm(3, .03)\n",
    "#top_5_percent = point.ppf(.85)\n",
    "#print('{:,.0f}'.format(top_5_percent))   "
   ]
  },
  {
   "cell_type": "code",
   "execution_count": 13,
   "id": "6ce0304c",
   "metadata": {},
   "outputs": [
    {
     "data": {
      "text/plain": [
       "2.688430579224189"
      ]
     },
     "execution_count": 13,
     "metadata": {},
     "output_type": "execute_result"
    }
   ],
   "source": [
    "# 2b. Simulation\n",
    "\n",
    "nrows = 100_000 # set nrows to number of simulations\n",
    "ncols = 1       # set ncolumns to number of dice rolled in each simulation\n",
    "\n",
    "# create an nrows by ncols dataframe for the simulation\n",
    "rolls = np.random.normal(mean, sd, nrows * ncols).reshape(nrows, ncols) \n",
    "\n",
    "df = pd.DataFrame(rolls)\n",
    "\n",
    "# add calculation columns\n",
    "df['rank'] = pd.qcut(df[0], q=20, labels=False)\n",
    "\n",
    "df = df[df['rank'] == 2]\n",
    "\n",
    "df[0].max()"
   ]
  },
  {
   "cell_type": "code",
   "execution_count": 14,
   "id": "68b784a7",
   "metadata": {},
   "outputs": [],
   "source": [
    "# 2c. An eccentric alumnus left scholarship money for students in the third decile from the bottom of their class.\n",
    " #Determine the range of the third decile. \n",
    "\n",
    "# .2 to .3 Third decile \n",
    "# .1 to .2\n",
    "# .0 to .1    "
   ]
  },
  {
   "cell_type": "code",
   "execution_count": 15,
   "id": "907d4cb8",
   "metadata": {},
   "outputs": [
    {
     "data": {
      "text/plain": [
       "2.7475136299281258"
      ]
     },
     "execution_count": 15,
     "metadata": {},
     "output_type": "execute_result"
    }
   ],
   "source": [
    "# 2c.\n",
    "\n",
    "start = stats.norm(mean, sd).ppf(.20)\n",
    "start"
   ]
  },
  {
   "cell_type": "code",
   "execution_count": 16,
   "id": "a35e769e",
   "metadata": {},
   "outputs": [
    {
     "data": {
      "text/plain": [
       "2.842679846187588"
      ]
     },
     "execution_count": 16,
     "metadata": {},
     "output_type": "execute_result"
    }
   ],
   "source": [
    "end = stats.norm(mean, sd).ppf(.30)\n",
    "end"
   ]
  },
  {
   "cell_type": "code",
   "execution_count": 17,
   "id": "badeff5a",
   "metadata": {},
   "outputs": [
    {
     "name": "stdout",
     "output_type": "stream",
     "text": [
      "The range of the third decile is from 2.75 to 2.84.\n"
     ]
    }
   ],
   "source": [
    "print(f\"The range of the third decile is from {round(start,2)} to {round(end,2)}.\")"
   ]
  },
  {
   "cell_type": "code",
   "execution_count": 18,
   "id": "bc77aeea",
   "metadata": {},
   "outputs": [
    {
     "data": {
      "text/plain": [
       "2.7481149581089968"
      ]
     },
     "execution_count": 18,
     "metadata": {},
     "output_type": "execute_result"
    }
   ],
   "source": [
    "# 2c. Simulation\n",
    "nrows = 100_000 # set nrows to number of simulations\n",
    "ncols = 1       # set ncolumns to number of dice rolled in each simulation\n",
    "\n",
    "# create an nrows by ncols dataframe for the simulation\n",
    "rolls = np.random.normal(mean, sd, nrows * ncols).reshape(nrows, ncols) \n",
    "\n",
    "df = pd.DataFrame(rolls)\n",
    "\n",
    "# add calculation columns\n",
    "df['rank'] = pd.qcut(df[0], q=10, labels=False)\n",
    "\n",
    "df = df[df['rank'] == 2]\n",
    "\n",
    "df[0].min()"
   ]
  },
  {
   "cell_type": "code",
   "execution_count": 19,
   "id": "ab3d9a03",
   "metadata": {},
   "outputs": [
    {
     "data": {
      "text/plain": [
       "2.8428093381952384"
      ]
     },
     "execution_count": 19,
     "metadata": {},
     "output_type": "execute_result"
    }
   ],
   "source": [
    "df[0].max()\n"
   ]
  },
  {
   "cell_type": "code",
   "execution_count": 20,
   "id": "49a298da",
   "metadata": {},
   "outputs": [
    {
     "ename": "NameError",
     "evalue": "name 'Yes' is not defined",
     "output_type": "error",
     "traceback": [
      "\u001b[0;31m---------------------------------------------------------------------------\u001b[0m",
      "\u001b[0;31mNameError\u001b[0m                                 Traceback (most recent call last)",
      "\u001b[0;32m<ipython-input-20-b68426ec6d37>\u001b[0m in \u001b[0;36m<module>\u001b[0;34m\u001b[0m\n\u001b[1;32m      1\u001b[0m \u001b[0;31m# 2d. Would a student with a 2.8 grade point average qualify for this scholarship?\u001b[0m\u001b[0;34m\u001b[0m\u001b[0;34m\u001b[0m\u001b[0;34m\u001b[0m\u001b[0m\n\u001b[0;32m----> 2\u001b[0;31m \u001b[0mYes\u001b[0m\u001b[0;34m\u001b[0m\u001b[0;34m\u001b[0m\u001b[0m\n\u001b[0m",
      "\u001b[0;31mNameError\u001b[0m: name 'Yes' is not defined"
     ]
    }
   ],
   "source": [
    "# 2d. Would a student with a 2.8 grade point average qualify for this scholarship?\n",
    "Yes"
   ]
  },
  {
   "cell_type": "code",
   "execution_count": null,
   "id": "cb99367d",
   "metadata": {},
   "outputs": [],
   "source": [
    "# 2e. If I have a GPA of 3.5, what percentile am I in?\n",
    "stats.norm(mean, sd).cdf(3.5)"
   ]
  },
  {
   "cell_type": "code",
   "execution_count": null,
   "id": "8d19237f",
   "metadata": {},
   "outputs": [],
   "source": [
    "percentile = int(round(stats.norm(mean, sd).cdf(3.5),2) * 100)\n",
    "\n",
    "print(f\"You are in the {percentile}th percentile!\")"
   ]
  },
  {
   "cell_type": "code",
   "execution_count": null,
   "id": "c882f617",
   "metadata": {},
   "outputs": [],
   "source": [
    "# 2e. Simulation\n",
    "\n",
    "nrows = 100_000 # set nrows to number of simulations\n",
    "ncols = 1       # set ncolumns to number of dice rolled in each simulation\n",
    "\n",
    "# create an nrows by ncols dataframe for the simulation\n",
    "rolls = np.random.normal(mean, sd, nrows * ncols).reshape(nrows, ncols) \n",
    "\n",
    "df = pd.DataFrame(rolls)\n",
    "\n",
    "# amount of data over with scores > 3.5 divided by all the data \n",
    "len(df[df[0] < 3.5]) / len(df)"
   ]
  },
  {
   "cell_type": "code",
   "execution_count": null,
   "id": "5488eef7",
   "metadata": {},
   "outputs": [],
   "source": [
    "# 3. A marketing website has an average click-through rate of 2%. One day they observe 4326 visitors and 97 \n",
    "# click-throughs. How likely is it that this many people or more click through?\n",
    "\n",
    "prob_success = .02\n",
    "n_trials = 4326\n",
    "\n",
    "target_successes = 97\n",
    "\n",
    "stats.binom(n_trials, prob_success).sf(target_successes-1)"
   ]
  },
  {
   "cell_type": "code",
   "execution_count": null,
   "id": "96181053",
   "metadata": {},
   "outputs": [],
   "source": [
    "# 3. Simulation\n",
    "nrows = 100_000 # set nrows to number of simulations\n",
    "ncols = 1    # set ncolumns to number of dice rolled in each simulation\n",
    "\n",
    "# create an nrows by ncols dataframe for the simulation\n",
    "rolls = np.random.binomial(n_trials, prob_success, nrows * ncols).reshape(nrows, ncols) \n",
    "\n",
    "df = pd.DataFrame(rolls)\n",
    "\n",
    "# add calculated columns\n",
    "df['97ish'] = df[0] >= 97\n",
    "df.head()"
   ]
  },
  {
   "cell_type": "code",
   "execution_count": null,
   "id": "4a82172a",
   "metadata": {},
   "outputs": [],
   "source": [
    "# get the mean of the True / False column\n",
    "df['97ish'].mean()"
   ]
  },
  {
   "cell_type": "code",
   "execution_count": null,
   "id": "83632ead",
   "metadata": {},
   "outputs": [],
   "source": [
    "# 4. You are working on some statistics homework consisting of 100 questions where all of the answers are a \n",
    "# probability rounded to the hundreths place. Looking to save time, you put down random probabilities as the \n",
    "# answer to each question.\n",
    "# What is the probability that at least one of your first 60 answers is correct?\n",
    "\n",
    "prob_success = .01\n",
    "n_trials = 60\n",
    "desired_successes = 1\n",
    "\n",
    "stats.binom(n_trials, prob_success).sf(desired_successes-1)"
   ]
  },
  {
   "cell_type": "code",
   "execution_count": null,
   "id": "3e7127d0",
   "metadata": {},
   "outputs": [],
   "source": [
    "# 4. Simulation\n",
    "\n",
    "nrows = 100_000 # set nrows to number of simulations\n",
    "ncols = 60    # set ncolumns to number of dice rolled in each simulation\n",
    "\n",
    "# create an array with nrows by ncols dataframe for the simulation\n",
    "rolls = np.random.choice([True, False], nrows * ncols, p=[.01,.99]).reshape(nrows, ncols) \n",
    "\n",
    "# convert to data frame\n",
    "df = pd.DataFrame(rolls)\n",
    "\n",
    "df[\"correct\"] = df.sum(axis=1) > 0\n",
    "df[\"correct\"].mean()"
   ]
  },
  {
   "cell_type": "code",
   "execution_count": null,
   "id": "e070e580",
   "metadata": {},
   "outputs": [],
   "source": [
    "# 5. The codeup staff tends to get upset when the student break area is not cleaned up. Suppose that there's \n",
    "# a 3% chance that any one student cleans the break area when they visit it, and, on any given day, about 90% of \n",
    "# the 3 active cohorts of 22 students visit the break area. How likely is it that the break area gets cleaned up \n",
    "# each day? \n",
    "\n",
    "#How likely is it that the break area gets cleaned up each day?\n",
    "\n",
    "prob_success = .03\n",
    "n_trials = (22 * 3) * .9\n",
    "\n",
    "desired_successes = 1\n",
    "\n",
    "stats.binom(n_trials, prob_success).sf(desired_successes-1)"
   ]
  },
  {
   "cell_type": "code",
   "execution_count": null,
   "id": "b33ad693",
   "metadata": {},
   "outputs": [],
   "source": [
    "# 5. Simulation\n",
    "\n",
    "\n",
    "\n",
    "nrows = 100_000 # set nrows to number of simulations\n",
    "ncols = 1    # set ncolumns to number of dice rolled in each simulation\n",
    "\n",
    "# create an array with nrows by ncols dataframe for the simulation\n",
    "rolls = np.random.binomial(n_trials, prob_success, nrows * ncols).reshape(nrows, ncols) \n",
    "\n",
    "# convert to data frame\n",
    "df = pd.DataFrame(rolls)\n",
    "\n",
    "df[\"Clean\"] = df.sum(axis=1) > 0\n",
    "df[\"Clean\"].mean()"
   ]
  },
  {
   "cell_type": "code",
   "execution_count": null,
   "id": "f5983a9a",
   "metadata": {},
   "outputs": [],
   "source": [
    "#5b. How likely is it that it goes two days without getting cleaned up? All week?\n",
    "\n",
    "# one day without cleaning\n",
    "\n",
    "1-stats.binom(n_trials, prob_success).sf(desired_successes-1)"
   ]
  },
  {
   "cell_type": "code",
   "execution_count": null,
   "id": "17c9a549",
   "metadata": {},
   "outputs": [],
   "source": [
    "# odds of not being cleaned for two days in a row\n",
    "\n",
    "(1-stats.binom(n_trials, prob_success).sf(desired_successes-1))**2"
   ]
  },
  {
   "cell_type": "code",
   "execution_count": null,
   "id": "9df61191",
   "metadata": {},
   "outputs": [],
   "source": [
    "#5b. Simulation\n",
    "\n",
    "nrows = 100_000 # set nrows to number of simulations\n",
    "ncols = 2    # set ncolumns to number of dice rolled in each simulation\n",
    "\n",
    "# create an array with nrows by ncols dataframe for the simulation\n",
    "rolls = np.random.binomial(n_trials, prob_success, nrows * ncols).reshape(nrows, ncols) \n",
    "\n",
    "# convert to data frame\n",
    "df = pd.DataFrame(rolls)\n",
    "\n",
    "df[\"dirty\"] = df.sum(axis=1) == 0\n",
    "df[\"dirty\"].mean()"
   ]
  },
  {
   "cell_type": "code",
   "execution_count": null,
   "id": "1556436c",
   "metadata": {},
   "outputs": [],
   "source": [
    "#5c. All week\n",
    "\n",
    "(1-stats.binom(n_trials, prob_success).sf(desired_successes-1))**5"
   ]
  },
  {
   "cell_type": "code",
   "execution_count": null,
   "id": "aee920eb",
   "metadata": {},
   "outputs": [],
   "source": [
    "#5c All week - simulation\n",
    "\n",
    "nrows = 100_000 # set nrows to number of simulations\n",
    "ncols = 5    # set ncolumns to number of dice rolled in each simulation\n",
    "\n",
    "# create an array with nrows by ncols dataframe for the simulation\n",
    "rolls = np.random.binomial(n_trials, prob_success, nrows * ncols).reshape(nrows, ncols) \n",
    "\n",
    "# convert to data frame\n",
    "df = pd.DataFrame(rolls)\n",
    "\n",
    "df[\"dirty\"] = df.sum(axis=1) == 0\n",
    "df[\"dirty\"].mean()"
   ]
  },
  {
   "cell_type": "code",
   "execution_count": null,
   "id": "f5d8dc76",
   "metadata": {},
   "outputs": [],
   "source": [
    "# 6. You want to get lunch at La Panaderia, but notice that the line is usually very long at lunchtime. After \n",
    "# several weeks of careful observation, you notice that the average number of people in line when your lunch break \n",
    "# starts is normally distributed with a mean of 15 and standard deviation of 3. If it takes 2 minutes for each \n",
    "# person to order, and 10 minutes from ordering to getting your food, what is the likelihood that you have at least\n",
    "# 15 minutes left to eat your food before you have to go back to class? Assume you have one hour for lunch, and \n",
    "# ignore travel time to and from La Panaderia.\n",
    "\n",
    "# get information from the problem\n",
    "# normal distribution\n",
    "mean_customers_in_line = 15\n",
    "sd_customers_in_line = 3\n",
    "\n",
    "time_per_order = 2\n",
    "\n",
    "time_to_get_food = 10\n",
    "time_to_eat_food = 15\n",
    "\n",
    "total_time = 60"
   ]
  },
  {
   "cell_type": "code",
   "execution_count": null,
   "id": "e338ab26",
   "metadata": {},
   "outputs": [],
   "source": [
    "# get time I can spend in line\n",
    "max_time_in_line = total_time - time_to_get_food - time_to_eat_food\n",
    "max_time_in_line"
   ]
  },
  {
   "cell_type": "code",
   "execution_count": null,
   "id": "4b230599",
   "metadata": {},
   "outputs": [],
   "source": [
    "# calculate total number of customers I can wait for in that time\n",
    "max_customers_in_line = max_time_in_line / time_per_order\n",
    "max_customers_in_line"
   ]
  },
  {
   "cell_type": "code",
   "execution_count": null,
   "id": "fc3ab5dc",
   "metadata": {},
   "outputs": [],
   "source": [
    "# get odds of max_customers_in_line or less customers\n",
    "stats.norm(mean_customers_in_line, sd_customers_in_line).cdf(max_customers_in_line)"
   ]
  },
  {
   "cell_type": "code",
   "execution_count": null,
   "id": "de55980b",
   "metadata": {},
   "outputs": [],
   "source": [
    "#6. Simulation\n",
    "nrows = 100_000 # set nrows to number of simulations\n",
    "ncols = 1       # set ncolumns to number of dice rolled in each simulation\n",
    "\n",
    "# create an array with nrows by ncols dataframe for the simulation\n",
    "rolls = np.random.normal(mean_customers_in_line, sd_customers_in_line, nrows * ncols).reshape(nrows, ncols) \n",
    "\n",
    "# convert to data frame\n",
    "df = pd.DataFrame(rolls)\n",
    "\n",
    "df[\"can_wait\"] = df.sum(axis=1) <= 17.5\n",
    "df.head()"
   ]
  },
  {
   "cell_type": "code",
   "execution_count": null,
   "id": "c051649b",
   "metadata": {},
   "outputs": [],
   "source": [
    "df[\"can_wait\"].mean()"
   ]
  },
  {
   "cell_type": "code",
   "execution_count": null,
   "id": "7d3c4fdd",
   "metadata": {},
   "outputs": [],
   "source": [
    "# 8. Connect to the employees database and find the average salary of current employees, along with the standard \n",
    "# deviation. For the following questions, calculate the answer based on modeling the employees salaries with a \n",
    "# normal distribution defined by the calculated mean and standard deviation then compare this answer to the actual \n",
    "# values present in the salaries dataset.\n",
    "\n",
    "    #What percent of employees earn less than 60,000?\n",
    "    #What percent of employees earn more than 95,000?\n",
    "    #What percent of employees earn between 65,000 and 80,000?\n",
    "    #What do the top 5% of employees make?\n",
    "\n",
    "def get_data_from_sql(user, host, password, database, query):\n",
    "    '''\n",
    "    take in user, host, password, \n",
    "    database and query\n",
    "    Access sql database\n",
    "    return a pandas dataframe of the query results   \n",
    "    '''\n",
    "    \n",
    "    url = f'mysql+pymysql://{user}:{password}@{host}/{database}'\n",
    "        \n",
    "    return pd.read_sql(query, url)"
   ]
  },
  {
   "cell_type": "code",
   "execution_count": null,
   "id": "97224ad2",
   "metadata": {},
   "outputs": [],
   "source": [
    "database = 'employees'\n",
    "\n",
    "query = \"\"\"\n",
    "\n",
    "SELECT salary\n",
    "FROM salaries\n",
    "\n",
    "where salaries.to_date = \"9999-01-01\"\n",
    "\n",
    "\"\"\"\n",
    "\n",
    "df = get_data_from_sql(user, host, password, database, query)"
   ]
  },
  {
   "cell_type": "code",
   "execution_count": null,
   "id": "7d538604",
   "metadata": {},
   "outputs": [],
   "source": [
    "df.head()"
   ]
  },
  {
   "cell_type": "code",
   "execution_count": null,
   "id": "8f4643f2",
   "metadata": {},
   "outputs": [],
   "source": [
    "df.salary.hist(bins=20)\n",
    "plt.title(\"The Distribution of Employee Salaries is Actually Pretty Normal\")\n",
    "plt.show()"
   ]
  },
  {
   "cell_type": "code",
   "execution_count": null,
   "id": "63dbd1be",
   "metadata": {},
   "outputs": [],
   "source": [
    "df.describe()"
   ]
  },
  {
   "cell_type": "code",
   "execution_count": null,
   "id": "6dfc2f74",
   "metadata": {},
   "outputs": [],
   "source": [
    "# Average Salary\n",
    "mean_salary = round(df.salary.mean(),0)\n",
    "mean_salary"
   ]
  },
  {
   "cell_type": "code",
   "execution_count": null,
   "id": "98f9c0af",
   "metadata": {},
   "outputs": [],
   "source": [
    "# Standard Deviation\n",
    "sd_salary = round(df.salary.agg(np.std),0)\n",
    "sd_salary"
   ]
  },
  {
   "cell_type": "code",
   "execution_count": null,
   "id": "126784ed",
   "metadata": {},
   "outputs": [],
   "source": [
    "# a) What percent of employees earn less than 60,000?\n",
    "stats.norm(mean_salary, sd_salary).cdf(60_000)"
   ]
  },
  {
   "cell_type": "code",
   "execution_count": null,
   "id": "e5d055d7",
   "metadata": {},
   "outputs": [],
   "source": [
    "# b) What percent of employees earn more than 95,000?\n",
    "stats.norm(mean_salary, sd_salary).sf(95_000)"
   ]
  },
  {
   "cell_type": "code",
   "execution_count": null,
   "id": "5ccb1aea",
   "metadata": {},
   "outputs": [],
   "source": [
    "len(df[df.salary > 95_000]) / len(df)"
   ]
  },
  {
   "cell_type": "code",
   "execution_count": null,
   "id": "8ce19687",
   "metadata": {},
   "outputs": [],
   "source": [
    "# c) What percent of employees earn between 65,000 and 80,000?\n",
    "# percent of employees making 65,000 or more\n",
    "\n",
    "stats.norm(mean_salary, sd_salary).cdf(65_000)"
   ]
  },
  {
   "cell_type": "code",
   "execution_count": null,
   "id": "4be7d3f4",
   "metadata": {},
   "outputs": [],
   "source": [
    "# percent of employees making 80,000 or less\n",
    "stats.norm(mean_salary, sd_salary).cdf(80_000)"
   ]
  },
  {
   "cell_type": "code",
   "execution_count": null,
   "id": "0a1eac12",
   "metadata": {},
   "outputs": [],
   "source": [
    "# subtract the percent of employees making 65,000 from the percent of employees making 80,000 or less\n",
    "# to get the percent of people making between 65,000 and 80,000\n",
    "stats.norm(mean_salary, sd_salary).cdf(80_000) - stats.norm(mean_salary, sd_salary).cdf(65_000)"
   ]
  },
  {
   "cell_type": "code",
   "execution_count": null,
   "id": "f2ea8dc0",
   "metadata": {},
   "outputs": [],
   "source": [
    "# 8. Simulation\n",
    "len(df[df.salary < 65_000]) / len(df)"
   ]
  },
  {
   "cell_type": "code",
   "execution_count": null,
   "id": "14a66607",
   "metadata": {},
   "outputs": [],
   "source": [
    "len(df[df.salary < 80_000]) / len(df)\n"
   ]
  },
  {
   "cell_type": "code",
   "execution_count": null,
   "id": "0b6171ed",
   "metadata": {},
   "outputs": [],
   "source": [
    "(len(df[df.salary < 80_000]) / len(df)) - (len(df[df.salary < 65_000]) / len(df))"
   ]
  },
  {
   "cell_type": "code",
   "execution_count": null,
   "id": "a401457a",
   "metadata": {},
   "outputs": [],
   "source": [
    "# d) What do the top 5% of employees make?\n",
    "stats.norm(mean_salary, sd_salary).isf(.05)"
   ]
  },
  {
   "cell_type": "code",
   "execution_count": null,
   "id": "38c5811d",
   "metadata": {},
   "outputs": [],
   "source": [
    "# d) What do the top 5% of employees make?\n",
    "# add calculation columns\n",
    "df['rank'] = pd.qcut(df['salary'], q=20, labels=False)\n",
    "\n",
    "df = df[df['rank'] == 19]\n",
    "df.head()"
   ]
  },
  {
   "cell_type": "code",
   "execution_count": null,
   "id": "4454e61b",
   "metadata": {},
   "outputs": [],
   "source": [
    "df['salary'].min()"
   ]
  },
  {
   "cell_type": "code",
   "execution_count": null,
   "id": "4a92b202",
   "metadata": {},
   "outputs": [],
   "source": []
  }
 ],
 "metadata": {
  "kernelspec": {
   "display_name": "Python 3.8.8 64-bit ('base': conda)",
   "language": "python",
   "name": "python388jvsc74a57bd0b64057e63add2b45b1ffc7eab9b09c8889b419c878e2fdf0d08f837f0fc857a7"
  },
  "language_info": {
   "codemirror_mode": {
    "name": "ipython",
    "version": 3
   },
   "file_extension": ".py",
   "mimetype": "text/x-python",
   "name": "python",
   "nbconvert_exporter": "python",
   "pygments_lexer": "ipython3",
   "version": "3.8.8"
  }
 },
 "nbformat": 4,
 "nbformat_minor": 5
}
